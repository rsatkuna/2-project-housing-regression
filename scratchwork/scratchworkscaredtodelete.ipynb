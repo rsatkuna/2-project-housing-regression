{
 "cells": [
  {
   "cell_type": "code",
   "execution_count": 1,
   "id": "bd15dbcc-bb9c-497a-9d1c-33fab4c0a603",
   "metadata": {},
   "outputs": [],
   "source": [
    "import pandas as pd\n",
    "import matplotlib.pyplot as plt\n",
    "import seaborn as sns\n",
    "import numpy as np\n",
    "from scipy.stats import norm\n",
    "from sklearn.preprocessing import StandardScaler\n",
    "from sklearn.impute import KNNImputer, SimpleImputer\n",
    "from scipy import stats\n",
    "import os\n",
    "import re\n",
    "import warnings\n",
    "warnings.filterwarnings('ignore')\n",
    "%matplotlib inline\n",
    "from statsmodels.stats.outliers_influence import variance_inflation_factor\n",
    "from statsmodels.tools.tools import add_constant\n",
    "from sklearn.model_selection import train_test_split, cross_val_score, cross_val_predict, KFold\n",
    "from sklearn.linear_model import LinearRegression"
   ]
  },
  {
   "cell_type": "code",
   "execution_count": 2,
   "id": "7004575b-6431-450c-bf2d-550173b50f2a",
   "metadata": {},
   "outputs": [],
   "source": [
    "test = pd.read_csv('datasets/test.csv')"
   ]
  },
  {
   "cell_type": "code",
   "execution_count": 3,
   "id": "a2a6dc62-287d-47d6-a235-adfd1698bfda",
   "metadata": {},
   "outputs": [],
   "source": [
    "pd.set_option('display.max_columns',100)"
   ]
  },
  {
   "cell_type": "code",
   "execution_count": 4,
   "id": "5749d711-3a82-4032-b1e0-6efe93d3ee58",
   "metadata": {},
   "outputs": [],
   "source": [
    "nominal = ['Id', 'PID', 'MS SubClass', 'MS Zoning', 'Street', 'Alley', 'Land Contour', 'Lot Config', 'Neighborhood','Condition 1','Condition 2', 'Bldg Type', 'House Style', 'Roof Style','Roof Matl','Exterior 1st','Exterior 2nd','Mas Vnr Type','Foundation', 'Heating', 'Central Air', 'Garage Type', 'Misc Feature', 'Sale Type'] \n",
    "ordinal = ['Lot Shape','Utilities','Land Slope','Overall Qual','Overall Cond','Exter Qual','Exter Cond','Bsmt Qual', 'Bsmt Cond','Bsmt Exposure','BsmtFin Type 1','BsmtFin Type 2','Heating QC', 'Electrical', 'Kitchen Qual','Functional', 'Fireplace Qu', 'Garage Finish', 'Garage Qual','Garage Cond', 'Paved Drive', 'Pool QC', 'Fence']\n",
    "continuous = ['Lot Frontage', 'Lot Area', 'Mas Vnr Area','BsmtFin SF 1', 'BsmtFin SF 2', 'Bsmt Unf SF', 'Total Bsmt SF', '1st Flr SF', '2nd Flr SF', 'Gr Liv Area', 'Garage Area', 'Wood Deck SF', 'Open Porch SF', 'Enclosed Porch','3Ssn Porch', 'Screen Porch', 'Pool Area', 'Misc Val']\n",
    "discrete = ['Year Built','Year Remod/Add', 'Bsmt Full Bath', 'Bsmt Half Bath', 'Full Bath','Half Bath','Bedroom AbvGr','Kitchen AbvGr','TotRms AbvGrd','Fireplaces','Garage Yr Blt', 'Garage Cars', 'Mo Sold', 'Yr Sold'] "
   ]
  },
  {
   "cell_type": "code",
   "execution_count": 5,
   "id": "ead9e8f1-a157-4ddc-960b-5b8c2a9a85f3",
   "metadata": {},
   "outputs": [],
   "source": [
    "test['Alley']=test['Alley'].map({'Grvl': 1, 'Pave':1, np.nan:0})"
   ]
  },
  {
   "cell_type": "code",
   "execution_count": 6,
   "id": "e06e4efe-abe8-4a05-80d1-ec333f10de78",
   "metadata": {},
   "outputs": [],
   "source": [
    "test['Garage Type'] = test['Garage Type'].replace(np.nan,test['Garage Type'].mode()[0])\n"
   ]
  },
  {
   "cell_type": "code",
   "execution_count": 7,
   "id": "64b4fcff-84c4-46cb-8799-d543b0081af6",
   "metadata": {},
   "outputs": [],
   "source": [
    "test['Mas Vnr Type']= test['Mas Vnr Type'].replace(np.nan,test['Mas Vnr Type'].mode()[0])\n"
   ]
  },
  {
   "cell_type": "code",
   "execution_count": 8,
   "id": "7bd17c59-c9ab-4a05-8591-60c6a1e6b7a7",
   "metadata": {},
   "outputs": [
    {
     "data": {
      "text/plain": [
       "0      Fa\n",
       "1      Gd\n",
       "2      Gd\n",
       "3      TA\n",
       "4      Gd\n",
       "       ..\n",
       "873    TA\n",
       "874    TA\n",
       "875    TA\n",
       "876    TA\n",
       "877    TA\n",
       "Name: Bsmt Qual, Length: 878, dtype: object"
      ]
     },
     "execution_count": 8,
     "metadata": {},
     "output_type": "execute_result"
    }
   ],
   "source": [
    "test[ordinal]['Bsmt Qual'].replace(np.nan,test[ordinal]['Bsmt Qual'].mode()[0])"
   ]
  },
  {
   "cell_type": "code",
   "execution_count": 9,
   "id": "946151f3-9464-4cbf-bf61-58b7883d68f1",
   "metadata": {},
   "outputs": [],
   "source": [
    "test[ordinal]= test[ordinal].replace(np.nan,'NA')\n"
   ]
  },
  {
   "cell_type": "code",
   "execution_count": 10,
   "id": "5a76f24b-dfc9-4afb-98aa-a48f3774cde2",
   "metadata": {},
   "outputs": [],
   "source": [
    "imputer = KNNImputer(n_neighbors=5)\n",
    "cont_transformed = pd.DataFrame(imputer.fit_transform(test[continuous]),columns=continuous)\n",
    "cont_transformed.set_index(test.index,inplace=True)"
   ]
  },
  {
   "cell_type": "code",
   "execution_count": 11,
   "id": "e8a17f6e-f8d2-4746-886c-2b7adb02ebe3",
   "metadata": {},
   "outputs": [],
   "source": [
    "test[continuous]=cont_transformed"
   ]
  },
  {
   "cell_type": "code",
   "execution_count": 12,
   "id": "77e2004f-fd00-491d-bd83-58622597dc93",
   "metadata": {},
   "outputs": [],
   "source": [
    "imp_mode = SimpleImputer(missing_values=np.nan, strategy = 'most_frequent', copy=False)\n",
    "ont_transformed=pd.DataFrame(imp_mode.fit_transform(test[discrete]), columns=discrete)\n",
    "ont_transformed.set_index(test.index,inplace=True)"
   ]
  },
  {
   "cell_type": "code",
   "execution_count": 13,
   "id": "fab45fd3-7bbb-42cd-b84f-73c502f6c179",
   "metadata": {},
   "outputs": [],
   "source": [
    "test[discrete]=ont_transformed"
   ]
  },
  {
   "cell_type": "code",
   "execution_count": 14,
   "id": "f2f362f2-2d21-4927-a832-ea63039d2806",
   "metadata": {},
   "outputs": [],
   "source": [
    "test = test.drop(['Misc Feature', 'Pool QC'], axis = 1)\n"
   ]
  },
  {
   "cell_type": "code",
   "execution_count": 15,
   "id": "ee647b82-8991-4beb-b800-5f88e1678d15",
   "metadata": {},
   "outputs": [],
   "source": [
    "test = test[(np.abs(stats.zscore(test[continuous+discrete])) < 3).all(axis=1)]\n"
   ]
  },
  {
   "cell_type": "code",
   "execution_count": 16,
   "id": "309665fb-28aa-4bfc-a897-4a9592643b2c",
   "metadata": {},
   "outputs": [],
   "source": [
    "ordinal = ['Lot Shape','Utilities','Land Slope','Overall Qual','Overall Cond','Exter Qual','Exter Cond','Bsmt Qual', 'Bsmt Cond','Bsmt Exposure','BsmtFin Type 1','BsmtFin Type 2','Heating QC', 'Electrical', 'Kitchen Qual','Functional', 'Fireplace Qu', 'Garage Finish', 'Garage Qual','Garage Cond', 'Paved Drive', 'Fence']"
   ]
  },
  {
   "cell_type": "code",
   "execution_count": 17,
   "id": "930ef7f8-1374-4f56-9bde-e6a712977f12",
   "metadata": {},
   "outputs": [],
   "source": [
    "test = test.replace({'Lot Shape': {'Reg': 3,'IR1': 2, 'IR2': 1, 'IR3': 2}, 'Utilities': {'AllPub': 1, 'NoSewr': 0},\n",
    "           'Land Slope': {'Gtl':0,'Mod':1,'Sev':2}, 'Exter Qual': {'Ex':3, 'Gd':2, 'TA':1,'Fa':0}, 'Exter Cond':{'Po':0,'Fa':1,'TA':2,'Gd':3,'Ex':4},\n",
    "            'Bsmt Qual': {'NA':0,'Po':1,'Fa':2,'TA':3,'Gd':4,'Ex':5}, 'Bsmt Cond': {'NA':0,'Po':1,'Fa':2,'TA':3,'Gd':4,'Ex':5}, \n",
    "            'Bsmt Exposure': {'Gd':4,'Av':3,'Mn':2,'No':1, 'NA':0}, 'BsmtFin Type 1':{'GLQ':6,'ALQ':5,'BLQ':4,'Rec':3,'LwQ':2,'Unf':1,'NA':0},\n",
    "            'BsmtFin Type 2': {'GLQ':6,'ALQ':5,'BLQ':4,'Rec':3,'LwQ':2,'Unf':1,'NA':0}, 'Heating QC': {'Ex':5,'Gd':4,'TA':3,'Fa':2,'Po':1}, \n",
    "            'Electrical': {'SBrkr':5,'FuseA':4,'FuseF':3,'FuseP':2,'Mix':1, 'NA':0}, 'Kitchen Qual':{'Ex':5,'Gd':4,'TA':3,'Fa':2,'Po':1},\n",
    "            'Functional' : {'Typ':8,'Min1':7,'Min2':6,'Mod':5,'Maj1':4,'Maj2':3,'Sev':2,'Sal':1}, 'Fireplace Qu': {'Ex':5,'Gd':4,'TA':3,'Fa':2,'Po':1, 'NA':0},\n",
    "            'Garage Finish':{'Fin':3,'RFn':2,'Unf':1,'NA':0}, 'Garage Qual':{'Ex':5,'Gd':4,'TA':3,'Fa':2,'Po':1,'NA':0},\n",
    "            'Garage Cond':{'Ex':5,'Gd':4,'TA':3,'Fa':2,'Po':1,'NA':0}, 'Paved Drive': {'Y':3,'P':2,'N':1},\n",
    "            'Fence': {'GdPrv':4,'MnPrv':3,'GdWo':2,'MnWw':1,'NA':0} })"
   ]
  },
  {
   "cell_type": "code",
   "execution_count": 18,
   "id": "e2d5956c-ee69-49f4-a603-cd43c90cb86d",
   "metadata": {},
   "outputs": [],
   "source": [
    "nominal = ['MS Zoning', 'Street', 'Land Contour', 'Lot Config', 'Neighborhood','Condition 1','Condition 2', 'Bldg Type', 'House Style', 'Roof Style','Roof Matl','Exterior 1st','Exterior 2nd','Mas Vnr Type','Foundation', 'Heating', 'Central Air', 'Garage Type', 'Sale Type'] "
   ]
  },
  {
   "cell_type": "code",
   "execution_count": 19,
   "id": "053cc612-364b-485e-9160-47a6402530e9",
   "metadata": {},
   "outputs": [],
   "source": [
    "def convert_to_snake_case(df):\n",
    "    #add a space between any lowercase-capital letter pair, then replace spaces with _, the all to lowercase\n",
    "    new_cols = {col: re.sub(r\"([a-z]{1})([A-Z]{1})\", r\"\\1 \\2\", col).replace(\" \", \"_\").lower() for col in df.columns}\n",
    "    return df.rename(columns = new_cols, inplace = True)\n",
    "# from B~\n"
   ]
  },
  {
   "cell_type": "code",
   "execution_count": 20,
   "id": "addded23-888a-4741-ac69-45a350ee8dae",
   "metadata": {},
   "outputs": [],
   "source": [
    "convert_to_snake_case(test)"
   ]
  },
  {
   "cell_type": "code",
   "execution_count": 21,
   "id": "579d116e-1c94-423f-915f-a309fb6fbff4",
   "metadata": {},
   "outputs": [],
   "source": [
    "ordinal = ['lot_shape','utilities','land_slope','overall_qual','overall_cond','exter_qual','exter_cond','bsmt_qual', 'bsmt_cond','bsmt_exposure','bsmt_fin_type_1','bsmt_fin_type_2','heating_qc', 'electrical', 'kitchen_qual','functional', 'fireplace_qu', 'garage_finish', 'garage_qual','garage_cond', 'paved_drive', 'fence']"
   ]
  },
  {
   "cell_type": "code",
   "execution_count": 22,
   "id": "d79f7455-0b65-452a-b1ce-f35721e95c07",
   "metadata": {},
   "outputs": [],
   "source": [
    "nominal = ['ms_zoning', 'street', 'land_contour', 'lot_config', 'neighborhood','condition_1','condition_2', 'bldg_type', 'house_style', 'roof_style','roof_matl','exterior_1st','exterior_2nd','mas_vnr_type','foundation', 'heating', 'central_air', 'garage_type', 'sale_type'] "
   ]
  },
  {
   "cell_type": "code",
   "execution_count": 23,
   "id": "c3666fde-0d3c-4803-9f33-145b9e195c72",
   "metadata": {},
   "outputs": [],
   "source": [
    "continuous = ['lot_frontage', 'lot_area', 'mas_vnr_area','bsmt_fin_sf_1', 'bsmt_fin_sf_2', 'bsmt_unf_sf', 'total_bsmt_sf', '1st_flr_sf', '2nd_flr_sf', 'gr_liv_area', 'garage_area', 'wood_deck_sf', 'open_porch_sf', 'enclosed_porch','3ssn_porch', 'screen_porch', 'pool_area', 'misc_val']  \n",
    "discrete = ['year_built','year_remod/add', 'bsmt_full_bath', 'bsmt_half_bath', 'full_bath','half_bath','bedroom_abv_gr','kitchen_abv_gr','tot_rms_abv_grd','fireplaces','garage_yr_blt', 'garage_cars', 'mo_sold', 'yr_sold'] "
   ]
  },
  {
   "cell_type": "code",
   "execution_count": 24,
   "id": "f42cc2a8-c896-4a25-8f86-43c6fd6dd8d5",
   "metadata": {},
   "outputs": [
    {
     "data": {
      "text/plain": [
       "set()"
      ]
     },
     "execution_count": 24,
     "metadata": {},
     "output_type": "execute_result"
    }
   ],
   "source": [
    "set(test[ordinal+nominal+continuous+discrete])-set(test)"
   ]
  },
  {
   "cell_type": "code",
   "execution_count": 25,
   "id": "69745e7c-601b-4995-8de1-d670048e5c93",
   "metadata": {},
   "outputs": [
    {
     "data": {
      "text/plain": [
       "{'alley', 'id', 'low_qual_fin_sf', 'ms_sub_class', 'pid'}"
      ]
     },
     "execution_count": 25,
     "metadata": {},
     "output_type": "execute_result"
    }
   ],
   "source": [
    "set(test)-set(test[ordinal+nominal+continuous+discrete])"
   ]
  },
  {
   "cell_type": "code",
   "execution_count": 27,
   "id": "2167032a-94bd-4b21-a1c8-c8c235ea4a7b",
   "metadata": {},
   "outputs": [
    {
     "data": {
      "text/plain": [
       "0"
      ]
     },
     "execution_count": 27,
     "metadata": {},
     "output_type": "execute_result"
    }
   ],
   "source": [
    "test.isna().sum().sum()"
   ]
  },
  {
   "cell_type": "code",
   "execution_count": 28,
   "id": "b6442c96-0a8b-409f-b438-d632eb9abe96",
   "metadata": {},
   "outputs": [],
   "source": [
    "test = pd.get_dummies(test, drop_first=True)"
   ]
  },
  {
   "cell_type": "code",
   "execution_count": null,
   "id": "7b949b04-aebc-45e7-9857-30e7ab5900f7",
   "metadata": {},
   "outputs": [],
   "source": [
    "set(nominal)-set(test[nominal].columns)"
   ]
  },
  {
   "cell_type": "code",
   "execution_count": 30,
   "id": "914a3b9e-d215-478c-a072-7f37465574f2",
   "metadata": {},
   "outputs": [
    {
     "data": {
      "text/plain": [
       "(649, 173)"
      ]
     },
     "execution_count": 30,
     "metadata": {},
     "output_type": "execute_result"
    }
   ],
   "source": [
    "test.shape"
   ]
  },
  {
   "cell_type": "code",
   "execution_count": 33,
   "id": "c9e0833a-606b-4064-9c81-11a755bd6e24",
   "metadata": {},
   "outputs": [],
   "source": [
    "Z_train = pd.read_csv('cleaned_datasets/Z_train.csv')\n"
   ]
  },
  {
   "cell_type": "code",
   "execution_count": 34,
   "id": "72426f3f-ce99-42bf-b1db-35c65948ce29",
   "metadata": {},
   "outputs": [
    {
     "data": {
      "text/plain": [
       "{'condition_2_Feedr', 'heating_Wall', 'sale_type_Con'}"
      ]
     },
     "execution_count": 34,
     "metadata": {},
     "output_type": "execute_result"
    }
   ],
   "source": [
    "set(Z_train)-set(test)"
   ]
  },
  {
   "cell_type": "code",
   "execution_count": 37,
   "id": "d9865f67-d9d5-4754-947e-0c4bc9c890c0",
   "metadata": {},
   "outputs": [],
   "source": [
    "Z_train=Z_train.drop(['condition_2_Feedr', 'heating_Wall', 'sale_type_Con'], axis=1)"
   ]
  },
  {
   "cell_type": "code",
   "execution_count": 35,
   "id": "e13dbf4d-157b-44f4-a4e3-1f58a0df7e89",
   "metadata": {},
   "outputs": [
    {
     "data": {
      "text/plain": [
       "{'condition_1_RRNe',\n",
       " 'condition_1_RRNn',\n",
       " 'exterior_1st_BrkComm',\n",
       " 'exterior_1st_PreCast',\n",
       " 'exterior_2nd_Brk Cmn',\n",
       " 'exterior_2nd_Other',\n",
       " 'exterior_2nd_PreCast',\n",
       " 'heating_GasA',\n",
       " 'house_style_2.5Fin',\n",
       " 'mas_vnr_type_CBlock',\n",
       " 'neighborhood_NPkVill',\n",
       " 'roof_matl_WdShake',\n",
       " 'roof_matl_WdShngl',\n",
       " 'roof_style_Shed'}"
      ]
     },
     "execution_count": 35,
     "metadata": {},
     "output_type": "execute_result"
    }
   ],
   "source": [
    "set(test)-set(Z_train)"
   ]
  },
  {
   "cell_type": "code",
   "execution_count": 38,
   "id": "777422ca-e19b-431e-bc9d-812188afb0f6",
   "metadata": {},
   "outputs": [],
   "source": [
    "test = test.drop(['condition_1_RRNe',\n",
    " 'condition_1_RRNn',\n",
    " 'exterior_1st_BrkComm',\n",
    " 'exterior_1st_PreCast',\n",
    " 'exterior_2nd_Brk Cmn',\n",
    " 'exterior_2nd_Other',\n",
    " 'exterior_2nd_PreCast',\n",
    " 'heating_GasA',\n",
    " 'house_style_2.5Fin',\n",
    " 'mas_vnr_type_CBlock',\n",
    " 'neighborhood_NPkVill',\n",
    " 'roof_matl_WdShake',\n",
    " 'roof_matl_WdShngl',\n",
    " 'roof_style_Shed'], axis=1)\n"
   ]
  },
  {
   "cell_type": "code",
   "execution_count": 36,
   "id": "d134bde0-72e6-4ada-8e6f-9393c4728cc3",
   "metadata": {},
   "outputs": [],
   "source": [
    "Z_test=pd.read_csv('cleaned_datasets/Z_test.csv')"
   ]
  },
  {
   "cell_type": "code",
   "execution_count": 45,
   "id": "e2cf907b-99fa-4eb1-bd3c-09f08a619e5d",
   "metadata": {},
   "outputs": [],
   "source": [
    "Z_test = Z_test.drop(['condition_2_Feedr', 'heating_Wall', 'sale_type_Con'], axis=1)\n"
   ]
  },
  {
   "cell_type": "code",
   "execution_count": 39,
   "id": "655923dc-5b46-4fd6-82f4-0a155d0b0835",
   "metadata": {},
   "outputs": [
    {
     "data": {
      "text/plain": [
       "set()"
      ]
     },
     "execution_count": 39,
     "metadata": {},
     "output_type": "execute_result"
    }
   ],
   "source": [
    "set(Z_train)-set(Z_test)"
   ]
  },
  {
   "cell_type": "code",
   "execution_count": 47,
   "id": "0e38a47f-239e-424a-ac88-5139f32c9f55",
   "metadata": {},
   "outputs": [
    {
     "data": {
      "text/plain": [
       "set()"
      ]
     },
     "execution_count": 47,
     "metadata": {},
     "output_type": "execute_result"
    }
   ],
   "source": [
    "set(Z_test)-set(Z_train)"
   ]
  },
  {
   "cell_type": "code",
   "execution_count": 46,
   "id": "3df018bb-f64e-4121-b2d5-85dc82241c5d",
   "metadata": {},
   "outputs": [
    {
     "data": {
      "text/plain": [
       "set()"
      ]
     },
     "execution_count": 46,
     "metadata": {},
     "output_type": "execute_result"
    }
   ],
   "source": [
    "set(Z_test)-set(test)"
   ]
  },
  {
   "cell_type": "code",
   "execution_count": 41,
   "id": "e8cb5a02-7974-4dd8-8b47-d0f79a502ffa",
   "metadata": {},
   "outputs": [
    {
     "data": {
      "text/plain": [
       "set()"
      ]
     },
     "execution_count": 41,
     "metadata": {},
     "output_type": "execute_result"
    }
   ],
   "source": [
    "set(test)-set(Z_test)"
   ]
  },
  {
   "cell_type": "code",
   "execution_count": 43,
   "id": "85207648-4dd2-4646-9121-ac547620f951",
   "metadata": {},
   "outputs": [
    {
     "data": {
      "text/plain": [
       "set()"
      ]
     },
     "execution_count": 43,
     "metadata": {},
     "output_type": "execute_result"
    }
   ],
   "source": [
    "set(Z_train) - set(test)"
   ]
  },
  {
   "cell_type": "code",
   "execution_count": 44,
   "id": "19b70eca-c575-4f2e-a7f5-4307eeca67b5",
   "metadata": {},
   "outputs": [
    {
     "data": {
      "text/plain": [
       "set()"
      ]
     },
     "execution_count": 44,
     "metadata": {},
     "output_type": "execute_result"
    }
   ],
   "source": [
    "set(test)-set(Z_train)"
   ]
  },
  {
   "cell_type": "code",
   "execution_count": null,
   "id": "4811b4b3-f439-4293-900f-2bcdc6f63a50",
   "metadata": {},
   "outputs": [],
   "source": []
  }
 ],
 "metadata": {
  "kernelspec": {
   "display_name": "Python [conda env:dsi]",
   "language": "python",
   "name": "conda-env-dsi-py"
  },
  "language_info": {
   "codemirror_mode": {
    "name": "ipython",
    "version": 3
   },
   "file_extension": ".py",
   "mimetype": "text/x-python",
   "name": "python",
   "nbconvert_exporter": "python",
   "pygments_lexer": "ipython3",
   "version": "3.9.7"
  }
 },
 "nbformat": 4,
 "nbformat_minor": 5
}
