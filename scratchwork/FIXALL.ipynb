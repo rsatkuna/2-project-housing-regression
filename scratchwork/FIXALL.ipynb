{
 "cells": [
  {
   "cell_type": "code",
   "execution_count": 1,
   "id": "9dc1e53b-1711-4424-a6d9-c4d32b6906f4",
   "metadata": {},
   "outputs": [],
   "source": [
    "\n",
    "# imports\n",
    "\n",
    "import pandas as pd\n",
    "import matplotlib.pyplot as plt\n",
    "import seaborn as sns\n",
    "import numpy as np\n",
    "from scipy.stats import norm\n",
    "from sklearn.preprocessing import StandardScaler\n",
    "from sklearn.impute import KNNImputer, SimpleImputer\n",
    "from scipy import stats\n",
    "import os\n",
    "import re\n",
    "import warnings\n",
    "warnings.filterwarnings('ignore')\n",
    "%matplotlib inline\n",
    "from statsmodels.stats.outliers_influence import variance_inflation_factor\n",
    "from statsmodels.tools.tools import add_constant\n",
    "from sklearn.model_selection import train_test_split, cross_val_score, cross_val_predict, KFold\n",
    "from sklearn.linear_model import LinearRegression\n"
   ]
  },
  {
   "cell_type": "code",
   "execution_count": 2,
   "id": "539385f7-24f8-4769-bb46-c8c97a53f0c8",
   "metadata": {},
   "outputs": [],
   "source": [
    "X = pd.read_csv('fixme/train.csv')\n",
    "# Loading in training set"
   ]
  },
  {
   "cell_type": "code",
   "execution_count": 3,
   "id": "85dce641-9314-4032-96fb-9788ca38046e",
   "metadata": {},
   "outputs": [],
   "source": [
    "pd.set_option('display.max_columns',100)"
   ]
  },
  {
   "cell_type": "code",
   "execution_count": 4,
   "id": "958b6232-52f2-47a2-87ca-905165590e4b",
   "metadata": {},
   "outputs": [
    {
     "data": {
      "text/html": [
       "<div>\n",
       "<style scoped>\n",
       "    .dataframe tbody tr th:only-of-type {\n",
       "        vertical-align: middle;\n",
       "    }\n",
       "\n",
       "    .dataframe tbody tr th {\n",
       "        vertical-align: top;\n",
       "    }\n",
       "\n",
       "    .dataframe thead th {\n",
       "        text-align: right;\n",
       "    }\n",
       "</style>\n",
       "<table border=\"1\" class=\"dataframe\">\n",
       "  <thead>\n",
       "    <tr style=\"text-align: right;\">\n",
       "      <th></th>\n",
       "      <th>Id</th>\n",
       "      <th>PID</th>\n",
       "      <th>MS SubClass</th>\n",
       "      <th>MS Zoning</th>\n",
       "      <th>Lot Frontage</th>\n",
       "      <th>Lot Area</th>\n",
       "      <th>Street</th>\n",
       "      <th>Alley</th>\n",
       "      <th>Lot Shape</th>\n",
       "      <th>Land Contour</th>\n",
       "      <th>Utilities</th>\n",
       "      <th>Lot Config</th>\n",
       "      <th>Land Slope</th>\n",
       "      <th>Neighborhood</th>\n",
       "      <th>Condition 1</th>\n",
       "      <th>Condition 2</th>\n",
       "      <th>Bldg Type</th>\n",
       "      <th>House Style</th>\n",
       "      <th>Overall Qual</th>\n",
       "      <th>Overall Cond</th>\n",
       "      <th>Year Built</th>\n",
       "      <th>Year Remod/Add</th>\n",
       "      <th>Roof Style</th>\n",
       "      <th>Roof Matl</th>\n",
       "      <th>Exterior 1st</th>\n",
       "      <th>Exterior 2nd</th>\n",
       "      <th>Mas Vnr Type</th>\n",
       "      <th>Mas Vnr Area</th>\n",
       "      <th>Exter Qual</th>\n",
       "      <th>Exter Cond</th>\n",
       "      <th>Foundation</th>\n",
       "      <th>Bsmt Qual</th>\n",
       "      <th>Bsmt Cond</th>\n",
       "      <th>Bsmt Exposure</th>\n",
       "      <th>BsmtFin Type 1</th>\n",
       "      <th>BsmtFin SF 1</th>\n",
       "      <th>BsmtFin Type 2</th>\n",
       "      <th>BsmtFin SF 2</th>\n",
       "      <th>Bsmt Unf SF</th>\n",
       "      <th>Total Bsmt SF</th>\n",
       "      <th>Heating</th>\n",
       "      <th>Heating QC</th>\n",
       "      <th>Central Air</th>\n",
       "      <th>Electrical</th>\n",
       "      <th>1st Flr SF</th>\n",
       "      <th>2nd Flr SF</th>\n",
       "      <th>Low Qual Fin SF</th>\n",
       "      <th>Gr Liv Area</th>\n",
       "      <th>Bsmt Full Bath</th>\n",
       "      <th>Bsmt Half Bath</th>\n",
       "      <th>Full Bath</th>\n",
       "      <th>Half Bath</th>\n",
       "      <th>Bedroom AbvGr</th>\n",
       "      <th>Kitchen AbvGr</th>\n",
       "      <th>Kitchen Qual</th>\n",
       "      <th>TotRms AbvGrd</th>\n",
       "      <th>Functional</th>\n",
       "      <th>Fireplaces</th>\n",
       "      <th>Fireplace Qu</th>\n",
       "      <th>Garage Type</th>\n",
       "      <th>Garage Yr Blt</th>\n",
       "      <th>Garage Finish</th>\n",
       "      <th>Garage Cars</th>\n",
       "      <th>Garage Area</th>\n",
       "      <th>Garage Qual</th>\n",
       "      <th>Garage Cond</th>\n",
       "      <th>Paved Drive</th>\n",
       "      <th>Wood Deck SF</th>\n",
       "      <th>Open Porch SF</th>\n",
       "      <th>Enclosed Porch</th>\n",
       "      <th>3Ssn Porch</th>\n",
       "      <th>Screen Porch</th>\n",
       "      <th>Pool Area</th>\n",
       "      <th>Pool QC</th>\n",
       "      <th>Fence</th>\n",
       "      <th>Misc Feature</th>\n",
       "      <th>Misc Val</th>\n",
       "      <th>Mo Sold</th>\n",
       "      <th>Yr Sold</th>\n",
       "      <th>Sale Type</th>\n",
       "      <th>SalePrice</th>\n",
       "    </tr>\n",
       "  </thead>\n",
       "  <tbody>\n",
       "    <tr>\n",
       "      <th>0</th>\n",
       "      <td>109</td>\n",
       "      <td>533352170</td>\n",
       "      <td>60</td>\n",
       "      <td>RL</td>\n",
       "      <td>NaN</td>\n",
       "      <td>13517</td>\n",
       "      <td>Pave</td>\n",
       "      <td>NaN</td>\n",
       "      <td>IR1</td>\n",
       "      <td>Lvl</td>\n",
       "      <td>AllPub</td>\n",
       "      <td>CulDSac</td>\n",
       "      <td>Gtl</td>\n",
       "      <td>Sawyer</td>\n",
       "      <td>RRAe</td>\n",
       "      <td>Norm</td>\n",
       "      <td>1Fam</td>\n",
       "      <td>2Story</td>\n",
       "      <td>6</td>\n",
       "      <td>8</td>\n",
       "      <td>1976</td>\n",
       "      <td>2005</td>\n",
       "      <td>Gable</td>\n",
       "      <td>CompShg</td>\n",
       "      <td>HdBoard</td>\n",
       "      <td>Plywood</td>\n",
       "      <td>BrkFace</td>\n",
       "      <td>289.0</td>\n",
       "      <td>Gd</td>\n",
       "      <td>TA</td>\n",
       "      <td>CBlock</td>\n",
       "      <td>TA</td>\n",
       "      <td>TA</td>\n",
       "      <td>No</td>\n",
       "      <td>GLQ</td>\n",
       "      <td>533.0</td>\n",
       "      <td>Unf</td>\n",
       "      <td>0.0</td>\n",
       "      <td>192.0</td>\n",
       "      <td>725.0</td>\n",
       "      <td>GasA</td>\n",
       "      <td>Ex</td>\n",
       "      <td>Y</td>\n",
       "      <td>SBrkr</td>\n",
       "      <td>725</td>\n",
       "      <td>754</td>\n",
       "      <td>0</td>\n",
       "      <td>1479</td>\n",
       "      <td>0.0</td>\n",
       "      <td>0.0</td>\n",
       "      <td>2</td>\n",
       "      <td>1</td>\n",
       "      <td>3</td>\n",
       "      <td>1</td>\n",
       "      <td>Gd</td>\n",
       "      <td>6</td>\n",
       "      <td>Typ</td>\n",
       "      <td>0</td>\n",
       "      <td>NaN</td>\n",
       "      <td>Attchd</td>\n",
       "      <td>1976.0</td>\n",
       "      <td>RFn</td>\n",
       "      <td>2.0</td>\n",
       "      <td>475.0</td>\n",
       "      <td>TA</td>\n",
       "      <td>TA</td>\n",
       "      <td>Y</td>\n",
       "      <td>0</td>\n",
       "      <td>44</td>\n",
       "      <td>0</td>\n",
       "      <td>0</td>\n",
       "      <td>0</td>\n",
       "      <td>0</td>\n",
       "      <td>NaN</td>\n",
       "      <td>NaN</td>\n",
       "      <td>NaN</td>\n",
       "      <td>0</td>\n",
       "      <td>3</td>\n",
       "      <td>2010</td>\n",
       "      <td>WD</td>\n",
       "      <td>130500</td>\n",
       "    </tr>\n",
       "    <tr>\n",
       "      <th>1</th>\n",
       "      <td>544</td>\n",
       "      <td>531379050</td>\n",
       "      <td>60</td>\n",
       "      <td>RL</td>\n",
       "      <td>43.0</td>\n",
       "      <td>11492</td>\n",
       "      <td>Pave</td>\n",
       "      <td>NaN</td>\n",
       "      <td>IR1</td>\n",
       "      <td>Lvl</td>\n",
       "      <td>AllPub</td>\n",
       "      <td>CulDSac</td>\n",
       "      <td>Gtl</td>\n",
       "      <td>SawyerW</td>\n",
       "      <td>Norm</td>\n",
       "      <td>Norm</td>\n",
       "      <td>1Fam</td>\n",
       "      <td>2Story</td>\n",
       "      <td>7</td>\n",
       "      <td>5</td>\n",
       "      <td>1996</td>\n",
       "      <td>1997</td>\n",
       "      <td>Gable</td>\n",
       "      <td>CompShg</td>\n",
       "      <td>VinylSd</td>\n",
       "      <td>VinylSd</td>\n",
       "      <td>BrkFace</td>\n",
       "      <td>132.0</td>\n",
       "      <td>Gd</td>\n",
       "      <td>TA</td>\n",
       "      <td>PConc</td>\n",
       "      <td>Gd</td>\n",
       "      <td>TA</td>\n",
       "      <td>No</td>\n",
       "      <td>GLQ</td>\n",
       "      <td>637.0</td>\n",
       "      <td>Unf</td>\n",
       "      <td>0.0</td>\n",
       "      <td>276.0</td>\n",
       "      <td>913.0</td>\n",
       "      <td>GasA</td>\n",
       "      <td>Ex</td>\n",
       "      <td>Y</td>\n",
       "      <td>SBrkr</td>\n",
       "      <td>913</td>\n",
       "      <td>1209</td>\n",
       "      <td>0</td>\n",
       "      <td>2122</td>\n",
       "      <td>1.0</td>\n",
       "      <td>0.0</td>\n",
       "      <td>2</td>\n",
       "      <td>1</td>\n",
       "      <td>4</td>\n",
       "      <td>1</td>\n",
       "      <td>Gd</td>\n",
       "      <td>8</td>\n",
       "      <td>Typ</td>\n",
       "      <td>1</td>\n",
       "      <td>TA</td>\n",
       "      <td>Attchd</td>\n",
       "      <td>1997.0</td>\n",
       "      <td>RFn</td>\n",
       "      <td>2.0</td>\n",
       "      <td>559.0</td>\n",
       "      <td>TA</td>\n",
       "      <td>TA</td>\n",
       "      <td>Y</td>\n",
       "      <td>0</td>\n",
       "      <td>74</td>\n",
       "      <td>0</td>\n",
       "      <td>0</td>\n",
       "      <td>0</td>\n",
       "      <td>0</td>\n",
       "      <td>NaN</td>\n",
       "      <td>NaN</td>\n",
       "      <td>NaN</td>\n",
       "      <td>0</td>\n",
       "      <td>4</td>\n",
       "      <td>2009</td>\n",
       "      <td>WD</td>\n",
       "      <td>220000</td>\n",
       "    </tr>\n",
       "    <tr>\n",
       "      <th>2</th>\n",
       "      <td>153</td>\n",
       "      <td>535304180</td>\n",
       "      <td>20</td>\n",
       "      <td>RL</td>\n",
       "      <td>68.0</td>\n",
       "      <td>7922</td>\n",
       "      <td>Pave</td>\n",
       "      <td>NaN</td>\n",
       "      <td>Reg</td>\n",
       "      <td>Lvl</td>\n",
       "      <td>AllPub</td>\n",
       "      <td>Inside</td>\n",
       "      <td>Gtl</td>\n",
       "      <td>NAmes</td>\n",
       "      <td>Norm</td>\n",
       "      <td>Norm</td>\n",
       "      <td>1Fam</td>\n",
       "      <td>1Story</td>\n",
       "      <td>5</td>\n",
       "      <td>7</td>\n",
       "      <td>1953</td>\n",
       "      <td>2007</td>\n",
       "      <td>Gable</td>\n",
       "      <td>CompShg</td>\n",
       "      <td>VinylSd</td>\n",
       "      <td>VinylSd</td>\n",
       "      <td>None</td>\n",
       "      <td>0.0</td>\n",
       "      <td>TA</td>\n",
       "      <td>Gd</td>\n",
       "      <td>CBlock</td>\n",
       "      <td>TA</td>\n",
       "      <td>TA</td>\n",
       "      <td>No</td>\n",
       "      <td>GLQ</td>\n",
       "      <td>731.0</td>\n",
       "      <td>Unf</td>\n",
       "      <td>0.0</td>\n",
       "      <td>326.0</td>\n",
       "      <td>1057.0</td>\n",
       "      <td>GasA</td>\n",
       "      <td>TA</td>\n",
       "      <td>Y</td>\n",
       "      <td>SBrkr</td>\n",
       "      <td>1057</td>\n",
       "      <td>0</td>\n",
       "      <td>0</td>\n",
       "      <td>1057</td>\n",
       "      <td>1.0</td>\n",
       "      <td>0.0</td>\n",
       "      <td>1</td>\n",
       "      <td>0</td>\n",
       "      <td>3</td>\n",
       "      <td>1</td>\n",
       "      <td>Gd</td>\n",
       "      <td>5</td>\n",
       "      <td>Typ</td>\n",
       "      <td>0</td>\n",
       "      <td>NaN</td>\n",
       "      <td>Detchd</td>\n",
       "      <td>1953.0</td>\n",
       "      <td>Unf</td>\n",
       "      <td>1.0</td>\n",
       "      <td>246.0</td>\n",
       "      <td>TA</td>\n",
       "      <td>TA</td>\n",
       "      <td>Y</td>\n",
       "      <td>0</td>\n",
       "      <td>52</td>\n",
       "      <td>0</td>\n",
       "      <td>0</td>\n",
       "      <td>0</td>\n",
       "      <td>0</td>\n",
       "      <td>NaN</td>\n",
       "      <td>NaN</td>\n",
       "      <td>NaN</td>\n",
       "      <td>0</td>\n",
       "      <td>1</td>\n",
       "      <td>2010</td>\n",
       "      <td>WD</td>\n",
       "      <td>109000</td>\n",
       "    </tr>\n",
       "    <tr>\n",
       "      <th>3</th>\n",
       "      <td>318</td>\n",
       "      <td>916386060</td>\n",
       "      <td>60</td>\n",
       "      <td>RL</td>\n",
       "      <td>73.0</td>\n",
       "      <td>9802</td>\n",
       "      <td>Pave</td>\n",
       "      <td>NaN</td>\n",
       "      <td>Reg</td>\n",
       "      <td>Lvl</td>\n",
       "      <td>AllPub</td>\n",
       "      <td>Inside</td>\n",
       "      <td>Gtl</td>\n",
       "      <td>Timber</td>\n",
       "      <td>Norm</td>\n",
       "      <td>Norm</td>\n",
       "      <td>1Fam</td>\n",
       "      <td>2Story</td>\n",
       "      <td>5</td>\n",
       "      <td>5</td>\n",
       "      <td>2006</td>\n",
       "      <td>2007</td>\n",
       "      <td>Gable</td>\n",
       "      <td>CompShg</td>\n",
       "      <td>VinylSd</td>\n",
       "      <td>VinylSd</td>\n",
       "      <td>None</td>\n",
       "      <td>0.0</td>\n",
       "      <td>TA</td>\n",
       "      <td>TA</td>\n",
       "      <td>PConc</td>\n",
       "      <td>Gd</td>\n",
       "      <td>TA</td>\n",
       "      <td>No</td>\n",
       "      <td>Unf</td>\n",
       "      <td>0.0</td>\n",
       "      <td>Unf</td>\n",
       "      <td>0.0</td>\n",
       "      <td>384.0</td>\n",
       "      <td>384.0</td>\n",
       "      <td>GasA</td>\n",
       "      <td>Gd</td>\n",
       "      <td>Y</td>\n",
       "      <td>SBrkr</td>\n",
       "      <td>744</td>\n",
       "      <td>700</td>\n",
       "      <td>0</td>\n",
       "      <td>1444</td>\n",
       "      <td>0.0</td>\n",
       "      <td>0.0</td>\n",
       "      <td>2</td>\n",
       "      <td>1</td>\n",
       "      <td>3</td>\n",
       "      <td>1</td>\n",
       "      <td>TA</td>\n",
       "      <td>7</td>\n",
       "      <td>Typ</td>\n",
       "      <td>0</td>\n",
       "      <td>NaN</td>\n",
       "      <td>BuiltIn</td>\n",
       "      <td>2007.0</td>\n",
       "      <td>Fin</td>\n",
       "      <td>2.0</td>\n",
       "      <td>400.0</td>\n",
       "      <td>TA</td>\n",
       "      <td>TA</td>\n",
       "      <td>Y</td>\n",
       "      <td>100</td>\n",
       "      <td>0</td>\n",
       "      <td>0</td>\n",
       "      <td>0</td>\n",
       "      <td>0</td>\n",
       "      <td>0</td>\n",
       "      <td>NaN</td>\n",
       "      <td>NaN</td>\n",
       "      <td>NaN</td>\n",
       "      <td>0</td>\n",
       "      <td>4</td>\n",
       "      <td>2010</td>\n",
       "      <td>WD</td>\n",
       "      <td>174000</td>\n",
       "    </tr>\n",
       "    <tr>\n",
       "      <th>4</th>\n",
       "      <td>255</td>\n",
       "      <td>906425045</td>\n",
       "      <td>50</td>\n",
       "      <td>RL</td>\n",
       "      <td>82.0</td>\n",
       "      <td>14235</td>\n",
       "      <td>Pave</td>\n",
       "      <td>NaN</td>\n",
       "      <td>IR1</td>\n",
       "      <td>Lvl</td>\n",
       "      <td>AllPub</td>\n",
       "      <td>Inside</td>\n",
       "      <td>Gtl</td>\n",
       "      <td>SawyerW</td>\n",
       "      <td>Norm</td>\n",
       "      <td>Norm</td>\n",
       "      <td>1Fam</td>\n",
       "      <td>1.5Fin</td>\n",
       "      <td>6</td>\n",
       "      <td>8</td>\n",
       "      <td>1900</td>\n",
       "      <td>1993</td>\n",
       "      <td>Gable</td>\n",
       "      <td>CompShg</td>\n",
       "      <td>Wd Sdng</td>\n",
       "      <td>Plywood</td>\n",
       "      <td>None</td>\n",
       "      <td>0.0</td>\n",
       "      <td>TA</td>\n",
       "      <td>TA</td>\n",
       "      <td>PConc</td>\n",
       "      <td>Fa</td>\n",
       "      <td>Gd</td>\n",
       "      <td>No</td>\n",
       "      <td>Unf</td>\n",
       "      <td>0.0</td>\n",
       "      <td>Unf</td>\n",
       "      <td>0.0</td>\n",
       "      <td>676.0</td>\n",
       "      <td>676.0</td>\n",
       "      <td>GasA</td>\n",
       "      <td>TA</td>\n",
       "      <td>Y</td>\n",
       "      <td>SBrkr</td>\n",
       "      <td>831</td>\n",
       "      <td>614</td>\n",
       "      <td>0</td>\n",
       "      <td>1445</td>\n",
       "      <td>0.0</td>\n",
       "      <td>0.0</td>\n",
       "      <td>2</td>\n",
       "      <td>0</td>\n",
       "      <td>3</td>\n",
       "      <td>1</td>\n",
       "      <td>TA</td>\n",
       "      <td>6</td>\n",
       "      <td>Typ</td>\n",
       "      <td>0</td>\n",
       "      <td>NaN</td>\n",
       "      <td>Detchd</td>\n",
       "      <td>1957.0</td>\n",
       "      <td>Unf</td>\n",
       "      <td>2.0</td>\n",
       "      <td>484.0</td>\n",
       "      <td>TA</td>\n",
       "      <td>TA</td>\n",
       "      <td>N</td>\n",
       "      <td>0</td>\n",
       "      <td>59</td>\n",
       "      <td>0</td>\n",
       "      <td>0</td>\n",
       "      <td>0</td>\n",
       "      <td>0</td>\n",
       "      <td>NaN</td>\n",
       "      <td>NaN</td>\n",
       "      <td>NaN</td>\n",
       "      <td>0</td>\n",
       "      <td>3</td>\n",
       "      <td>2010</td>\n",
       "      <td>WD</td>\n",
       "      <td>138500</td>\n",
       "    </tr>\n",
       "  </tbody>\n",
       "</table>\n",
       "</div>"
      ],
      "text/plain": [
       "    Id        PID  MS SubClass MS Zoning  Lot Frontage  Lot Area Street Alley  \\\n",
       "0  109  533352170           60        RL           NaN     13517   Pave   NaN   \n",
       "1  544  531379050           60        RL          43.0     11492   Pave   NaN   \n",
       "2  153  535304180           20        RL          68.0      7922   Pave   NaN   \n",
       "3  318  916386060           60        RL          73.0      9802   Pave   NaN   \n",
       "4  255  906425045           50        RL          82.0     14235   Pave   NaN   \n",
       "\n",
       "  Lot Shape Land Contour Utilities Lot Config Land Slope Neighborhood  \\\n",
       "0       IR1          Lvl    AllPub    CulDSac        Gtl       Sawyer   \n",
       "1       IR1          Lvl    AllPub    CulDSac        Gtl      SawyerW   \n",
       "2       Reg          Lvl    AllPub     Inside        Gtl        NAmes   \n",
       "3       Reg          Lvl    AllPub     Inside        Gtl       Timber   \n",
       "4       IR1          Lvl    AllPub     Inside        Gtl      SawyerW   \n",
       "\n",
       "  Condition 1 Condition 2 Bldg Type House Style  Overall Qual  Overall Cond  \\\n",
       "0        RRAe        Norm      1Fam      2Story             6             8   \n",
       "1        Norm        Norm      1Fam      2Story             7             5   \n",
       "2        Norm        Norm      1Fam      1Story             5             7   \n",
       "3        Norm        Norm      1Fam      2Story             5             5   \n",
       "4        Norm        Norm      1Fam      1.5Fin             6             8   \n",
       "\n",
       "   Year Built  Year Remod/Add Roof Style Roof Matl Exterior 1st Exterior 2nd  \\\n",
       "0        1976            2005      Gable   CompShg      HdBoard      Plywood   \n",
       "1        1996            1997      Gable   CompShg      VinylSd      VinylSd   \n",
       "2        1953            2007      Gable   CompShg      VinylSd      VinylSd   \n",
       "3        2006            2007      Gable   CompShg      VinylSd      VinylSd   \n",
       "4        1900            1993      Gable   CompShg      Wd Sdng      Plywood   \n",
       "\n",
       "  Mas Vnr Type  Mas Vnr Area Exter Qual Exter Cond Foundation Bsmt Qual  \\\n",
       "0      BrkFace         289.0         Gd         TA     CBlock        TA   \n",
       "1      BrkFace         132.0         Gd         TA      PConc        Gd   \n",
       "2         None           0.0         TA         Gd     CBlock        TA   \n",
       "3         None           0.0         TA         TA      PConc        Gd   \n",
       "4         None           0.0         TA         TA      PConc        Fa   \n",
       "\n",
       "  Bsmt Cond Bsmt Exposure BsmtFin Type 1  BsmtFin SF 1 BsmtFin Type 2  \\\n",
       "0        TA            No            GLQ         533.0            Unf   \n",
       "1        TA            No            GLQ         637.0            Unf   \n",
       "2        TA            No            GLQ         731.0            Unf   \n",
       "3        TA            No            Unf           0.0            Unf   \n",
       "4        Gd            No            Unf           0.0            Unf   \n",
       "\n",
       "   BsmtFin SF 2  Bsmt Unf SF  Total Bsmt SF Heating Heating QC Central Air  \\\n",
       "0           0.0        192.0          725.0    GasA         Ex           Y   \n",
       "1           0.0        276.0          913.0    GasA         Ex           Y   \n",
       "2           0.0        326.0         1057.0    GasA         TA           Y   \n",
       "3           0.0        384.0          384.0    GasA         Gd           Y   \n",
       "4           0.0        676.0          676.0    GasA         TA           Y   \n",
       "\n",
       "  Electrical  1st Flr SF  2nd Flr SF  Low Qual Fin SF  Gr Liv Area  \\\n",
       "0      SBrkr         725         754                0         1479   \n",
       "1      SBrkr         913        1209                0         2122   \n",
       "2      SBrkr        1057           0                0         1057   \n",
       "3      SBrkr         744         700                0         1444   \n",
       "4      SBrkr         831         614                0         1445   \n",
       "\n",
       "   Bsmt Full Bath  Bsmt Half Bath  Full Bath  Half Bath  Bedroom AbvGr  \\\n",
       "0             0.0             0.0          2          1              3   \n",
       "1             1.0             0.0          2          1              4   \n",
       "2             1.0             0.0          1          0              3   \n",
       "3             0.0             0.0          2          1              3   \n",
       "4             0.0             0.0          2          0              3   \n",
       "\n",
       "   Kitchen AbvGr Kitchen Qual  TotRms AbvGrd Functional  Fireplaces  \\\n",
       "0              1           Gd              6        Typ           0   \n",
       "1              1           Gd              8        Typ           1   \n",
       "2              1           Gd              5        Typ           0   \n",
       "3              1           TA              7        Typ           0   \n",
       "4              1           TA              6        Typ           0   \n",
       "\n",
       "  Fireplace Qu Garage Type  Garage Yr Blt Garage Finish  Garage Cars  \\\n",
       "0          NaN      Attchd         1976.0           RFn          2.0   \n",
       "1           TA      Attchd         1997.0           RFn          2.0   \n",
       "2          NaN      Detchd         1953.0           Unf          1.0   \n",
       "3          NaN     BuiltIn         2007.0           Fin          2.0   \n",
       "4          NaN      Detchd         1957.0           Unf          2.0   \n",
       "\n",
       "   Garage Area Garage Qual Garage Cond Paved Drive  Wood Deck SF  \\\n",
       "0        475.0          TA          TA           Y             0   \n",
       "1        559.0          TA          TA           Y             0   \n",
       "2        246.0          TA          TA           Y             0   \n",
       "3        400.0          TA          TA           Y           100   \n",
       "4        484.0          TA          TA           N             0   \n",
       "\n",
       "   Open Porch SF  Enclosed Porch  3Ssn Porch  Screen Porch  Pool Area Pool QC  \\\n",
       "0             44               0           0             0          0     NaN   \n",
       "1             74               0           0             0          0     NaN   \n",
       "2             52               0           0             0          0     NaN   \n",
       "3              0               0           0             0          0     NaN   \n",
       "4             59               0           0             0          0     NaN   \n",
       "\n",
       "  Fence Misc Feature  Misc Val  Mo Sold  Yr Sold Sale Type  SalePrice  \n",
       "0   NaN          NaN         0        3     2010       WD      130500  \n",
       "1   NaN          NaN         0        4     2009       WD      220000  \n",
       "2   NaN          NaN         0        1     2010       WD      109000  \n",
       "3   NaN          NaN         0        4     2010       WD      174000  \n",
       "4   NaN          NaN         0        3     2010       WD      138500  "
      ]
     },
     "execution_count": 4,
     "metadata": {},
     "output_type": "execute_result"
    }
   ],
   "source": [
    "X.head()\n",
    "# checking head just bc its protocol"
   ]
  },
  {
   "cell_type": "code",
   "execution_count": 5,
   "id": "b167656f-2279-4b73-8087-1a430d5b3596",
   "metadata": {},
   "outputs": [],
   "source": [
    "X_train, X_test  = train_test_split(X, test_size=0.3, random_state=42)\n"
   ]
  },
  {
   "cell_type": "code",
   "execution_count": 6,
   "id": "7cc2f1b9-da7b-43ff-b5c9-91c4b8ed4934",
   "metadata": {},
   "outputs": [
    {
     "data": {
      "text/plain": [
       "Index(['Id', 'PID', 'MS SubClass', 'MS Zoning', 'Lot Frontage', 'Lot Area',\n",
       "       'Street', 'Alley', 'Lot Shape', 'Land Contour', 'Utilities',\n",
       "       'Lot Config', 'Land Slope', 'Neighborhood', 'Condition 1',\n",
       "       'Condition 2', 'Bldg Type', 'House Style', 'Overall Qual',\n",
       "       'Overall Cond', 'Year Built', 'Year Remod/Add', 'Roof Style',\n",
       "       'Roof Matl', 'Exterior 1st', 'Exterior 2nd', 'Mas Vnr Type',\n",
       "       'Mas Vnr Area', 'Exter Qual', 'Exter Cond', 'Foundation', 'Bsmt Qual',\n",
       "       'Bsmt Cond', 'Bsmt Exposure', 'BsmtFin Type 1', 'BsmtFin SF 1',\n",
       "       'BsmtFin Type 2', 'BsmtFin SF 2', 'Bsmt Unf SF', 'Total Bsmt SF',\n",
       "       'Heating', 'Heating QC', 'Central Air', 'Electrical', '1st Flr SF',\n",
       "       '2nd Flr SF', 'Low Qual Fin SF', 'Gr Liv Area', 'Bsmt Full Bath',\n",
       "       'Bsmt Half Bath', 'Full Bath', 'Half Bath', 'Bedroom AbvGr',\n",
       "       'Kitchen AbvGr', 'Kitchen Qual', 'TotRms AbvGrd', 'Functional',\n",
       "       'Fireplaces', 'Fireplace Qu', 'Garage Type', 'Garage Yr Blt',\n",
       "       'Garage Finish', 'Garage Cars', 'Garage Area', 'Garage Qual',\n",
       "       'Garage Cond', 'Paved Drive', 'Wood Deck SF', 'Open Porch SF',\n",
       "       'Enclosed Porch', '3Ssn Porch', 'Screen Porch', 'Pool Area', 'Pool QC',\n",
       "       'Fence', 'Misc Feature', 'Misc Val', 'Mo Sold', 'Yr Sold', 'Sale Type',\n",
       "       'SalePrice'],\n",
       "      dtype='object')"
      ]
     },
     "execution_count": 6,
     "metadata": {},
     "output_type": "execute_result"
    }
   ],
   "source": [
    "X_train.columns"
   ]
  },
  {
   "cell_type": "code",
   "execution_count": 7,
   "id": "c4396aca-7bb6-45ea-b42a-e4b07cd03b7f",
   "metadata": {},
   "outputs": [
    {
     "data": {
      "text/plain": [
       "Index(['Id', 'PID', 'MS SubClass', 'MS Zoning', 'Lot Frontage', 'Lot Area',\n",
       "       'Street', 'Alley', 'Lot Shape', 'Land Contour', 'Utilities',\n",
       "       'Lot Config', 'Land Slope', 'Neighborhood', 'Condition 1',\n",
       "       'Condition 2', 'Bldg Type', 'House Style', 'Overall Qual',\n",
       "       'Overall Cond', 'Year Built', 'Year Remod/Add', 'Roof Style',\n",
       "       'Roof Matl', 'Exterior 1st', 'Exterior 2nd', 'Mas Vnr Type',\n",
       "       'Mas Vnr Area', 'Exter Qual', 'Exter Cond', 'Foundation', 'Bsmt Qual',\n",
       "       'Bsmt Cond', 'Bsmt Exposure', 'BsmtFin Type 1', 'BsmtFin SF 1',\n",
       "       'BsmtFin Type 2', 'BsmtFin SF 2', 'Bsmt Unf SF', 'Total Bsmt SF',\n",
       "       'Heating', 'Heating QC', 'Central Air', 'Electrical', '1st Flr SF',\n",
       "       '2nd Flr SF', 'Low Qual Fin SF', 'Gr Liv Area', 'Bsmt Full Bath',\n",
       "       'Bsmt Half Bath', 'Full Bath', 'Half Bath', 'Bedroom AbvGr',\n",
       "       'Kitchen AbvGr', 'Kitchen Qual', 'TotRms AbvGrd', 'Functional',\n",
       "       'Fireplaces', 'Fireplace Qu', 'Garage Type', 'Garage Yr Blt',\n",
       "       'Garage Finish', 'Garage Cars', 'Garage Area', 'Garage Qual',\n",
       "       'Garage Cond', 'Paved Drive', 'Wood Deck SF', 'Open Porch SF',\n",
       "       'Enclosed Porch', '3Ssn Porch', 'Screen Porch', 'Pool Area', 'Pool QC',\n",
       "       'Fence', 'Misc Feature', 'Misc Val', 'Mo Sold', 'Yr Sold', 'Sale Type',\n",
       "       'SalePrice'],\n",
       "      dtype='object')"
      ]
     },
     "execution_count": 7,
     "metadata": {},
     "output_type": "execute_result"
    }
   ],
   "source": [
    "X_test.columns"
   ]
  },
  {
   "cell_type": "code",
   "execution_count": 8,
   "id": "fbb0c7b1-19d6-46f9-9b0b-0d4f0efc07e0",
   "metadata": {},
   "outputs": [
    {
     "name": "stdout",
     "output_type": "stream",
     "text": [
      "<class 'pandas.core.frame.DataFrame'>\n",
      "Int64Index: 1435 entries, 226 to 860\n",
      "Data columns (total 81 columns):\n",
      " #   Column           Non-Null Count  Dtype  \n",
      "---  ------           --------------  -----  \n",
      " 0   Id               1435 non-null   int64  \n",
      " 1   PID              1435 non-null   int64  \n",
      " 2   MS SubClass      1435 non-null   int64  \n",
      " 3   MS Zoning        1435 non-null   object \n",
      " 4   Lot Frontage     1198 non-null   float64\n",
      " 5   Lot Area         1435 non-null   int64  \n",
      " 6   Street           1435 non-null   object \n",
      " 7   Alley            100 non-null    object \n",
      " 8   Lot Shape        1435 non-null   object \n",
      " 9   Land Contour     1435 non-null   object \n",
      " 10  Utilities        1435 non-null   object \n",
      " 11  Lot Config       1435 non-null   object \n",
      " 12  Land Slope       1435 non-null   object \n",
      " 13  Neighborhood     1435 non-null   object \n",
      " 14  Condition 1      1435 non-null   object \n",
      " 15  Condition 2      1435 non-null   object \n",
      " 16  Bldg Type        1435 non-null   object \n",
      " 17  House Style      1435 non-null   object \n",
      " 18  Overall Qual     1435 non-null   int64  \n",
      " 19  Overall Cond     1435 non-null   int64  \n",
      " 20  Year Built       1435 non-null   int64  \n",
      " 21  Year Remod/Add   1435 non-null   int64  \n",
      " 22  Roof Style       1435 non-null   object \n",
      " 23  Roof Matl        1435 non-null   object \n",
      " 24  Exterior 1st     1435 non-null   object \n",
      " 25  Exterior 2nd     1435 non-null   object \n",
      " 26  Mas Vnr Type     1417 non-null   object \n",
      " 27  Mas Vnr Area     1417 non-null   float64\n",
      " 28  Exter Qual       1435 non-null   object \n",
      " 29  Exter Cond       1435 non-null   object \n",
      " 30  Foundation       1435 non-null   object \n",
      " 31  Bsmt Qual        1395 non-null   object \n",
      " 32  Bsmt Cond        1395 non-null   object \n",
      " 33  Bsmt Exposure    1393 non-null   object \n",
      " 34  BsmtFin Type 1   1395 non-null   object \n",
      " 35  BsmtFin SF 1     1434 non-null   float64\n",
      " 36  BsmtFin Type 2   1394 non-null   object \n",
      " 37  BsmtFin SF 2     1434 non-null   float64\n",
      " 38  Bsmt Unf SF      1434 non-null   float64\n",
      " 39  Total Bsmt SF    1434 non-null   float64\n",
      " 40  Heating          1435 non-null   object \n",
      " 41  Heating QC       1435 non-null   object \n",
      " 42  Central Air      1435 non-null   object \n",
      " 43  Electrical       1435 non-null   object \n",
      " 44  1st Flr SF       1435 non-null   int64  \n",
      " 45  2nd Flr SF       1435 non-null   int64  \n",
      " 46  Low Qual Fin SF  1435 non-null   int64  \n",
      " 47  Gr Liv Area      1435 non-null   int64  \n",
      " 48  Bsmt Full Bath   1433 non-null   float64\n",
      " 49  Bsmt Half Bath   1433 non-null   float64\n",
      " 50  Full Bath        1435 non-null   int64  \n",
      " 51  Half Bath        1435 non-null   int64  \n",
      " 52  Bedroom AbvGr    1435 non-null   int64  \n",
      " 53  Kitchen AbvGr    1435 non-null   int64  \n",
      " 54  Kitchen Qual     1435 non-null   object \n",
      " 55  TotRms AbvGrd    1435 non-null   int64  \n",
      " 56  Functional       1435 non-null   object \n",
      " 57  Fireplaces       1435 non-null   int64  \n",
      " 58  Fireplace Qu     719 non-null    object \n",
      " 59  Garage Type      1357 non-null   object \n",
      " 60  Garage Yr Blt    1357 non-null   float64\n",
      " 61  Garage Finish    1357 non-null   object \n",
      " 62  Garage Cars      1435 non-null   float64\n",
      " 63  Garage Area      1435 non-null   float64\n",
      " 64  Garage Qual      1357 non-null   object \n",
      " 65  Garage Cond      1357 non-null   object \n",
      " 66  Paved Drive      1435 non-null   object \n",
      " 67  Wood Deck SF     1435 non-null   int64  \n",
      " 68  Open Porch SF    1435 non-null   int64  \n",
      " 69  Enclosed Porch   1435 non-null   int64  \n",
      " 70  3Ssn Porch       1435 non-null   int64  \n",
      " 71  Screen Porch     1435 non-null   int64  \n",
      " 72  Pool Area        1435 non-null   int64  \n",
      " 73  Pool QC          7 non-null      object \n",
      " 74  Fence            292 non-null    object \n",
      " 75  Misc Feature     52 non-null     object \n",
      " 76  Misc Val         1435 non-null   int64  \n",
      " 77  Mo Sold          1435 non-null   int64  \n",
      " 78  Yr Sold          1435 non-null   int64  \n",
      " 79  Sale Type        1435 non-null   object \n",
      " 80  SalePrice        1435 non-null   int64  \n",
      "dtypes: float64(11), int64(28), object(42)\n",
      "memory usage: 919.3+ KB\n"
     ]
    }
   ],
   "source": [
    "X_train.info()\n",
    "# checking column names, data types and which ones have null values"
   ]
  },
  {
   "cell_type": "code",
   "execution_count": 9,
   "id": "cde0bdd4-6c00-42c0-8e4e-ab5b91b3bb9f",
   "metadata": {},
   "outputs": [
    {
     "name": "stdout",
     "output_type": "stream",
     "text": [
      "<class 'pandas.core.frame.DataFrame'>\n",
      "Int64Index: 616 entries, 1124 to 309\n",
      "Data columns (total 81 columns):\n",
      " #   Column           Non-Null Count  Dtype  \n",
      "---  ------           --------------  -----  \n",
      " 0   Id               616 non-null    int64  \n",
      " 1   PID              616 non-null    int64  \n",
      " 2   MS SubClass      616 non-null    int64  \n",
      " 3   MS Zoning        616 non-null    object \n",
      " 4   Lot Frontage     523 non-null    float64\n",
      " 5   Lot Area         616 non-null    int64  \n",
      " 6   Street           616 non-null    object \n",
      " 7   Alley            40 non-null     object \n",
      " 8   Lot Shape        616 non-null    object \n",
      " 9   Land Contour     616 non-null    object \n",
      " 10  Utilities        616 non-null    object \n",
      " 11  Lot Config       616 non-null    object \n",
      " 12  Land Slope       616 non-null    object \n",
      " 13  Neighborhood     616 non-null    object \n",
      " 14  Condition 1      616 non-null    object \n",
      " 15  Condition 2      616 non-null    object \n",
      " 16  Bldg Type        616 non-null    object \n",
      " 17  House Style      616 non-null    object \n",
      " 18  Overall Qual     616 non-null    int64  \n",
      " 19  Overall Cond     616 non-null    int64  \n",
      " 20  Year Built       616 non-null    int64  \n",
      " 21  Year Remod/Add   616 non-null    int64  \n",
      " 22  Roof Style       616 non-null    object \n",
      " 23  Roof Matl        616 non-null    object \n",
      " 24  Exterior 1st     616 non-null    object \n",
      " 25  Exterior 2nd     616 non-null    object \n",
      " 26  Mas Vnr Type     612 non-null    object \n",
      " 27  Mas Vnr Area     612 non-null    float64\n",
      " 28  Exter Qual       616 non-null    object \n",
      " 29  Exter Cond       616 non-null    object \n",
      " 30  Foundation       616 non-null    object \n",
      " 31  Bsmt Qual        601 non-null    object \n",
      " 32  Bsmt Cond        601 non-null    object \n",
      " 33  Bsmt Exposure    600 non-null    object \n",
      " 34  BsmtFin Type 1   601 non-null    object \n",
      " 35  BsmtFin SF 1     616 non-null    float64\n",
      " 36  BsmtFin Type 2   601 non-null    object \n",
      " 37  BsmtFin SF 2     616 non-null    float64\n",
      " 38  Bsmt Unf SF      616 non-null    float64\n",
      " 39  Total Bsmt SF    616 non-null    float64\n",
      " 40  Heating          616 non-null    object \n",
      " 41  Heating QC       616 non-null    object \n",
      " 42  Central Air      616 non-null    object \n",
      " 43  Electrical       616 non-null    object \n",
      " 44  1st Flr SF       616 non-null    int64  \n",
      " 45  2nd Flr SF       616 non-null    int64  \n",
      " 46  Low Qual Fin SF  616 non-null    int64  \n",
      " 47  Gr Liv Area      616 non-null    int64  \n",
      " 48  Bsmt Full Bath   616 non-null    float64\n",
      " 49  Bsmt Half Bath   616 non-null    float64\n",
      " 50  Full Bath        616 non-null    int64  \n",
      " 51  Half Bath        616 non-null    int64  \n",
      " 52  Bedroom AbvGr    616 non-null    int64  \n",
      " 53  Kitchen AbvGr    616 non-null    int64  \n",
      " 54  Kitchen Qual     616 non-null    object \n",
      " 55  TotRms AbvGrd    616 non-null    int64  \n",
      " 56  Functional       616 non-null    object \n",
      " 57  Fireplaces       616 non-null    int64  \n",
      " 58  Fireplace Qu     332 non-null    object \n",
      " 59  Garage Type      581 non-null    object \n",
      " 60  Garage Yr Blt    580 non-null    float64\n",
      " 61  Garage Finish    580 non-null    object \n",
      " 62  Garage Cars      615 non-null    float64\n",
      " 63  Garage Area      615 non-null    float64\n",
      " 64  Garage Qual      580 non-null    object \n",
      " 65  Garage Cond      580 non-null    object \n",
      " 66  Paved Drive      616 non-null    object \n",
      " 67  Wood Deck SF     616 non-null    int64  \n",
      " 68  Open Porch SF    616 non-null    int64  \n",
      " 69  Enclosed Porch   616 non-null    int64  \n",
      " 70  3Ssn Porch       616 non-null    int64  \n",
      " 71  Screen Porch     616 non-null    int64  \n",
      " 72  Pool Area        616 non-null    int64  \n",
      " 73  Pool QC          2 non-null      object \n",
      " 74  Fence            108 non-null    object \n",
      " 75  Misc Feature     13 non-null     object \n",
      " 76  Misc Val         616 non-null    int64  \n",
      " 77  Mo Sold          616 non-null    int64  \n",
      " 78  Yr Sold          616 non-null    int64  \n",
      " 79  Sale Type        616 non-null    object \n",
      " 80  SalePrice        616 non-null    int64  \n",
      "dtypes: float64(11), int64(28), object(42)\n",
      "memory usage: 394.6+ KB\n"
     ]
    }
   ],
   "source": [
    "X_test.info()"
   ]
  },
  {
   "cell_type": "code",
   "execution_count": 10,
   "id": "0c1e377b-6cf8-4103-a862-08b67f3d8a18",
   "metadata": {},
   "outputs": [
    {
     "data": {
      "text/plain": [
       "(1435, 81)"
      ]
     },
     "execution_count": 10,
     "metadata": {},
     "output_type": "execute_result"
    }
   ],
   "source": [
    "X_train.shape\n",
    "# checking shape of original dataframe"
   ]
  },
  {
   "cell_type": "code",
   "execution_count": 11,
   "id": "bee0aa7f-9e5d-4763-a5a4-02dbf6cf5a39",
   "metadata": {},
   "outputs": [
    {
     "data": {
      "text/plain": [
       "(616, 81)"
      ]
     },
     "execution_count": 11,
     "metadata": {},
     "output_type": "execute_result"
    }
   ],
   "source": [
    "X_test.shape"
   ]
  },
  {
   "cell_type": "code",
   "execution_count": 12,
   "id": "2372ffb4-5819-4535-ba73-4c23f8b59189",
   "metadata": {},
   "outputs": [
    {
     "data": {
      "text/plain": [
       "Id                0\n",
       "PID               0\n",
       "MS SubClass       0\n",
       "MS Zoning         0\n",
       "Lot Frontage    237\n",
       "               ... \n",
       "Misc Val          0\n",
       "Mo Sold           0\n",
       "Yr Sold           0\n",
       "Sale Type         0\n",
       "SalePrice         0\n",
       "Length: 81, dtype: int64"
      ]
     },
     "execution_count": 12,
     "metadata": {},
     "output_type": "execute_result"
    }
   ],
   "source": [
    "X_train.isna().sum()"
   ]
  },
  {
   "cell_type": "code",
   "execution_count": 13,
   "id": "5d81f99f-0c3f-429f-b170-f7dfb0e4d7cc",
   "metadata": {},
   "outputs": [
    {
     "data": {
      "text/plain": [
       "Id               0\n",
       "PID              0\n",
       "MS SubClass      0\n",
       "MS Zoning        0\n",
       "Lot Frontage    93\n",
       "                ..\n",
       "Misc Val         0\n",
       "Mo Sold          0\n",
       "Yr Sold          0\n",
       "Sale Type        0\n",
       "SalePrice        0\n",
       "Length: 81, dtype: int64"
      ]
     },
     "execution_count": 13,
     "metadata": {},
     "output_type": "execute_result"
    }
   ],
   "source": [
    "X_test.isna().sum()"
   ]
  },
  {
   "cell_type": "code",
   "execution_count": 14,
   "id": "addb87b4-58b2-4d40-a6bf-d6e52a1570ab",
   "metadata": {},
   "outputs": [],
   "source": [
    "nominal = ['Id', 'PID', 'MS SubClass', 'MS Zoning', 'Street', 'Alley', 'Land Contour', 'Lot Config', 'Neighborhood','Condition 1','Condition 2', 'Bldg Type', 'House Style', 'Roof Style','Roof Matl','Exterior 1st','Exterior 2nd','Mas Vnr Type','Foundation', 'Heating', 'Central Air', 'Garage Type', 'Misc Feature', 'Sale Type'] "
   ]
  },
  {
   "cell_type": "code",
   "execution_count": 15,
   "id": "a30d1e44-583d-4707-88e9-9466b6ae89b9",
   "metadata": {},
   "outputs": [],
   "source": [
    "ordinal = ['Lot Shape','Utilities','Land Slope','Overall Qual','Overall Cond','Exter Qual','Exter Cond','Bsmt Qual', 'Bsmt Cond','Bsmt Exposure','BsmtFin Type 1','BsmtFin Type 2','Heating QC', 'Electrical', 'Kitchen Qual','Functional', 'Fireplace Qu', 'Garage Finish', 'Garage Qual','Garage Cond', 'Paved Drive', 'Pool QC', 'Fence']"
   ]
  },
  {
   "cell_type": "code",
   "execution_count": 16,
   "id": "69df9b32-a0fe-486f-8e68-063ca4032eea",
   "metadata": {},
   "outputs": [],
   "source": [
    "continuous = ['Lot Frontage', 'Lot Area', 'Mas Vnr Area','BsmtFin SF 1', 'BsmtFin SF 2', 'Bsmt Unf SF', 'Total Bsmt SF', '1st Flr SF', '2nd Flr SF', 'Gr Liv Area', 'Garage Area', 'Wood Deck SF', 'Open Porch SF', 'Enclosed Porch','3Ssn Porch', 'Screen Porch', 'Pool Area', 'Misc Val', 'SalePrice']\n"
   ]
  },
  {
   "cell_type": "code",
   "execution_count": 17,
   "id": "72cb326f-702e-47e6-a1de-52078cbb99d5",
   "metadata": {},
   "outputs": [],
   "source": [
    "discrete = ['Year Built','Year Remod/Add', 'Bsmt Full Bath', 'Bsmt Half Bath', 'Full Bath','Half Bath','Bedroom AbvGr','Kitchen AbvGr','TotRms AbvGrd','Fireplaces','Garage Yr Blt', 'Garage Cars', 'Mo Sold', 'Yr Sold'] "
   ]
  },
  {
   "cell_type": "code",
   "execution_count": 18,
   "id": "f5873132-27e4-4991-a931-c85210fe148b",
   "metadata": {},
   "outputs": [],
   "source": [
    "tot = (nominal + ordinal + continuous + discrete)"
   ]
  },
  {
   "cell_type": "code",
   "execution_count": 19,
   "id": "8667c6b3-4682-4ce1-a108-0de0687c4f7f",
   "metadata": {},
   "outputs": [],
   "source": [
    "wholecolumns = ['Id', 'PID', 'MS SubClass', 'MS Zoning', 'Lot Frontage', 'Lot Area',\n",
    "       'Street', 'Alley', 'Lot Shape', 'Land Contour', 'Utilities',\n",
    "       'Lot Config', 'Land Slope', 'Neighborhood', 'Condition 1',\n",
    "       'Condition 2', 'Bldg Type', 'House Style', 'Overall Qual',\n",
    "       'Overall Cond', 'Year Built', 'Year Remod/Add', 'Roof Style',\n",
    "       'Roof Matl', 'Exterior 1st', 'Exterior 2nd', 'Mas Vnr Type',\n",
    "       'Mas Vnr Area', 'Exter Qual', 'Exter Cond', 'Foundation', 'Bsmt Qual',\n",
    "       'Bsmt Cond', 'Bsmt Exposure', 'BsmtFin Type 1', 'BsmtFin SF 1',\n",
    "       'BsmtFin Type 2', 'BsmtFin SF 2', 'Bsmt Unf SF', 'Total Bsmt SF',\n",
    "       'Heating', 'Heating QC', 'Central Air', 'Electrical', '1st Flr SF',\n",
    "       '2nd Flr SF', 'Low Qual Fin SF', 'Gr Liv Area', 'Bsmt Full Bath',\n",
    "       'Bsmt Half Bath', 'Full Bath', 'Half Bath', 'Bedroom AbvGr',\n",
    "       'Kitchen AbvGr', 'Kitchen Qual', 'TotRms AbvGrd', 'Functional',\n",
    "       'Fireplaces', 'Fireplace Qu', 'Garage Type', 'Garage Yr Blt',\n",
    "       'Garage Finish', 'Garage Cars', 'Garage Area', 'Garage Qual',\n",
    "       'Garage Cond', 'Paved Drive', 'Wood Deck SF', 'Open Porch SF',\n",
    "       'Enclosed Porch', '3Ssn Porch', 'Screen Porch', 'Pool Area', 'Pool QC',\n",
    "       'Fence', 'Misc Feature', 'Misc Val', 'Mo Sold', 'Yr Sold', 'Sale Type',\n",
    "       'SalePrice']"
   ]
  },
  {
   "cell_type": "code",
   "execution_count": 20,
   "id": "2eb79a58-d00b-49e5-9ae4-34552c70347f",
   "metadata": {},
   "outputs": [],
   "source": [
    "def whatmissingtho():\n",
    "    for i in tot:\n",
    "        for j in wholecolumns:\n",
    "            if i == j:\n",
    "                return True\n",
    "            False\n",
    "# Checked the description page on the Kaggle site to organize the columns into lists of nominal/ordinal/continuous/discrete  values\n",
    "# sum'd the lists and checked to see if they were all included in the original datasets columns\n",
    "# Sale Condition (nominal) is not in dataset"
   ]
  },
  {
   "cell_type": "code",
   "execution_count": 21,
   "id": "9b3661aa-d9f0-49cc-987b-de97a0036d13",
   "metadata": {},
   "outputs": [
    {
     "data": {
      "text/plain": [
       "True"
      ]
     },
     "execution_count": 21,
     "metadata": {},
     "output_type": "execute_result"
    }
   ],
   "source": [
    "whatmissingtho()"
   ]
  },
  {
   "cell_type": "code",
   "execution_count": 22,
   "id": "d3621d14-2916-454e-b8fd-987a49503d70",
   "metadata": {},
   "outputs": [
    {
     "data": {
      "text/html": [
       "<div>\n",
       "<style scoped>\n",
       "    .dataframe tbody tr th:only-of-type {\n",
       "        vertical-align: middle;\n",
       "    }\n",
       "\n",
       "    .dataframe tbody tr th {\n",
       "        vertical-align: top;\n",
       "    }\n",
       "\n",
       "    .dataframe thead th {\n",
       "        text-align: right;\n",
       "    }\n",
       "</style>\n",
       "<table border=\"1\" class=\"dataframe\">\n",
       "  <thead>\n",
       "    <tr style=\"text-align: right;\">\n",
       "      <th></th>\n",
       "      <th>Id</th>\n",
       "      <th>PID</th>\n",
       "      <th>MS SubClass</th>\n",
       "      <th>MS Zoning</th>\n",
       "      <th>Street</th>\n",
       "      <th>Alley</th>\n",
       "      <th>Land Contour</th>\n",
       "      <th>Lot Config</th>\n",
       "      <th>Neighborhood</th>\n",
       "      <th>Condition 1</th>\n",
       "      <th>Condition 2</th>\n",
       "      <th>Bldg Type</th>\n",
       "      <th>House Style</th>\n",
       "      <th>Roof Style</th>\n",
       "      <th>Roof Matl</th>\n",
       "      <th>Exterior 1st</th>\n",
       "      <th>Exterior 2nd</th>\n",
       "      <th>Mas Vnr Type</th>\n",
       "      <th>Foundation</th>\n",
       "      <th>Heating</th>\n",
       "      <th>Central Air</th>\n",
       "      <th>Garage Type</th>\n",
       "      <th>Misc Feature</th>\n",
       "      <th>Sale Type</th>\n",
       "    </tr>\n",
       "  </thead>\n",
       "  <tbody>\n",
       "    <tr>\n",
       "      <th>226</th>\n",
       "      <td>973</td>\n",
       "      <td>923203190</td>\n",
       "      <td>120</td>\n",
       "      <td>RM</td>\n",
       "      <td>Pave</td>\n",
       "      <td>NaN</td>\n",
       "      <td>Lvl</td>\n",
       "      <td>FR2</td>\n",
       "      <td>Mitchel</td>\n",
       "      <td>Norm</td>\n",
       "      <td>Norm</td>\n",
       "      <td>TwnhsE</td>\n",
       "      <td>1Story</td>\n",
       "      <td>Hip</td>\n",
       "      <td>CompShg</td>\n",
       "      <td>VinylSd</td>\n",
       "      <td>VinylSd</td>\n",
       "      <td>BrkFace</td>\n",
       "      <td>PConc</td>\n",
       "      <td>GasA</td>\n",
       "      <td>Y</td>\n",
       "      <td>Attchd</td>\n",
       "      <td>NaN</td>\n",
       "      <td>WD</td>\n",
       "    </tr>\n",
       "    <tr>\n",
       "      <th>1742</th>\n",
       "      <td>482</td>\n",
       "      <td>528250040</td>\n",
       "      <td>60</td>\n",
       "      <td>RL</td>\n",
       "      <td>Pave</td>\n",
       "      <td>NaN</td>\n",
       "      <td>Lvl</td>\n",
       "      <td>Inside</td>\n",
       "      <td>Gilbert</td>\n",
       "      <td>Norm</td>\n",
       "      <td>Norm</td>\n",
       "      <td>1Fam</td>\n",
       "      <td>2Story</td>\n",
       "      <td>Gable</td>\n",
       "      <td>CompShg</td>\n",
       "      <td>VinylSd</td>\n",
       "      <td>VinylSd</td>\n",
       "      <td>None</td>\n",
       "      <td>PConc</td>\n",
       "      <td>GasA</td>\n",
       "      <td>Y</td>\n",
       "      <td>Attchd</td>\n",
       "      <td>NaN</td>\n",
       "      <td>WD</td>\n",
       "    </tr>\n",
       "    <tr>\n",
       "      <th>1516</th>\n",
       "      <td>791</td>\n",
       "      <td>905451340</td>\n",
       "      <td>20</td>\n",
       "      <td>RL</td>\n",
       "      <td>Pave</td>\n",
       "      <td>NaN</td>\n",
       "      <td>Lvl</td>\n",
       "      <td>Inside</td>\n",
       "      <td>Edwards</td>\n",
       "      <td>Norm</td>\n",
       "      <td>Norm</td>\n",
       "      <td>1Fam</td>\n",
       "      <td>1Story</td>\n",
       "      <td>Gable</td>\n",
       "      <td>CompShg</td>\n",
       "      <td>BrkComm</td>\n",
       "      <td>Brk Cmn</td>\n",
       "      <td>None</td>\n",
       "      <td>CBlock</td>\n",
       "      <td>GasA</td>\n",
       "      <td>Y</td>\n",
       "      <td>Attchd</td>\n",
       "      <td>NaN</td>\n",
       "      <td>COD</td>\n",
       "    </tr>\n",
       "    <tr>\n",
       "      <th>1568</th>\n",
       "      <td>2233</td>\n",
       "      <td>910200110</td>\n",
       "      <td>50</td>\n",
       "      <td>RM</td>\n",
       "      <td>Pave</td>\n",
       "      <td>NaN</td>\n",
       "      <td>Lvl</td>\n",
       "      <td>Corner</td>\n",
       "      <td>IDOTRR</td>\n",
       "      <td>Norm</td>\n",
       "      <td>Norm</td>\n",
       "      <td>1Fam</td>\n",
       "      <td>1.5Fin</td>\n",
       "      <td>Gable</td>\n",
       "      <td>CompShg</td>\n",
       "      <td>Wd Sdng</td>\n",
       "      <td>Wd Sdng</td>\n",
       "      <td>None</td>\n",
       "      <td>BrkTil</td>\n",
       "      <td>GasA</td>\n",
       "      <td>Y</td>\n",
       "      <td>Detchd</td>\n",
       "      <td>NaN</td>\n",
       "      <td>WD</td>\n",
       "    </tr>\n",
       "    <tr>\n",
       "      <th>862</th>\n",
       "      <td>1793</td>\n",
       "      <td>528445070</td>\n",
       "      <td>60</td>\n",
       "      <td>RL</td>\n",
       "      <td>Pave</td>\n",
       "      <td>NaN</td>\n",
       "      <td>Lvl</td>\n",
       "      <td>Inside</td>\n",
       "      <td>Somerst</td>\n",
       "      <td>Norm</td>\n",
       "      <td>Norm</td>\n",
       "      <td>1Fam</td>\n",
       "      <td>2Story</td>\n",
       "      <td>Gable</td>\n",
       "      <td>CompShg</td>\n",
       "      <td>VinylSd</td>\n",
       "      <td>VinylSd</td>\n",
       "      <td>None</td>\n",
       "      <td>PConc</td>\n",
       "      <td>GasA</td>\n",
       "      <td>Y</td>\n",
       "      <td>BuiltIn</td>\n",
       "      <td>NaN</td>\n",
       "      <td>WD</td>\n",
       "    </tr>\n",
       "  </tbody>\n",
       "</table>\n",
       "</div>"
      ],
      "text/plain": [
       "        Id        PID  MS SubClass MS Zoning Street Alley Land Contour  \\\n",
       "226    973  923203190          120        RM   Pave   NaN          Lvl   \n",
       "1742   482  528250040           60        RL   Pave   NaN          Lvl   \n",
       "1516   791  905451340           20        RL   Pave   NaN          Lvl   \n",
       "1568  2233  910200110           50        RM   Pave   NaN          Lvl   \n",
       "862   1793  528445070           60        RL   Pave   NaN          Lvl   \n",
       "\n",
       "     Lot Config Neighborhood Condition 1 Condition 2 Bldg Type House Style  \\\n",
       "226         FR2      Mitchel        Norm        Norm    TwnhsE      1Story   \n",
       "1742     Inside      Gilbert        Norm        Norm      1Fam      2Story   \n",
       "1516     Inside      Edwards        Norm        Norm      1Fam      1Story   \n",
       "1568     Corner       IDOTRR        Norm        Norm      1Fam      1.5Fin   \n",
       "862      Inside      Somerst        Norm        Norm      1Fam      2Story   \n",
       "\n",
       "     Roof Style Roof Matl Exterior 1st Exterior 2nd Mas Vnr Type Foundation  \\\n",
       "226         Hip   CompShg      VinylSd      VinylSd      BrkFace      PConc   \n",
       "1742      Gable   CompShg      VinylSd      VinylSd         None      PConc   \n",
       "1516      Gable   CompShg      BrkComm      Brk Cmn         None     CBlock   \n",
       "1568      Gable   CompShg      Wd Sdng      Wd Sdng         None     BrkTil   \n",
       "862       Gable   CompShg      VinylSd      VinylSd         None      PConc   \n",
       "\n",
       "     Heating Central Air Garage Type Misc Feature Sale Type  \n",
       "226     GasA           Y      Attchd          NaN       WD   \n",
       "1742    GasA           Y      Attchd          NaN       WD   \n",
       "1516    GasA           Y      Attchd          NaN       COD  \n",
       "1568    GasA           Y      Detchd          NaN       WD   \n",
       "862     GasA           Y     BuiltIn          NaN       WD   "
      ]
     },
     "execution_count": 22,
     "metadata": {},
     "output_type": "execute_result"
    }
   ],
   "source": [
    "X_train[nominal].head()"
   ]
  },
  {
   "cell_type": "code",
   "execution_count": 23,
   "id": "3ec07396-1535-40b2-bb32-d1c7243c7d8d",
   "metadata": {},
   "outputs": [
    {
     "data": {
      "text/plain": [
       "Id                 0\n",
       "PID                0\n",
       "MS SubClass        0\n",
       "MS Zoning          0\n",
       "Street             0\n",
       "Alley           1335\n",
       "Land Contour       0\n",
       "Lot Config         0\n",
       "Neighborhood       0\n",
       "Condition 1        0\n",
       "Condition 2        0\n",
       "Bldg Type          0\n",
       "House Style        0\n",
       "Roof Style         0\n",
       "Roof Matl          0\n",
       "Exterior 1st       0\n",
       "Exterior 2nd       0\n",
       "Mas Vnr Type      18\n",
       "Foundation         0\n",
       "Heating            0\n",
       "Central Air        0\n",
       "Garage Type       78\n",
       "Misc Feature    1383\n",
       "Sale Type          0\n",
       "dtype: int64"
      ]
     },
     "execution_count": 23,
     "metadata": {},
     "output_type": "execute_result"
    }
   ],
   "source": [
    "X_train[nominal].isna().sum()"
   ]
  },
  {
   "cell_type": "code",
   "execution_count": 24,
   "id": "f6249694-7b62-4b5b-a999-d305f88df757",
   "metadata": {},
   "outputs": [
    {
     "data": {
      "text/plain": [
       "Grvl    60\n",
       "Pave    40\n",
       "Name: Alley, dtype: int64"
      ]
     },
     "execution_count": 24,
     "metadata": {},
     "output_type": "execute_result"
    }
   ],
   "source": [
    "X_train[nominal]['Alley'].value_counts()\n"
   ]
  },
  {
   "cell_type": "code",
   "execution_count": 25,
   "id": "0076df06-eff8-40f9-92b1-6e00b40a565a",
   "metadata": {},
   "outputs": [],
   "source": [
    "# imputing ['Alley'] column to whether or not an alley is present by using a map function"
   ]
  },
  {
   "cell_type": "code",
   "execution_count": 26,
   "id": "d99cdbac-5ebd-45cc-a3bf-65e0b48e225b",
   "metadata": {},
   "outputs": [],
   "source": [
    "X_train['Alley']=X_train['Alley'].map({'Grvl': 1, 'Pave':1, np.nan:0})"
   ]
  },
  {
   "cell_type": "code",
   "execution_count": 27,
   "id": "0cd7bf1b-6f67-44b7-af54-323b16d446a4",
   "metadata": {},
   "outputs": [
    {
     "data": {
      "text/plain": [
       "0    1335\n",
       "1     100\n",
       "Name: Alley, dtype: int64"
      ]
     },
     "execution_count": 27,
     "metadata": {},
     "output_type": "execute_result"
    }
   ],
   "source": [
    "X_train['Alley'].value_counts()"
   ]
  },
  {
   "cell_type": "code",
   "execution_count": 28,
   "id": "85011471-fc5e-4560-869f-9b8864270db1",
   "metadata": {},
   "outputs": [],
   "source": [
    "X_test['Alley']=X_test['Alley'].map({'Grvl': 1, 'Pave':1, np.nan:0})"
   ]
  },
  {
   "cell_type": "code",
   "execution_count": 29,
   "id": "5b77571c-bd93-4d96-b099-b40cbcbc5aed",
   "metadata": {},
   "outputs": [
    {
     "data": {
      "text/plain": [
       "0    576\n",
       "1     40\n",
       "Name: Alley, dtype: int64"
      ]
     },
     "execution_count": 29,
     "metadata": {},
     "output_type": "execute_result"
    }
   ],
   "source": [
    "X_test['Alley'].value_counts()"
   ]
  },
  {
   "cell_type": "code",
   "execution_count": 30,
   "id": "36c9bc3d-5622-4a4b-83b9-fcacf80674a2",
   "metadata": {},
   "outputs": [
    {
     "data": {
      "text/plain": [
       "Attchd     866\n",
       "Detchd     362\n",
       "BuiltIn     89\n",
       "Basment     18\n",
       "2Types      15\n",
       "CarPort      7\n",
       "Name: Garage Type, dtype: int64"
      ]
     },
     "execution_count": 30,
     "metadata": {},
     "output_type": "execute_result"
    }
   ],
   "source": [
    "X_train['Garage Type'].value_counts()"
   ]
  },
  {
   "cell_type": "code",
   "execution_count": 31,
   "id": "3fa9fd1b-5273-49b8-851c-834593be7368",
   "metadata": {},
   "outputs": [],
   "source": [
    "X_train['Garage Type'] = X_train['Garage Type'].replace(np.nan,X_train['Garage Type'].mode()[0])\n",
    "#  replaced null values with mode of column"
   ]
  },
  {
   "cell_type": "code",
   "execution_count": 32,
   "id": "cb4a75ef-94e9-4560-95e7-b20a0747bc5b",
   "metadata": {},
   "outputs": [],
   "source": [
    "X_test['Garage Type'] = X_test['Garage Type'].replace(np.nan,X_test['Garage Type'].mode()[0])\n"
   ]
  },
  {
   "cell_type": "code",
   "execution_count": 33,
   "id": "577f6a8e-599d-495a-add8-30cb71bbe6a7",
   "metadata": {},
   "outputs": [],
   "source": [
    "X_train['Mas Vnr Type']= X_train['Mas Vnr Type'].replace(np.nan,X_train['Mas Vnr Type'].mode()[0])\n"
   ]
  },
  {
   "cell_type": "code",
   "execution_count": 34,
   "id": "883b6ebf-a18e-4441-90b4-4247421e992c",
   "metadata": {},
   "outputs": [],
   "source": [
    "X_test['Mas Vnr Type']= X_test['Mas Vnr Type'].replace(np.nan,X_test['Mas Vnr Type'].mode()[0])\n"
   ]
  },
  {
   "cell_type": "code",
   "execution_count": 35,
   "id": "1e6dc7af-a290-47bc-9477-d6bca1043834",
   "metadata": {},
   "outputs": [
    {
     "data": {
      "text/plain": [
       "Id                 0\n",
       "PID                0\n",
       "MS SubClass        0\n",
       "MS Zoning          0\n",
       "Street             0\n",
       "Alley              0\n",
       "Land Contour       0\n",
       "Lot Config         0\n",
       "Neighborhood       0\n",
       "Condition 1        0\n",
       "Condition 2        0\n",
       "Bldg Type          0\n",
       "House Style        0\n",
       "Roof Style         0\n",
       "Roof Matl          0\n",
       "Exterior 1st       0\n",
       "Exterior 2nd       0\n",
       "Mas Vnr Type       0\n",
       "Foundation         0\n",
       "Heating            0\n",
       "Central Air        0\n",
       "Garage Type        0\n",
       "Misc Feature    1383\n",
       "Sale Type          0\n",
       "dtype: int64"
      ]
     },
     "execution_count": 35,
     "metadata": {},
     "output_type": "execute_result"
    }
   ],
   "source": [
    "X_train[nominal].isna().sum()"
   ]
  },
  {
   "cell_type": "code",
   "execution_count": 36,
   "id": "7f309532-2f44-4bde-9ba5-2123062a7acd",
   "metadata": {},
   "outputs": [
    {
     "data": {
      "text/plain": [
       "Id                0\n",
       "PID               0\n",
       "MS SubClass       0\n",
       "MS Zoning         0\n",
       "Street            0\n",
       "Alley             0\n",
       "Land Contour      0\n",
       "Lot Config        0\n",
       "Neighborhood      0\n",
       "Condition 1       0\n",
       "Condition 2       0\n",
       "Bldg Type         0\n",
       "House Style       0\n",
       "Roof Style        0\n",
       "Roof Matl         0\n",
       "Exterior 1st      0\n",
       "Exterior 2nd      0\n",
       "Mas Vnr Type      0\n",
       "Foundation        0\n",
       "Heating           0\n",
       "Central Air       0\n",
       "Garage Type       0\n",
       "Misc Feature    603\n",
       "Sale Type         0\n",
       "dtype: int64"
      ]
     },
     "execution_count": 36,
     "metadata": {},
     "output_type": "execute_result"
    }
   ],
   "source": [
    "X_test[nominal].isna().sum()"
   ]
  },
  {
   "cell_type": "code",
   "execution_count": 37,
   "id": "a6ebb752-64bf-42f0-858f-6b8f444059d0",
   "metadata": {},
   "outputs": [
    {
     "data": {
      "text/plain": [
       "Lot Shape            0\n",
       "Utilities            0\n",
       "Land Slope           0\n",
       "Overall Qual         0\n",
       "Overall Cond         0\n",
       "Exter Qual           0\n",
       "Exter Cond           0\n",
       "Bsmt Qual           40\n",
       "Bsmt Cond           40\n",
       "Bsmt Exposure       42\n",
       "BsmtFin Type 1      40\n",
       "BsmtFin Type 2      41\n",
       "Heating QC           0\n",
       "Electrical           0\n",
       "Kitchen Qual         0\n",
       "Functional           0\n",
       "Fireplace Qu       716\n",
       "Garage Finish       78\n",
       "Garage Qual         78\n",
       "Garage Cond         78\n",
       "Paved Drive          0\n",
       "Pool QC           1428\n",
       "Fence             1143\n",
       "dtype: int64"
      ]
     },
     "execution_count": 37,
     "metadata": {},
     "output_type": "execute_result"
    }
   ],
   "source": [
    "X_train[ordinal].isna().sum()"
   ]
  },
  {
   "cell_type": "code",
   "execution_count": 38,
   "id": "b2e84f50-063f-4acb-96e8-c386ded7461f",
   "metadata": {},
   "outputs": [
    {
     "data": {
      "text/plain": [
       "Lot Shape           0\n",
       "Utilities           0\n",
       "Land Slope          0\n",
       "Overall Qual        0\n",
       "Overall Cond        0\n",
       "Exter Qual          0\n",
       "Exter Cond          0\n",
       "Bsmt Qual          15\n",
       "Bsmt Cond          15\n",
       "Bsmt Exposure      16\n",
       "BsmtFin Type 1     15\n",
       "BsmtFin Type 2     15\n",
       "Heating QC          0\n",
       "Electrical          0\n",
       "Kitchen Qual        0\n",
       "Functional          0\n",
       "Fireplace Qu      284\n",
       "Garage Finish      36\n",
       "Garage Qual        36\n",
       "Garage Cond        36\n",
       "Paved Drive         0\n",
       "Pool QC           614\n",
       "Fence             508\n",
       "dtype: int64"
      ]
     },
     "execution_count": 38,
     "metadata": {},
     "output_type": "execute_result"
    }
   ],
   "source": [
    "X_test[ordinal].isna().sum()"
   ]
  },
  {
   "cell_type": "code",
   "execution_count": 39,
   "id": "67b01279-cf19-4044-b560-3dacf2cc8f0c",
   "metadata": {},
   "outputs": [
    {
     "data": {
      "text/plain": [
       "226     Ex\n",
       "1742    Gd\n",
       "1516    TA\n",
       "1568    TA\n",
       "862     Gd\n",
       "        ..\n",
       "1724    Ex\n",
       "1095    Gd\n",
       "1130    TA\n",
       "1294    TA\n",
       "860     Gd\n",
       "Name: Bsmt Qual, Length: 1435, dtype: object"
      ]
     },
     "execution_count": 39,
     "metadata": {},
     "output_type": "execute_result"
    }
   ],
   "source": [
    "X_train[ordinal]['Bsmt Qual'].replace(np.nan,X_train[ordinal]['Bsmt Qual'].mode()[0])"
   ]
  },
  {
   "cell_type": "code",
   "execution_count": 40,
   "id": "041dad29-6f15-4df8-a360-c9a453208ca1",
   "metadata": {},
   "outputs": [
    {
     "data": {
      "text/plain": [
       "1124    TA\n",
       "188     TA\n",
       "1727    Gd\n",
       "1658    Gd\n",
       "1424    Gd\n",
       "        ..\n",
       "1864    Gd\n",
       "405     Gd\n",
       "1391    TA\n",
       "1368    Gd\n",
       "309     Gd\n",
       "Name: Bsmt Qual, Length: 616, dtype: object"
      ]
     },
     "execution_count": 40,
     "metadata": {},
     "output_type": "execute_result"
    }
   ],
   "source": [
    "X_test[ordinal]['Bsmt Qual'].replace(np.nan,X_test[ordinal]['Bsmt Qual'].mode()[0])"
   ]
  },
  {
   "cell_type": "code",
   "execution_count": 41,
   "id": "151c8689-599a-4e0a-a656-d0b4abd90d9b",
   "metadata": {},
   "outputs": [],
   "source": [
    "X_train[ordinal]= X_train[ordinal].replace(np.nan,'NA')\n",
    "# in this column, the null values are for the places with no basement, so I will be replacing them "
   ]
  },
  {
   "cell_type": "code",
   "execution_count": 42,
   "id": "11036e98-5aa6-4cac-b768-efd67371c4d5",
   "metadata": {},
   "outputs": [],
   "source": [
    "X_test[ordinal]= X_test[ordinal].replace(np.nan,'NA')"
   ]
  },
  {
   "cell_type": "code",
   "execution_count": 43,
   "id": "3d8a8e4b-261e-414b-87fb-e9a5ee4a320e",
   "metadata": {},
   "outputs": [
    {
     "data": {
      "text/plain": [
       "Lot Shape         0\n",
       "Utilities         0\n",
       "Land Slope        0\n",
       "Overall Qual      0\n",
       "Overall Cond      0\n",
       "Exter Qual        0\n",
       "Exter Cond        0\n",
       "Bsmt Qual         0\n",
       "Bsmt Cond         0\n",
       "Bsmt Exposure     0\n",
       "BsmtFin Type 1    0\n",
       "BsmtFin Type 2    0\n",
       "Heating QC        0\n",
       "Electrical        0\n",
       "Kitchen Qual      0\n",
       "Functional        0\n",
       "Fireplace Qu      0\n",
       "Garage Finish     0\n",
       "Garage Qual       0\n",
       "Garage Cond       0\n",
       "Paved Drive       0\n",
       "Pool QC           0\n",
       "Fence             0\n",
       "dtype: int64"
      ]
     },
     "execution_count": 43,
     "metadata": {},
     "output_type": "execute_result"
    }
   ],
   "source": [
    "X_train[ordinal].isna().sum()"
   ]
  },
  {
   "cell_type": "code",
   "execution_count": 44,
   "id": "166cec1c-4b14-4512-9f91-459dc03dc15d",
   "metadata": {},
   "outputs": [
    {
     "data": {
      "text/plain": [
       "Lot Shape         0\n",
       "Utilities         0\n",
       "Land Slope        0\n",
       "Overall Qual      0\n",
       "Overall Cond      0\n",
       "Exter Qual        0\n",
       "Exter Cond        0\n",
       "Bsmt Qual         0\n",
       "Bsmt Cond         0\n",
       "Bsmt Exposure     0\n",
       "BsmtFin Type 1    0\n",
       "BsmtFin Type 2    0\n",
       "Heating QC        0\n",
       "Electrical        0\n",
       "Kitchen Qual      0\n",
       "Functional        0\n",
       "Fireplace Qu      0\n",
       "Garage Finish     0\n",
       "Garage Qual       0\n",
       "Garage Cond       0\n",
       "Paved Drive       0\n",
       "Pool QC           0\n",
       "Fence             0\n",
       "dtype: int64"
      ]
     },
     "execution_count": 44,
     "metadata": {},
     "output_type": "execute_result"
    }
   ],
   "source": [
    "X_test[ordinal].isna().sum()"
   ]
  },
  {
   "cell_type": "code",
   "execution_count": 45,
   "id": "9ccdaa6f-ed0f-42c5-b907-e1e8a16e99bd",
   "metadata": {},
   "outputs": [
    {
     "data": {
      "text/plain": [
       "Lot Frontage      237\n",
       "Lot Area            0\n",
       "Mas Vnr Area       18\n",
       "BsmtFin SF 1        1\n",
       "BsmtFin SF 2        1\n",
       "Bsmt Unf SF         1\n",
       "Total Bsmt SF       1\n",
       "1st Flr SF          0\n",
       "2nd Flr SF          0\n",
       "Gr Liv Area         0\n",
       "Garage Area         0\n",
       "Wood Deck SF        0\n",
       "Open Porch SF       0\n",
       "Enclosed Porch      0\n",
       "3Ssn Porch          0\n",
       "Screen Porch        0\n",
       "Pool Area           0\n",
       "Misc Val            0\n",
       "SalePrice           0\n",
       "dtype: int64"
      ]
     },
     "execution_count": 45,
     "metadata": {},
     "output_type": "execute_result"
    }
   ],
   "source": [
    "X_train[continuous].isna().sum()"
   ]
  },
  {
   "cell_type": "code",
   "execution_count": 46,
   "id": "6cab2db0-f066-435f-a0e9-c4a7b412481d",
   "metadata": {},
   "outputs": [
    {
     "data": {
      "text/plain": [
       "Lot Frontage      93\n",
       "Lot Area           0\n",
       "Mas Vnr Area       4\n",
       "BsmtFin SF 1       0\n",
       "BsmtFin SF 2       0\n",
       "Bsmt Unf SF        0\n",
       "Total Bsmt SF      0\n",
       "1st Flr SF         0\n",
       "2nd Flr SF         0\n",
       "Gr Liv Area        0\n",
       "Garage Area        1\n",
       "Wood Deck SF       0\n",
       "Open Porch SF      0\n",
       "Enclosed Porch     0\n",
       "3Ssn Porch         0\n",
       "Screen Porch       0\n",
       "Pool Area          0\n",
       "Misc Val           0\n",
       "SalePrice          0\n",
       "dtype: int64"
      ]
     },
     "execution_count": 46,
     "metadata": {},
     "output_type": "execute_result"
    }
   ],
   "source": [
    "X_test[continuous].isna().sum()"
   ]
  },
  {
   "cell_type": "code",
   "execution_count": 47,
   "id": "f0fce9e8-5799-4a72-b9da-25a85cdd567b",
   "metadata": {},
   "outputs": [],
   "source": [
    "imputer = KNNImputer(n_neighbors=5)\n",
    "cont_transformed = pd.DataFrame(imputer.fit_transform(X_train[continuous]),columns=continuous)\n",
    "cont_transformed.set_index(X_train.index,inplace=True)"
   ]
  },
  {
   "cell_type": "code",
   "execution_count": 48,
   "id": "603ce6b5-197c-4fac-b65a-258e1b1411ca",
   "metadata": {},
   "outputs": [],
   "source": [
    "impruter = KNNImputer(n_neighbors=5)\n",
    "contt_transformed = pd.DataFrame(impruter.fit_transform(X_test[continuous]),columns=continuous)\n",
    "contt_transformed.set_index(X_test.index,inplace=True)"
   ]
  },
  {
   "cell_type": "code",
   "execution_count": 49,
   "id": "c45d3555-1ad9-4024-9177-cb9825c5e279",
   "metadata": {},
   "outputs": [],
   "source": [
    "X_train[continuous]=cont_transformed"
   ]
  },
  {
   "cell_type": "code",
   "execution_count": 50,
   "id": "1b9e398f-d021-47e9-9f09-a73f1489eb8e",
   "metadata": {},
   "outputs": [],
   "source": [
    "X_test[continuous]=contt_transformed"
   ]
  },
  {
   "cell_type": "code",
   "execution_count": 51,
   "id": "6de49ed7-7924-4fee-9f98-a209dd6e168a",
   "metadata": {},
   "outputs": [
    {
     "data": {
      "text/plain": [
       "Lot Frontage      0\n",
       "Lot Area          0\n",
       "Mas Vnr Area      0\n",
       "BsmtFin SF 1      0\n",
       "BsmtFin SF 2      0\n",
       "Bsmt Unf SF       0\n",
       "Total Bsmt SF     0\n",
       "1st Flr SF        0\n",
       "2nd Flr SF        0\n",
       "Gr Liv Area       0\n",
       "Garage Area       0\n",
       "Wood Deck SF      0\n",
       "Open Porch SF     0\n",
       "Enclosed Porch    0\n",
       "3Ssn Porch        0\n",
       "Screen Porch      0\n",
       "Pool Area         0\n",
       "Misc Val          0\n",
       "SalePrice         0\n",
       "dtype: int64"
      ]
     },
     "execution_count": 51,
     "metadata": {},
     "output_type": "execute_result"
    }
   ],
   "source": [
    "X_train[continuous].isna().sum()"
   ]
  },
  {
   "cell_type": "code",
   "execution_count": 52,
   "id": "a4301c8d-54fd-40fa-9ac8-531181cd586b",
   "metadata": {},
   "outputs": [
    {
     "data": {
      "text/plain": [
       "Lot Frontage      0\n",
       "Lot Area          0\n",
       "Mas Vnr Area      0\n",
       "BsmtFin SF 1      0\n",
       "BsmtFin SF 2      0\n",
       "Bsmt Unf SF       0\n",
       "Total Bsmt SF     0\n",
       "1st Flr SF        0\n",
       "2nd Flr SF        0\n",
       "Gr Liv Area       0\n",
       "Garage Area       0\n",
       "Wood Deck SF      0\n",
       "Open Porch SF     0\n",
       "Enclosed Porch    0\n",
       "3Ssn Porch        0\n",
       "Screen Porch      0\n",
       "Pool Area         0\n",
       "Misc Val          0\n",
       "SalePrice         0\n",
       "dtype: int64"
      ]
     },
     "execution_count": 52,
     "metadata": {},
     "output_type": "execute_result"
    }
   ],
   "source": [
    "X_test[continuous].isna().sum()"
   ]
  },
  {
   "cell_type": "code",
   "execution_count": 53,
   "id": "12e2ee43-d193-46b3-a8b7-5882bed6e850",
   "metadata": {},
   "outputs": [
    {
     "data": {
      "text/plain": [
       "Year Built         0\n",
       "Year Remod/Add     0\n",
       "Bsmt Full Bath     2\n",
       "Bsmt Half Bath     2\n",
       "Full Bath          0\n",
       "Half Bath          0\n",
       "Bedroom AbvGr      0\n",
       "Kitchen AbvGr      0\n",
       "TotRms AbvGrd      0\n",
       "Fireplaces         0\n",
       "Garage Yr Blt     78\n",
       "Garage Cars        0\n",
       "Mo Sold            0\n",
       "Yr Sold            0\n",
       "dtype: int64"
      ]
     },
     "execution_count": 53,
     "metadata": {},
     "output_type": "execute_result"
    }
   ],
   "source": [
    "X_train[discrete].isna().sum()"
   ]
  },
  {
   "cell_type": "code",
   "execution_count": 54,
   "id": "00a8117f-139a-4722-bdb7-548119eb5517",
   "metadata": {},
   "outputs": [],
   "source": [
    "imp_mode = SimpleImputer(missing_values=np.nan, strategy = 'most_frequent', copy=False)\n",
    "ont_transformed=pd.DataFrame(imp_mode.fit_transform(X_train[discrete]), columns=discrete)\n",
    "ont_transformed.set_index(X_train.index,inplace=True)"
   ]
  },
  {
   "cell_type": "code",
   "execution_count": 55,
   "id": "1b50a175-02d6-46b0-9980-58a851699bf7",
   "metadata": {},
   "outputs": [],
   "source": [
    "impa_mode = SimpleImputer(missing_values=np.nan, strategy = 'most_frequent', copy=False)\n",
    "ontt_transformed=pd.DataFrame(impa_mode.fit_transform(X_test[discrete]), columns=discrete)\n",
    "ontt_transformed.set_index(X_test.index,inplace=True)"
   ]
  },
  {
   "cell_type": "code",
   "execution_count": 56,
   "id": "f6025dd1-4655-4ee0-b38f-7eaaff480c16",
   "metadata": {},
   "outputs": [],
   "source": [
    "# imp_mode=SimpleImputer(missing_values=np.nan, strategy = 'most_frequent')\n",
    "# X_train[discrete] = pd.DataFrame(imp_mode.fit_transform(X_train[discrete]),columns=X_train[discrete].columns)"
   ]
  },
  {
   "cell_type": "code",
   "execution_count": 57,
   "id": "5990cf3a-e136-49ff-b3e8-32912a8f89ef",
   "metadata": {},
   "outputs": [],
   "source": [
    "# pimp_mode=SimpleImputer(missing_values=np.nan, strategy = 'most_frequent')\n",
    "# X_test[discrete] = pd.DataFrame(pimp_mode.fit_transform(X_test[discrete]),columns=X_test[discrete].columns)"
   ]
  },
  {
   "cell_type": "code",
   "execution_count": 58,
   "id": "0dc5fe6f-8084-4e17-9d76-a18e86fea1f2",
   "metadata": {},
   "outputs": [],
   "source": [
    "X_train[discrete]=ont_transformed"
   ]
  },
  {
   "cell_type": "code",
   "execution_count": 59,
   "id": "e868f60f-3676-4bff-8a81-debb2b8e72d5",
   "metadata": {},
   "outputs": [],
   "source": [
    "X_test[discrete]=ontt_transformed"
   ]
  },
  {
   "cell_type": "code",
   "execution_count": 60,
   "id": "6dcfc4cf-9b8f-4b8a-84cb-70d551053aae",
   "metadata": {},
   "outputs": [
    {
     "data": {
      "text/plain": [
       "Year Built        0\n",
       "Year Remod/Add    0\n",
       "Bsmt Full Bath    0\n",
       "Bsmt Half Bath    0\n",
       "Full Bath         0\n",
       "Half Bath         0\n",
       "Bedroom AbvGr     0\n",
       "Kitchen AbvGr     0\n",
       "TotRms AbvGrd     0\n",
       "Fireplaces        0\n",
       "Garage Yr Blt     0\n",
       "Garage Cars       0\n",
       "Mo Sold           0\n",
       "Yr Sold           0\n",
       "dtype: int64"
      ]
     },
     "execution_count": 60,
     "metadata": {},
     "output_type": "execute_result"
    }
   ],
   "source": [
    "X_train[discrete].isna().sum()"
   ]
  },
  {
   "cell_type": "code",
   "execution_count": 61,
   "id": "92e92a4e-283a-48f9-8e7d-d0d7dd00e5b4",
   "metadata": {},
   "outputs": [
    {
     "data": {
      "text/plain": [
       "Year Built        0\n",
       "Year Remod/Add    0\n",
       "Bsmt Full Bath    0\n",
       "Bsmt Half Bath    0\n",
       "Full Bath         0\n",
       "Half Bath         0\n",
       "Bedroom AbvGr     0\n",
       "Kitchen AbvGr     0\n",
       "TotRms AbvGrd     0\n",
       "Fireplaces        0\n",
       "Garage Yr Blt     0\n",
       "Garage Cars       0\n",
       "Mo Sold           0\n",
       "Yr Sold           0\n",
       "dtype: int64"
      ]
     },
     "execution_count": 61,
     "metadata": {},
     "output_type": "execute_result"
    }
   ],
   "source": [
    "X_test[discrete].isna().sum()"
   ]
  },
  {
   "cell_type": "code",
   "execution_count": 62,
   "id": "3d9b21fc-e562-439a-9eda-7adb5d9da6da",
   "metadata": {},
   "outputs": [],
   "source": [
    "X_train = X_train.drop(['Misc Feature', 'Pool QC'], axis = 1)\n",
    "# dropped Misc Features as it does not provide much discernable information\n",
    "# dropping Pool QC as there are only a few rows with values"
   ]
  },
  {
   "cell_type": "code",
   "execution_count": 63,
   "id": "c938accc-1a95-47f3-ad0d-a6a643f3646d",
   "metadata": {},
   "outputs": [],
   "source": [
    "X_test = X_test.drop(['Misc Feature', 'Pool QC'], axis = 1)\n"
   ]
  },
  {
   "cell_type": "code",
   "execution_count": 64,
   "id": "2e83aa45-8687-4f03-a118-a278c06b6e4c",
   "metadata": {},
   "outputs": [
    {
     "data": {
      "text/plain": [
       "0"
      ]
     },
     "execution_count": 64,
     "metadata": {},
     "output_type": "execute_result"
    }
   ],
   "source": [
    "X_train.isna().sum().sum()"
   ]
  },
  {
   "cell_type": "code",
   "execution_count": 65,
   "id": "e32868c7-a3e3-447a-98ef-6dcb0781b517",
   "metadata": {},
   "outputs": [
    {
     "data": {
      "text/plain": [
       "0"
      ]
     },
     "execution_count": 65,
     "metadata": {},
     "output_type": "execute_result"
    }
   ],
   "source": [
    "X_test.isna().sum().sum()"
   ]
  },
  {
   "cell_type": "code",
   "execution_count": 66,
   "id": "96b9edcf-c91f-40ab-bef3-682a17175cc2",
   "metadata": {},
   "outputs": [
    {
     "data": {
      "text/plain": [
       "Index(['Lot Frontage', 'Lot Area', 'Mas Vnr Area', 'BsmtFin SF 1',\n",
       "       'BsmtFin SF 2', 'Bsmt Unf SF', 'Total Bsmt SF', '1st Flr SF',\n",
       "       '2nd Flr SF', 'Gr Liv Area', 'Garage Area', 'Wood Deck SF',\n",
       "       'Open Porch SF', 'Enclosed Porch', '3Ssn Porch', 'Screen Porch',\n",
       "       'Pool Area', 'Misc Val', 'SalePrice', 'Year Built', 'Year Remod/Add',\n",
       "       'Bsmt Full Bath', 'Bsmt Half Bath', 'Full Bath', 'Half Bath',\n",
       "       'Bedroom AbvGr', 'Kitchen AbvGr', 'TotRms AbvGrd', 'Fireplaces',\n",
       "       'Garage Yr Blt', 'Garage Cars', 'Mo Sold', 'Yr Sold'],\n",
       "      dtype='object')"
      ]
     },
     "execution_count": 66,
     "metadata": {},
     "output_type": "execute_result"
    }
   ],
   "source": [
    "X_train[continuous+discrete].columns"
   ]
  },
  {
   "cell_type": "code",
   "execution_count": 67,
   "id": "8f70d6a8-bce7-4e33-96b1-41abebd5af41",
   "metadata": {},
   "outputs": [
    {
     "data": {
      "text/plain": [
       "<AxesSubplot:>"
      ]
     },
     "execution_count": 67,
     "metadata": {},
     "output_type": "execute_result"
    },
    {
     "data": {
      "image/png": "[encoded data removed]",
      "text/plain": [
       "<Figure size 432x288 with 1 Axes>"
      ]
     },
     "metadata": {
      "needs_background": "light"
     },
     "output_type": "display_data"
    }
   ],
   "source": [
    "sns.boxplot(data=X_train[continuous[:4]], orient = 'h')"
   ]
  },
  {
   "cell_type": "code",
   "execution_count": 68,
   "id": "9387a0a7-cd5b-4947-ae64-5ca0d15ec8d6",
   "metadata": {},
   "outputs": [
    {
     "data": {
      "text/plain": [
       "<AxesSubplot:>"
      ]
     },
     "execution_count": 68,
     "metadata": {},
     "output_type": "execute_result"
    },
    {
     "data": {
      "image/png": "[encoded data removed]",
      "text/plain": [
       "<Figure size 432x288 with 1 Axes>"
      ]
     },
     "metadata": {
      "needs_background": "light"
     },
     "output_type": "display_data"
    }
   ],
   "source": [
    "sns.boxplot(data=X_train[continuous[4:8]], orient = 'h')"
   ]
  },
  {
   "cell_type": "code",
   "execution_count": 69,
   "id": "33704b90-0d3a-4c6c-b4cd-3c1e20c8eb5b",
   "metadata": {},
   "outputs": [
    {
     "data": {
      "text/plain": [
       "<AxesSubplot:>"
      ]
     },
     "execution_count": 69,
     "metadata": {},
     "output_type": "execute_result"
    },
    {
     "data": {
      "image/png": "[encoded data removed]",
      "text/plain": [
       "<Figure size 432x288 with 1 Axes>"
      ]
     },
     "metadata": {
      "needs_background": "light"
     },
     "output_type": "display_data"
    }
   ],
   "source": [
    "sns.boxplot(data=X_train[continuous[8:12]], orient = 'h')"
   ]
  },
  {
   "cell_type": "code",
   "execution_count": 70,
   "id": "ad7ca3ce-1e5b-4613-98b2-20005c0ea636",
   "metadata": {},
   "outputs": [
    {
     "data": {
      "text/plain": [
       "<AxesSubplot:>"
      ]
     },
     "execution_count": 70,
     "metadata": {},
     "output_type": "execute_result"
    },
    {
     "data": {
      "image/png": "[encoded data removed]",
      "text/plain": [
       "<Figure size 432x288 with 1 Axes>"
      ]
     },
     "metadata": {
      "needs_background": "light"
     },
     "output_type": "display_data"
    }
   ],
   "source": [
    "sns.boxplot(data=X_train[continuous[12:16]], orient = 'h')"
   ]
  },
  {
   "cell_type": "code",
   "execution_count": 71,
   "id": "09a8cdf1-897e-4545-947d-a5391fea47f7",
   "metadata": {},
   "outputs": [
    {
     "data": {
      "text/plain": [
       "<AxesSubplot:>"
      ]
     },
     "execution_count": 71,
     "metadata": {},
     "output_type": "execute_result"
    },
    {
     "data": {
      "image/png": "[encoded data removed]",
      "text/plain": [
       "<Figure size 432x288 with 1 Axes>"
      ]
     },
     "metadata": {
      "needs_background": "light"
     },
     "output_type": "display_data"
    }
   ],
   "source": [
    "sns.boxplot(data=X_train[continuous[16:19]], orient = 'h')"
   ]
  },
  {
   "cell_type": "code",
   "execution_count": 72,
   "id": "8910a3eb-31af-4858-b7f4-621b84655adf",
   "metadata": {},
   "outputs": [
    {
     "data": {
      "text/plain": [
       "14"
      ]
     },
     "execution_count": 72,
     "metadata": {},
     "output_type": "execute_result"
    }
   ],
   "source": [
    "len(X_train[discrete].columns)"
   ]
  },
  {
   "cell_type": "code",
   "execution_count": 73,
   "id": "9dc2b5b0-c553-4680-9f97-27805ce4b53b",
   "metadata": {},
   "outputs": [
    {
     "data": {
      "text/plain": [
       "19"
      ]
     },
     "execution_count": 73,
     "metadata": {},
     "output_type": "execute_result"
    }
   ],
   "source": [
    "len(X_train[continuous].columns)"
   ]
  },
  {
   "cell_type": "code",
   "execution_count": 74,
   "id": "e26570f3-5d20-4420-a2b4-b40331bb6561",
   "metadata": {},
   "outputs": [
    {
     "data": {
      "text/plain": [
       "<AxesSubplot:>"
      ]
     },
     "execution_count": 74,
     "metadata": {},
     "output_type": "execute_result"
    },
    {
     "data": {
      "image/png": "[encoded data removed]",
      "text/plain": [
       "<Figure size 432x288 with 1 Axes>"
      ]
     },
     "metadata": {
      "needs_background": "light"
     },
     "output_type": "display_data"
    }
   ],
   "source": [
    "sns.boxplot(data=X_train[discrete[0:4]], orient = 'h')"
   ]
  },
  {
   "cell_type": "code",
   "execution_count": 75,
   "id": "73783ad1-ad6f-45f9-8c7b-9b912552a981",
   "metadata": {},
   "outputs": [
    {
     "data": {
      "text/plain": [
       "<AxesSubplot:>"
      ]
     },
     "execution_count": 75,
     "metadata": {},
     "output_type": "execute_result"
    },
    {
     "data": {
      "image/png": "[encoded data removed]",
      "text/plain": [
       "<Figure size 432x288 with 1 Axes>"
      ]
     },
     "metadata": {
      "needs_background": "light"
     },
     "output_type": "display_data"
    }
   ],
   "source": [
    "sns.boxplot(data=X_train[discrete[4:8]], orient = 'h')"
   ]
  },
  {
   "cell_type": "code",
   "execution_count": 76,
   "id": "269b2c08-5bc6-4b74-924d-e27154d809ec",
   "metadata": {},
   "outputs": [
    {
     "data": {
      "text/plain": [
       "<AxesSubplot:>"
      ]
     },
     "execution_count": 76,
     "metadata": {},
     "output_type": "execute_result"
    },
    {
     "data": {
      "image/png": "[encoded data removed]",
      "text/plain": [
       "<Figure size 432x288 with 1 Axes>"
      ]
     },
     "metadata": {
      "needs_background": "light"
     },
     "output_type": "display_data"
    }
   ],
   "source": [
    "sns.boxplot(data=X_train[discrete[8:12]], orient = 'h')"
   ]
  },
  {
   "cell_type": "code",
   "execution_count": 77,
   "id": "98e522e7-09c5-48d3-b908-632ec30e5914",
   "metadata": {},
   "outputs": [
    {
     "data": {
      "text/plain": [
       "<AxesSubplot:>"
      ]
     },
     "execution_count": 77,
     "metadata": {},
     "output_type": "execute_result"
    },
    {
     "data": {
      "image/png": "[encoded data removed]",
      "text/plain": [
       "<Figure size 432x288 with 1 Axes>"
      ]
     },
     "metadata": {
      "needs_background": "light"
     },
     "output_type": "display_data"
    }
   ],
   "source": [
    "sns.boxplot(data=X_train[discrete[12:16]], orient = 'h')"
   ]
  },
  {
   "cell_type": "code",
   "execution_count": 78,
   "id": "ee7c85d4-4540-4d28-a8cb-5f599f10e720",
   "metadata": {},
   "outputs": [
    {
     "data": {
      "text/plain": [
       "<AxesSubplot:>"
      ]
     },
     "execution_count": 78,
     "metadata": {},
     "output_type": "execute_result"
    },
    {
     "data": {
      "image/png": "[encoded data removed]",
      "text/plain": [
       "<Figure size 432x288 with 2 Axes>"
      ]
     },
     "metadata": {
      "needs_background": "light"
     },
     "output_type": "display_data"
    }
   ],
   "source": [
    "sns.heatmap(X_train.corr(), annot = True)"
   ]
  },
  {
   "cell_type": "code",
   "execution_count": 79,
   "id": "6312a983-904e-4d47-a3ae-dc1760a80017",
   "metadata": {},
   "outputs": [
    {
     "data": {
      "text/html": [
       "<div>\n",
       "<style scoped>\n",
       "    .dataframe tbody tr th:only-of-type {\n",
       "        vertical-align: middle;\n",
       "    }\n",
       "\n",
       "    .dataframe tbody tr th {\n",
       "        vertical-align: top;\n",
       "    }\n",
       "\n",
       "    .dataframe thead th {\n",
       "        text-align: right;\n",
       "    }\n",
       "</style>\n",
       "<table border=\"1\" class=\"dataframe\">\n",
       "  <thead>\n",
       "    <tr style=\"text-align: right;\">\n",
       "      <th></th>\n",
       "      <th>Lot Frontage</th>\n",
       "      <th>Lot Area</th>\n",
       "      <th>Mas Vnr Area</th>\n",
       "      <th>BsmtFin SF 1</th>\n",
       "      <th>BsmtFin SF 2</th>\n",
       "      <th>Bsmt Unf SF</th>\n",
       "      <th>Total Bsmt SF</th>\n",
       "      <th>1st Flr SF</th>\n",
       "      <th>2nd Flr SF</th>\n",
       "      <th>Gr Liv Area</th>\n",
       "      <th>Garage Area</th>\n",
       "      <th>Wood Deck SF</th>\n",
       "      <th>Open Porch SF</th>\n",
       "      <th>Enclosed Porch</th>\n",
       "      <th>3Ssn Porch</th>\n",
       "      <th>Screen Porch</th>\n",
       "      <th>Pool Area</th>\n",
       "      <th>Misc Val</th>\n",
       "      <th>SalePrice</th>\n",
       "    </tr>\n",
       "  </thead>\n",
       "  <tbody>\n",
       "    <tr>\n",
       "      <th>count</th>\n",
       "      <td>1435.000000</td>\n",
       "      <td>1435.000000</td>\n",
       "      <td>1435.000000</td>\n",
       "      <td>1435.000000</td>\n",
       "      <td>1435.000000</td>\n",
       "      <td>1435.000000</td>\n",
       "      <td>1435.000000</td>\n",
       "      <td>1435.000000</td>\n",
       "      <td>1435.000000</td>\n",
       "      <td>1435.000000</td>\n",
       "      <td>1435.000000</td>\n",
       "      <td>1435.000000</td>\n",
       "      <td>1435.000000</td>\n",
       "      <td>1435.000000</td>\n",
       "      <td>1435.000000</td>\n",
       "      <td>1435.000000</td>\n",
       "      <td>1435.000000</td>\n",
       "      <td>1435.000000</td>\n",
       "      <td>1435.000000</td>\n",
       "    </tr>\n",
       "    <tr>\n",
       "      <th>mean</th>\n",
       "      <td>70.100627</td>\n",
       "      <td>9910.213240</td>\n",
       "      <td>99.988711</td>\n",
       "      <td>442.821185</td>\n",
       "      <td>49.402787</td>\n",
       "      <td>564.800279</td>\n",
       "      <td>1057.024251</td>\n",
       "      <td>1161.639721</td>\n",
       "      <td>327.009756</td>\n",
       "      <td>1493.616725</td>\n",
       "      <td>473.314286</td>\n",
       "      <td>94.294077</td>\n",
       "      <td>47.785366</td>\n",
       "      <td>21.704530</td>\n",
       "      <td>2.806969</td>\n",
       "      <td>16.863415</td>\n",
       "      <td>2.754007</td>\n",
       "      <td>59.075958</td>\n",
       "      <td>180717.969338</td>\n",
       "    </tr>\n",
       "    <tr>\n",
       "      <th>std</th>\n",
       "      <td>23.090639</td>\n",
       "      <td>5388.301089</td>\n",
       "      <td>176.646375</td>\n",
       "      <td>473.304557</td>\n",
       "      <td>171.639163</td>\n",
       "      <td>441.279384</td>\n",
       "      <td>458.916338</td>\n",
       "      <td>405.571607</td>\n",
       "      <td>426.014804</td>\n",
       "      <td>509.845159</td>\n",
       "      <td>217.657183</td>\n",
       "      <td>125.629799</td>\n",
       "      <td>67.425696</td>\n",
       "      <td>59.670683</td>\n",
       "      <td>27.060492</td>\n",
       "      <td>58.112424</td>\n",
       "      <td>40.315200</td>\n",
       "      <td>634.045814</td>\n",
       "      <td>80067.840392</td>\n",
       "    </tr>\n",
       "    <tr>\n",
       "      <th>min</th>\n",
       "      <td>21.000000</td>\n",
       "      <td>1476.000000</td>\n",
       "      <td>0.000000</td>\n",
       "      <td>0.000000</td>\n",
       "      <td>0.000000</td>\n",
       "      <td>0.000000</td>\n",
       "      <td>0.000000</td>\n",
       "      <td>334.000000</td>\n",
       "      <td>0.000000</td>\n",
       "      <td>334.000000</td>\n",
       "      <td>0.000000</td>\n",
       "      <td>0.000000</td>\n",
       "      <td>0.000000</td>\n",
       "      <td>0.000000</td>\n",
       "      <td>0.000000</td>\n",
       "      <td>0.000000</td>\n",
       "      <td>0.000000</td>\n",
       "      <td>0.000000</td>\n",
       "      <td>13100.000000</td>\n",
       "    </tr>\n",
       "    <tr>\n",
       "      <th>25%</th>\n",
       "      <td>60.000000</td>\n",
       "      <td>7424.500000</td>\n",
       "      <td>0.000000</td>\n",
       "      <td>0.000000</td>\n",
       "      <td>0.000000</td>\n",
       "      <td>218.000000</td>\n",
       "      <td>792.500000</td>\n",
       "      <td>874.000000</td>\n",
       "      <td>0.000000</td>\n",
       "      <td>1125.000000</td>\n",
       "      <td>312.500000</td>\n",
       "      <td>0.000000</td>\n",
       "      <td>0.000000</td>\n",
       "      <td>0.000000</td>\n",
       "      <td>0.000000</td>\n",
       "      <td>0.000000</td>\n",
       "      <td>0.000000</td>\n",
       "      <td>0.000000</td>\n",
       "      <td>129650.000000</td>\n",
       "    </tr>\n",
       "    <tr>\n",
       "      <th>50%</th>\n",
       "      <td>70.000000</td>\n",
       "      <td>9399.000000</td>\n",
       "      <td>0.000000</td>\n",
       "      <td>360.000000</td>\n",
       "      <td>0.000000</td>\n",
       "      <td>466.000000</td>\n",
       "      <td>994.000000</td>\n",
       "      <td>1094.000000</td>\n",
       "      <td>0.000000</td>\n",
       "      <td>1432.000000</td>\n",
       "      <td>478.000000</td>\n",
       "      <td>0.000000</td>\n",
       "      <td>26.000000</td>\n",
       "      <td>0.000000</td>\n",
       "      <td>0.000000</td>\n",
       "      <td>0.000000</td>\n",
       "      <td>0.000000</td>\n",
       "      <td>0.000000</td>\n",
       "      <td>161500.000000</td>\n",
       "    </tr>\n",
       "    <tr>\n",
       "      <th>75%</th>\n",
       "      <td>80.000000</td>\n",
       "      <td>11450.500000</td>\n",
       "      <td>160.500000</td>\n",
       "      <td>735.000000</td>\n",
       "      <td>0.000000</td>\n",
       "      <td>810.000000</td>\n",
       "      <td>1312.000000</td>\n",
       "      <td>1392.000000</td>\n",
       "      <td>685.000000</td>\n",
       "      <td>1718.500000</td>\n",
       "      <td>577.000000</td>\n",
       "      <td>168.000000</td>\n",
       "      <td>70.000000</td>\n",
       "      <td>0.000000</td>\n",
       "      <td>0.000000</td>\n",
       "      <td>0.000000</td>\n",
       "      <td>0.000000</td>\n",
       "      <td>0.000000</td>\n",
       "      <td>213000.000000</td>\n",
       "    </tr>\n",
       "    <tr>\n",
       "      <th>max</th>\n",
       "      <td>313.000000</td>\n",
       "      <td>63887.000000</td>\n",
       "      <td>1600.000000</td>\n",
       "      <td>5644.000000</td>\n",
       "      <td>1474.000000</td>\n",
       "      <td>2153.000000</td>\n",
       "      <td>6110.000000</td>\n",
       "      <td>5095.000000</td>\n",
       "      <td>1862.000000</td>\n",
       "      <td>5642.000000</td>\n",
       "      <td>1418.000000</td>\n",
       "      <td>870.000000</td>\n",
       "      <td>547.000000</td>\n",
       "      <td>432.000000</td>\n",
       "      <td>508.000000</td>\n",
       "      <td>490.000000</td>\n",
       "      <td>800.000000</td>\n",
       "      <td>17000.000000</td>\n",
       "      <td>611657.000000</td>\n",
       "    </tr>\n",
       "  </tbody>\n",
       "</table>\n",
       "</div>"
      ],
      "text/plain": [
       "       Lot Frontage      Lot Area  Mas Vnr Area  BsmtFin SF 1  BsmtFin SF 2  \\\n",
       "count   1435.000000   1435.000000   1435.000000   1435.000000   1435.000000   \n",
       "mean      70.100627   9910.213240     99.988711    442.821185     49.402787   \n",
       "std       23.090639   5388.301089    176.646375    473.304557    171.639163   \n",
       "min       21.000000   1476.000000      0.000000      0.000000      0.000000   \n",
       "25%       60.000000   7424.500000      0.000000      0.000000      0.000000   \n",
       "50%       70.000000   9399.000000      0.000000    360.000000      0.000000   \n",
       "75%       80.000000  11450.500000    160.500000    735.000000      0.000000   \n",
       "max      313.000000  63887.000000   1600.000000   5644.000000   1474.000000   \n",
       "\n",
       "       Bsmt Unf SF  Total Bsmt SF   1st Flr SF   2nd Flr SF  Gr Liv Area  \\\n",
       "count  1435.000000    1435.000000  1435.000000  1435.000000  1435.000000   \n",
       "mean    564.800279    1057.024251  1161.639721   327.009756  1493.616725   \n",
       "std     441.279384     458.916338   405.571607   426.014804   509.845159   \n",
       "min       0.000000       0.000000   334.000000     0.000000   334.000000   \n",
       "25%     218.000000     792.500000   874.000000     0.000000  1125.000000   \n",
       "50%     466.000000     994.000000  1094.000000     0.000000  1432.000000   \n",
       "75%     810.000000    1312.000000  1392.000000   685.000000  1718.500000   \n",
       "max    2153.000000    6110.000000  5095.000000  1862.000000  5642.000000   \n",
       "\n",
       "       Garage Area  Wood Deck SF  Open Porch SF  Enclosed Porch   3Ssn Porch  \\\n",
       "count  1435.000000   1435.000000    1435.000000     1435.000000  1435.000000   \n",
       "mean    473.314286     94.294077      47.785366       21.704530     2.806969   \n",
       "std     217.657183    125.629799      67.425696       59.670683    27.060492   \n",
       "min       0.000000      0.000000       0.000000        0.000000     0.000000   \n",
       "25%     312.500000      0.000000       0.000000        0.000000     0.000000   \n",
       "50%     478.000000      0.000000      26.000000        0.000000     0.000000   \n",
       "75%     577.000000    168.000000      70.000000        0.000000     0.000000   \n",
       "max    1418.000000    870.000000     547.000000      432.000000   508.000000   \n",
       "\n",
       "       Screen Porch    Pool Area      Misc Val      SalePrice  \n",
       "count   1435.000000  1435.000000   1435.000000    1435.000000  \n",
       "mean      16.863415     2.754007     59.075958  180717.969338  \n",
       "std       58.112424    40.315200    634.045814   80067.840392  \n",
       "min        0.000000     0.000000      0.000000   13100.000000  \n",
       "25%        0.000000     0.000000      0.000000  129650.000000  \n",
       "50%        0.000000     0.000000      0.000000  161500.000000  \n",
       "75%        0.000000     0.000000      0.000000  213000.000000  \n",
       "max      490.000000   800.000000  17000.000000  611657.000000  "
      ]
     },
     "execution_count": 79,
     "metadata": {},
     "output_type": "execute_result"
    }
   ],
   "source": [
    "X_train[continuous].describe()"
   ]
  },
  {
   "cell_type": "code",
   "execution_count": 80,
   "id": "34d932b4-dc5c-41e2-907d-e415a1d3d895",
   "metadata": {},
   "outputs": [
    {
     "name": "stdout",
     "output_type": "stream",
     "text": [
      "<class 'pandas.core.frame.DataFrame'>\n",
      "Int64Index: 1435 entries, 226 to 860\n",
      "Data columns (total 33 columns):\n",
      " #   Column          Non-Null Count  Dtype  \n",
      "---  ------          --------------  -----  \n",
      " 0   Lot Frontage    1435 non-null   float64\n",
      " 1   Lot Area        1435 non-null   float64\n",
      " 2   Mas Vnr Area    1435 non-null   float64\n",
      " 3   BsmtFin SF 1    1435 non-null   float64\n",
      " 4   BsmtFin SF 2    1435 non-null   float64\n",
      " 5   Bsmt Unf SF     1435 non-null   float64\n",
      " 6   Total Bsmt SF   1435 non-null   float64\n",
      " 7   1st Flr SF      1435 non-null   float64\n",
      " 8   2nd Flr SF      1435 non-null   float64\n",
      " 9   Gr Liv Area     1435 non-null   float64\n",
      " 10  Garage Area     1435 non-null   float64\n",
      " 11  Wood Deck SF    1435 non-null   float64\n",
      " 12  Open Porch SF   1435 non-null   float64\n",
      " 13  Enclosed Porch  1435 non-null   float64\n",
      " 14  3Ssn Porch      1435 non-null   float64\n",
      " 15  Screen Porch    1435 non-null   float64\n",
      " 16  Pool Area       1435 non-null   float64\n",
      " 17  Misc Val        1435 non-null   float64\n",
      " 18  SalePrice       1435 non-null   float64\n",
      " 19  Year Built      1435 non-null   float64\n",
      " 20  Year Remod/Add  1435 non-null   float64\n",
      " 21  Bsmt Full Bath  1435 non-null   float64\n",
      " 22  Bsmt Half Bath  1435 non-null   float64\n",
      " 23  Full Bath       1435 non-null   float64\n",
      " 24  Half Bath       1435 non-null   float64\n",
      " 25  Bedroom AbvGr   1435 non-null   float64\n",
      " 26  Kitchen AbvGr   1435 non-null   float64\n",
      " 27  TotRms AbvGrd   1435 non-null   float64\n",
      " 28  Fireplaces      1435 non-null   float64\n",
      " 29  Garage Yr Blt   1435 non-null   float64\n",
      " 30  Garage Cars     1435 non-null   float64\n",
      " 31  Mo Sold         1435 non-null   float64\n",
      " 32  Yr Sold         1435 non-null   float64\n",
      "dtypes: float64(33)\n",
      "memory usage: 381.2 KB\n"
     ]
    }
   ],
   "source": [
    "X_train[continuous+discrete].info()"
   ]
  },
  {
   "cell_type": "code",
   "execution_count": 81,
   "id": "740a3d58-aa86-455b-8383-8033a4be76af",
   "metadata": {},
   "outputs": [],
   "source": [
    "X_train = X_train[(np.abs(stats.zscore(X_train[continuous+discrete])) < 3).all(axis=1)]\n"
   ]
  },
  {
   "cell_type": "code",
   "execution_count": 82,
   "id": "e2fc9427-3ffe-4655-98fa-05b1281f1c87",
   "metadata": {},
   "outputs": [],
   "source": [
    "X_test = X_test[(np.abs(stats.zscore(X_test[continuous+discrete])) < 3).all(axis=1)]\n"
   ]
  },
  {
   "cell_type": "code",
   "execution_count": 83,
   "id": "7d98e454-a4ce-45dc-bb0d-c71f88917eca",
   "metadata": {},
   "outputs": [
    {
     "data": {
      "text/html": [
       "<div>\n",
       "<style scoped>\n",
       "    .dataframe tbody tr th:only-of-type {\n",
       "        vertical-align: middle;\n",
       "    }\n",
       "\n",
       "    .dataframe tbody tr th {\n",
       "        vertical-align: top;\n",
       "    }\n",
       "\n",
       "    .dataframe thead th {\n",
       "        text-align: right;\n",
       "    }\n",
       "</style>\n",
       "<table border=\"1\" class=\"dataframe\">\n",
       "  <thead>\n",
       "    <tr style=\"text-align: right;\">\n",
       "      <th></th>\n",
       "      <th>Id</th>\n",
       "      <th>PID</th>\n",
       "      <th>MS SubClass</th>\n",
       "      <th>MS Zoning</th>\n",
       "      <th>Lot Frontage</th>\n",
       "      <th>Lot Area</th>\n",
       "      <th>Street</th>\n",
       "      <th>Alley</th>\n",
       "      <th>Lot Shape</th>\n",
       "      <th>Land Contour</th>\n",
       "      <th>Utilities</th>\n",
       "      <th>Lot Config</th>\n",
       "      <th>Land Slope</th>\n",
       "      <th>Neighborhood</th>\n",
       "      <th>Condition 1</th>\n",
       "      <th>Condition 2</th>\n",
       "      <th>Bldg Type</th>\n",
       "      <th>House Style</th>\n",
       "      <th>Overall Qual</th>\n",
       "      <th>Overall Cond</th>\n",
       "      <th>Year Built</th>\n",
       "      <th>Year Remod/Add</th>\n",
       "      <th>Roof Style</th>\n",
       "      <th>Roof Matl</th>\n",
       "      <th>Exterior 1st</th>\n",
       "      <th>Exterior 2nd</th>\n",
       "      <th>Mas Vnr Type</th>\n",
       "      <th>Mas Vnr Area</th>\n",
       "      <th>Exter Qual</th>\n",
       "      <th>Exter Cond</th>\n",
       "      <th>Foundation</th>\n",
       "      <th>Bsmt Qual</th>\n",
       "      <th>Bsmt Cond</th>\n",
       "      <th>Bsmt Exposure</th>\n",
       "      <th>BsmtFin Type 1</th>\n",
       "      <th>BsmtFin SF 1</th>\n",
       "      <th>BsmtFin Type 2</th>\n",
       "      <th>BsmtFin SF 2</th>\n",
       "      <th>Bsmt Unf SF</th>\n",
       "      <th>Total Bsmt SF</th>\n",
       "      <th>Heating</th>\n",
       "      <th>Heating QC</th>\n",
       "      <th>Central Air</th>\n",
       "      <th>Electrical</th>\n",
       "      <th>1st Flr SF</th>\n",
       "      <th>2nd Flr SF</th>\n",
       "      <th>Low Qual Fin SF</th>\n",
       "      <th>Gr Liv Area</th>\n",
       "      <th>Bsmt Full Bath</th>\n",
       "      <th>Bsmt Half Bath</th>\n",
       "      <th>Full Bath</th>\n",
       "      <th>Half Bath</th>\n",
       "      <th>Bedroom AbvGr</th>\n",
       "      <th>Kitchen AbvGr</th>\n",
       "      <th>Kitchen Qual</th>\n",
       "      <th>TotRms AbvGrd</th>\n",
       "      <th>Functional</th>\n",
       "      <th>Fireplaces</th>\n",
       "      <th>Fireplace Qu</th>\n",
       "      <th>Garage Type</th>\n",
       "      <th>Garage Yr Blt</th>\n",
       "      <th>Garage Finish</th>\n",
       "      <th>Garage Cars</th>\n",
       "      <th>Garage Area</th>\n",
       "      <th>Garage Qual</th>\n",
       "      <th>Garage Cond</th>\n",
       "      <th>Paved Drive</th>\n",
       "      <th>Wood Deck SF</th>\n",
       "      <th>Open Porch SF</th>\n",
       "      <th>Enclosed Porch</th>\n",
       "      <th>3Ssn Porch</th>\n",
       "      <th>Screen Porch</th>\n",
       "      <th>Pool Area</th>\n",
       "      <th>Fence</th>\n",
       "      <th>Misc Val</th>\n",
       "      <th>Mo Sold</th>\n",
       "      <th>Yr Sold</th>\n",
       "      <th>Sale Type</th>\n",
       "      <th>SalePrice</th>\n",
       "    </tr>\n",
       "  </thead>\n",
       "  <tbody>\n",
       "    <tr>\n",
       "      <th>1742</th>\n",
       "      <td>482</td>\n",
       "      <td>528250040</td>\n",
       "      <td>60</td>\n",
       "      <td>RL</td>\n",
       "      <td>66.8</td>\n",
       "      <td>8174.0</td>\n",
       "      <td>Pave</td>\n",
       "      <td>0</td>\n",
       "      <td>IR1</td>\n",
       "      <td>Lvl</td>\n",
       "      <td>AllPub</td>\n",
       "      <td>Inside</td>\n",
       "      <td>Gtl</td>\n",
       "      <td>Gilbert</td>\n",
       "      <td>Norm</td>\n",
       "      <td>Norm</td>\n",
       "      <td>1Fam</td>\n",
       "      <td>2Story</td>\n",
       "      <td>7</td>\n",
       "      <td>5</td>\n",
       "      <td>2003.0</td>\n",
       "      <td>2003.0</td>\n",
       "      <td>Gable</td>\n",
       "      <td>CompShg</td>\n",
       "      <td>VinylSd</td>\n",
       "      <td>VinylSd</td>\n",
       "      <td>None</td>\n",
       "      <td>0.0</td>\n",
       "      <td>Gd</td>\n",
       "      <td>TA</td>\n",
       "      <td>PConc</td>\n",
       "      <td>Gd</td>\n",
       "      <td>TA</td>\n",
       "      <td>No</td>\n",
       "      <td>GLQ</td>\n",
       "      <td>494.0</td>\n",
       "      <td>Unf</td>\n",
       "      <td>0.0</td>\n",
       "      <td>204.0</td>\n",
       "      <td>698.0</td>\n",
       "      <td>GasA</td>\n",
       "      <td>Ex</td>\n",
       "      <td>Y</td>\n",
       "      <td>SBrkr</td>\n",
       "      <td>698.0</td>\n",
       "      <td>644.0</td>\n",
       "      <td>0</td>\n",
       "      <td>1342.0</td>\n",
       "      <td>1.0</td>\n",
       "      <td>0.0</td>\n",
       "      <td>2.0</td>\n",
       "      <td>1.0</td>\n",
       "      <td>3.0</td>\n",
       "      <td>1.0</td>\n",
       "      <td>Gd</td>\n",
       "      <td>7.0</td>\n",
       "      <td>Typ</td>\n",
       "      <td>1.0</td>\n",
       "      <td>TA</td>\n",
       "      <td>Attchd</td>\n",
       "      <td>2003.0</td>\n",
       "      <td>Fin</td>\n",
       "      <td>2.0</td>\n",
       "      <td>393.0</td>\n",
       "      <td>TA</td>\n",
       "      <td>TA</td>\n",
       "      <td>Y</td>\n",
       "      <td>100.0</td>\n",
       "      <td>56.0</td>\n",
       "      <td>0.0</td>\n",
       "      <td>0.0</td>\n",
       "      <td>0.0</td>\n",
       "      <td>0.0</td>\n",
       "      <td>NA</td>\n",
       "      <td>0.0</td>\n",
       "      <td>5.0</td>\n",
       "      <td>2009.0</td>\n",
       "      <td>WD</td>\n",
       "      <td>178000.0</td>\n",
       "    </tr>\n",
       "    <tr>\n",
       "      <th>1516</th>\n",
       "      <td>791</td>\n",
       "      <td>905451340</td>\n",
       "      <td>20</td>\n",
       "      <td>RL</td>\n",
       "      <td>68.0</td>\n",
       "      <td>9571.0</td>\n",
       "      <td>Pave</td>\n",
       "      <td>0</td>\n",
       "      <td>Reg</td>\n",
       "      <td>Lvl</td>\n",
       "      <td>AllPub</td>\n",
       "      <td>Inside</td>\n",
       "      <td>Gtl</td>\n",
       "      <td>Edwards</td>\n",
       "      <td>Norm</td>\n",
       "      <td>Norm</td>\n",
       "      <td>1Fam</td>\n",
       "      <td>1Story</td>\n",
       "      <td>5</td>\n",
       "      <td>3</td>\n",
       "      <td>1958.0</td>\n",
       "      <td>1958.0</td>\n",
       "      <td>Gable</td>\n",
       "      <td>CompShg</td>\n",
       "      <td>BrkComm</td>\n",
       "      <td>Brk Cmn</td>\n",
       "      <td>None</td>\n",
       "      <td>0.0</td>\n",
       "      <td>TA</td>\n",
       "      <td>Fa</td>\n",
       "      <td>CBlock</td>\n",
       "      <td>TA</td>\n",
       "      <td>Fa</td>\n",
       "      <td>No</td>\n",
       "      <td>Unf</td>\n",
       "      <td>0.0</td>\n",
       "      <td>Unf</td>\n",
       "      <td>0.0</td>\n",
       "      <td>1276.0</td>\n",
       "      <td>1276.0</td>\n",
       "      <td>GasA</td>\n",
       "      <td>TA</td>\n",
       "      <td>Y</td>\n",
       "      <td>FuseA</td>\n",
       "      <td>1276.0</td>\n",
       "      <td>0.0</td>\n",
       "      <td>0</td>\n",
       "      <td>1276.0</td>\n",
       "      <td>0.0</td>\n",
       "      <td>0.0</td>\n",
       "      <td>1.0</td>\n",
       "      <td>0.0</td>\n",
       "      <td>3.0</td>\n",
       "      <td>1.0</td>\n",
       "      <td>TA</td>\n",
       "      <td>5.0</td>\n",
       "      <td>Mod</td>\n",
       "      <td>0.0</td>\n",
       "      <td>NA</td>\n",
       "      <td>Attchd</td>\n",
       "      <td>1958.0</td>\n",
       "      <td>Unf</td>\n",
       "      <td>1.0</td>\n",
       "      <td>350.0</td>\n",
       "      <td>TA</td>\n",
       "      <td>TA</td>\n",
       "      <td>Y</td>\n",
       "      <td>0.0</td>\n",
       "      <td>0.0</td>\n",
       "      <td>0.0</td>\n",
       "      <td>0.0</td>\n",
       "      <td>0.0</td>\n",
       "      <td>0.0</td>\n",
       "      <td>NA</td>\n",
       "      <td>0.0</td>\n",
       "      <td>6.0</td>\n",
       "      <td>2009.0</td>\n",
       "      <td>COD</td>\n",
       "      <td>60000.0</td>\n",
       "    </tr>\n",
       "    <tr>\n",
       "      <th>1568</th>\n",
       "      <td>2233</td>\n",
       "      <td>910200110</td>\n",
       "      <td>50</td>\n",
       "      <td>RM</td>\n",
       "      <td>50.0</td>\n",
       "      <td>7000.0</td>\n",
       "      <td>Pave</td>\n",
       "      <td>0</td>\n",
       "      <td>Reg</td>\n",
       "      <td>Lvl</td>\n",
       "      <td>AllPub</td>\n",
       "      <td>Corner</td>\n",
       "      <td>Gtl</td>\n",
       "      <td>IDOTRR</td>\n",
       "      <td>Norm</td>\n",
       "      <td>Norm</td>\n",
       "      <td>1Fam</td>\n",
       "      <td>1.5Fin</td>\n",
       "      <td>6</td>\n",
       "      <td>7</td>\n",
       "      <td>1940.0</td>\n",
       "      <td>1950.0</td>\n",
       "      <td>Gable</td>\n",
       "      <td>CompShg</td>\n",
       "      <td>Wd Sdng</td>\n",
       "      <td>Wd Sdng</td>\n",
       "      <td>None</td>\n",
       "      <td>0.0</td>\n",
       "      <td>TA</td>\n",
       "      <td>TA</td>\n",
       "      <td>BrkTil</td>\n",
       "      <td>TA</td>\n",
       "      <td>TA</td>\n",
       "      <td>No</td>\n",
       "      <td>ALQ</td>\n",
       "      <td>375.0</td>\n",
       "      <td>Unf</td>\n",
       "      <td>0.0</td>\n",
       "      <td>345.0</td>\n",
       "      <td>720.0</td>\n",
       "      <td>GasA</td>\n",
       "      <td>Gd</td>\n",
       "      <td>Y</td>\n",
       "      <td>FuseA</td>\n",
       "      <td>720.0</td>\n",
       "      <td>495.0</td>\n",
       "      <td>0</td>\n",
       "      <td>1215.0</td>\n",
       "      <td>0.0</td>\n",
       "      <td>0.0</td>\n",
       "      <td>1.0</td>\n",
       "      <td>0.0</td>\n",
       "      <td>3.0</td>\n",
       "      <td>1.0</td>\n",
       "      <td>Gd</td>\n",
       "      <td>6.0</td>\n",
       "      <td>Typ</td>\n",
       "      <td>0.0</td>\n",
       "      <td>NA</td>\n",
       "      <td>Detchd</td>\n",
       "      <td>1965.0</td>\n",
       "      <td>Fin</td>\n",
       "      <td>2.0</td>\n",
       "      <td>720.0</td>\n",
       "      <td>TA</td>\n",
       "      <td>TA</td>\n",
       "      <td>Y</td>\n",
       "      <td>0.0</td>\n",
       "      <td>0.0</td>\n",
       "      <td>30.0</td>\n",
       "      <td>0.0</td>\n",
       "      <td>0.0</td>\n",
       "      <td>0.0</td>\n",
       "      <td>MnPrv</td>\n",
       "      <td>0.0</td>\n",
       "      <td>5.0</td>\n",
       "      <td>2007.0</td>\n",
       "      <td>WD</td>\n",
       "      <td>141000.0</td>\n",
       "    </tr>\n",
       "    <tr>\n",
       "      <th>862</th>\n",
       "      <td>1793</td>\n",
       "      <td>528445070</td>\n",
       "      <td>60</td>\n",
       "      <td>RL</td>\n",
       "      <td>75.0</td>\n",
       "      <td>8778.0</td>\n",
       "      <td>Pave</td>\n",
       "      <td>0</td>\n",
       "      <td>Reg</td>\n",
       "      <td>Lvl</td>\n",
       "      <td>AllPub</td>\n",
       "      <td>Inside</td>\n",
       "      <td>Gtl</td>\n",
       "      <td>Somerst</td>\n",
       "      <td>Norm</td>\n",
       "      <td>Norm</td>\n",
       "      <td>1Fam</td>\n",
       "      <td>2Story</td>\n",
       "      <td>8</td>\n",
       "      <td>5</td>\n",
       "      <td>2006.0</td>\n",
       "      <td>2006.0</td>\n",
       "      <td>Gable</td>\n",
       "      <td>CompShg</td>\n",
       "      <td>VinylSd</td>\n",
       "      <td>VinylSd</td>\n",
       "      <td>None</td>\n",
       "      <td>0.0</td>\n",
       "      <td>Gd</td>\n",
       "      <td>TA</td>\n",
       "      <td>PConc</td>\n",
       "      <td>Gd</td>\n",
       "      <td>TA</td>\n",
       "      <td>No</td>\n",
       "      <td>Unf</td>\n",
       "      <td>0.0</td>\n",
       "      <td>Unf</td>\n",
       "      <td>0.0</td>\n",
       "      <td>1302.0</td>\n",
       "      <td>1302.0</td>\n",
       "      <td>GasA</td>\n",
       "      <td>Ex</td>\n",
       "      <td>Y</td>\n",
       "      <td>SBrkr</td>\n",
       "      <td>1302.0</td>\n",
       "      <td>528.0</td>\n",
       "      <td>0</td>\n",
       "      <td>1830.0</td>\n",
       "      <td>0.0</td>\n",
       "      <td>0.0</td>\n",
       "      <td>2.0</td>\n",
       "      <td>1.0</td>\n",
       "      <td>3.0</td>\n",
       "      <td>1.0</td>\n",
       "      <td>Gd</td>\n",
       "      <td>7.0</td>\n",
       "      <td>Typ</td>\n",
       "      <td>0.0</td>\n",
       "      <td>NA</td>\n",
       "      <td>BuiltIn</td>\n",
       "      <td>2006.0</td>\n",
       "      <td>RFn</td>\n",
       "      <td>3.0</td>\n",
       "      <td>859.0</td>\n",
       "      <td>TA</td>\n",
       "      <td>TA</td>\n",
       "      <td>Y</td>\n",
       "      <td>0.0</td>\n",
       "      <td>40.0</td>\n",
       "      <td>0.0</td>\n",
       "      <td>0.0</td>\n",
       "      <td>0.0</td>\n",
       "      <td>0.0</td>\n",
       "      <td>NA</td>\n",
       "      <td>0.0</td>\n",
       "      <td>3.0</td>\n",
       "      <td>2007.0</td>\n",
       "      <td>WD</td>\n",
       "      <td>221300.0</td>\n",
       "    </tr>\n",
       "    <tr>\n",
       "      <th>148</th>\n",
       "      <td>2132</td>\n",
       "      <td>907192040</td>\n",
       "      <td>60</td>\n",
       "      <td>RL</td>\n",
       "      <td>77.8</td>\n",
       "      <td>8826.0</td>\n",
       "      <td>Pave</td>\n",
       "      <td>0</td>\n",
       "      <td>Reg</td>\n",
       "      <td>Lvl</td>\n",
       "      <td>AllPub</td>\n",
       "      <td>Inside</td>\n",
       "      <td>Gtl</td>\n",
       "      <td>CollgCr</td>\n",
       "      <td>Norm</td>\n",
       "      <td>Norm</td>\n",
       "      <td>1Fam</td>\n",
       "      <td>2Story</td>\n",
       "      <td>7</td>\n",
       "      <td>5</td>\n",
       "      <td>2000.0</td>\n",
       "      <td>2000.0</td>\n",
       "      <td>Gable</td>\n",
       "      <td>CompShg</td>\n",
       "      <td>VinylSd</td>\n",
       "      <td>VinylSd</td>\n",
       "      <td>BrkFace</td>\n",
       "      <td>144.0</td>\n",
       "      <td>Gd</td>\n",
       "      <td>TA</td>\n",
       "      <td>PConc</td>\n",
       "      <td>Gd</td>\n",
       "      <td>TA</td>\n",
       "      <td>No</td>\n",
       "      <td>GLQ</td>\n",
       "      <td>841.0</td>\n",
       "      <td>Unf</td>\n",
       "      <td>0.0</td>\n",
       "      <td>144.0</td>\n",
       "      <td>985.0</td>\n",
       "      <td>GasA</td>\n",
       "      <td>Ex</td>\n",
       "      <td>Y</td>\n",
       "      <td>SBrkr</td>\n",
       "      <td>985.0</td>\n",
       "      <td>857.0</td>\n",
       "      <td>0</td>\n",
       "      <td>1842.0</td>\n",
       "      <td>1.0</td>\n",
       "      <td>0.0</td>\n",
       "      <td>2.0</td>\n",
       "      <td>1.0</td>\n",
       "      <td>3.0</td>\n",
       "      <td>1.0</td>\n",
       "      <td>Gd</td>\n",
       "      <td>7.0</td>\n",
       "      <td>Typ</td>\n",
       "      <td>1.0</td>\n",
       "      <td>TA</td>\n",
       "      <td>Attchd</td>\n",
       "      <td>2000.0</td>\n",
       "      <td>Fin</td>\n",
       "      <td>2.0</td>\n",
       "      <td>486.0</td>\n",
       "      <td>TA</td>\n",
       "      <td>TA</td>\n",
       "      <td>Y</td>\n",
       "      <td>193.0</td>\n",
       "      <td>96.0</td>\n",
       "      <td>0.0</td>\n",
       "      <td>0.0</td>\n",
       "      <td>0.0</td>\n",
       "      <td>0.0</td>\n",
       "      <td>NA</td>\n",
       "      <td>0.0</td>\n",
       "      <td>7.0</td>\n",
       "      <td>2007.0</td>\n",
       "      <td>WD</td>\n",
       "      <td>217500.0</td>\n",
       "    </tr>\n",
       "  </tbody>\n",
       "</table>\n",
       "</div>"
      ],
      "text/plain": [
       "        Id        PID  MS SubClass MS Zoning  Lot Frontage  Lot Area Street  \\\n",
       "1742   482  528250040           60        RL          66.8    8174.0   Pave   \n",
       "1516   791  905451340           20        RL          68.0    9571.0   Pave   \n",
       "1568  2233  910200110           50        RM          50.0    7000.0   Pave   \n",
       "862   1793  528445070           60        RL          75.0    8778.0   Pave   \n",
       "148   2132  907192040           60        RL          77.8    8826.0   Pave   \n",
       "\n",
       "      Alley Lot Shape Land Contour Utilities Lot Config Land Slope  \\\n",
       "1742      0       IR1          Lvl    AllPub     Inside        Gtl   \n",
       "1516      0       Reg          Lvl    AllPub     Inside        Gtl   \n",
       "1568      0       Reg          Lvl    AllPub     Corner        Gtl   \n",
       "862       0       Reg          Lvl    AllPub     Inside        Gtl   \n",
       "148       0       Reg          Lvl    AllPub     Inside        Gtl   \n",
       "\n",
       "     Neighborhood Condition 1 Condition 2 Bldg Type House Style  Overall Qual  \\\n",
       "1742      Gilbert        Norm        Norm      1Fam      2Story             7   \n",
       "1516      Edwards        Norm        Norm      1Fam      1Story             5   \n",
       "1568       IDOTRR        Norm        Norm      1Fam      1.5Fin             6   \n",
       "862       Somerst        Norm        Norm      1Fam      2Story             8   \n",
       "148       CollgCr        Norm        Norm      1Fam      2Story             7   \n",
       "\n",
       "      Overall Cond  Year Built  Year Remod/Add Roof Style Roof Matl  \\\n",
       "1742             5      2003.0          2003.0      Gable   CompShg   \n",
       "1516             3      1958.0          1958.0      Gable   CompShg   \n",
       "1568             7      1940.0          1950.0      Gable   CompShg   \n",
       "862              5      2006.0          2006.0      Gable   CompShg   \n",
       "148              5      2000.0          2000.0      Gable   CompShg   \n",
       "\n",
       "     Exterior 1st Exterior 2nd Mas Vnr Type  Mas Vnr Area Exter Qual  \\\n",
       "1742      VinylSd      VinylSd         None           0.0         Gd   \n",
       "1516      BrkComm      Brk Cmn         None           0.0         TA   \n",
       "1568      Wd Sdng      Wd Sdng         None           0.0         TA   \n",
       "862       VinylSd      VinylSd         None           0.0         Gd   \n",
       "148       VinylSd      VinylSd      BrkFace         144.0         Gd   \n",
       "\n",
       "     Exter Cond Foundation Bsmt Qual Bsmt Cond Bsmt Exposure BsmtFin Type 1  \\\n",
       "1742         TA      PConc        Gd        TA            No            GLQ   \n",
       "1516         Fa     CBlock        TA        Fa            No            Unf   \n",
       "1568         TA     BrkTil        TA        TA            No            ALQ   \n",
       "862          TA      PConc        Gd        TA            No            Unf   \n",
       "148          TA      PConc        Gd        TA            No            GLQ   \n",
       "\n",
       "      BsmtFin SF 1 BsmtFin Type 2  BsmtFin SF 2  Bsmt Unf SF  Total Bsmt SF  \\\n",
       "1742         494.0            Unf           0.0        204.0          698.0   \n",
       "1516           0.0            Unf           0.0       1276.0         1276.0   \n",
       "1568         375.0            Unf           0.0        345.0          720.0   \n",
       "862            0.0            Unf           0.0       1302.0         1302.0   \n",
       "148          841.0            Unf           0.0        144.0          985.0   \n",
       "\n",
       "     Heating Heating QC Central Air Electrical  1st Flr SF  2nd Flr SF  \\\n",
       "1742    GasA         Ex           Y      SBrkr       698.0       644.0   \n",
       "1516    GasA         TA           Y      FuseA      1276.0         0.0   \n",
       "1568    GasA         Gd           Y      FuseA       720.0       495.0   \n",
       "862     GasA         Ex           Y      SBrkr      1302.0       528.0   \n",
       "148     GasA         Ex           Y      SBrkr       985.0       857.0   \n",
       "\n",
       "      Low Qual Fin SF  Gr Liv Area  Bsmt Full Bath  Bsmt Half Bath  Full Bath  \\\n",
       "1742                0       1342.0             1.0             0.0        2.0   \n",
       "1516                0       1276.0             0.0             0.0        1.0   \n",
       "1568                0       1215.0             0.0             0.0        1.0   \n",
       "862                 0       1830.0             0.0             0.0        2.0   \n",
       "148                 0       1842.0             1.0             0.0        2.0   \n",
       "\n",
       "      Half Bath  Bedroom AbvGr  Kitchen AbvGr Kitchen Qual  TotRms AbvGrd  \\\n",
       "1742        1.0            3.0            1.0           Gd            7.0   \n",
       "1516        0.0            3.0            1.0           TA            5.0   \n",
       "1568        0.0            3.0            1.0           Gd            6.0   \n",
       "862         1.0            3.0            1.0           Gd            7.0   \n",
       "148         1.0            3.0            1.0           Gd            7.0   \n",
       "\n",
       "     Functional  Fireplaces Fireplace Qu Garage Type  Garage Yr Blt  \\\n",
       "1742        Typ         1.0           TA      Attchd         2003.0   \n",
       "1516        Mod         0.0           NA      Attchd         1958.0   \n",
       "1568        Typ         0.0           NA      Detchd         1965.0   \n",
       "862         Typ         0.0           NA     BuiltIn         2006.0   \n",
       "148         Typ         1.0           TA      Attchd         2000.0   \n",
       "\n",
       "     Garage Finish  Garage Cars  Garage Area Garage Qual Garage Cond  \\\n",
       "1742           Fin          2.0        393.0          TA          TA   \n",
       "1516           Unf          1.0        350.0          TA          TA   \n",
       "1568           Fin          2.0        720.0          TA          TA   \n",
       "862            RFn          3.0        859.0          TA          TA   \n",
       "148            Fin          2.0        486.0          TA          TA   \n",
       "\n",
       "     Paved Drive  Wood Deck SF  Open Porch SF  Enclosed Porch  3Ssn Porch  \\\n",
       "1742           Y         100.0           56.0             0.0         0.0   \n",
       "1516           Y           0.0            0.0             0.0         0.0   \n",
       "1568           Y           0.0            0.0            30.0         0.0   \n",
       "862            Y           0.0           40.0             0.0         0.0   \n",
       "148            Y         193.0           96.0             0.0         0.0   \n",
       "\n",
       "      Screen Porch  Pool Area  Fence  Misc Val  Mo Sold  Yr Sold Sale Type  \\\n",
       "1742           0.0        0.0     NA       0.0      5.0   2009.0       WD    \n",
       "1516           0.0        0.0     NA       0.0      6.0   2009.0       COD   \n",
       "1568           0.0        0.0  MnPrv       0.0      5.0   2007.0       WD    \n",
       "862            0.0        0.0     NA       0.0      3.0   2007.0       WD    \n",
       "148            0.0        0.0     NA       0.0      7.0   2007.0       WD    \n",
       "\n",
       "      SalePrice  \n",
       "1742   178000.0  \n",
       "1516    60000.0  \n",
       "1568   141000.0  \n",
       "862    221300.0  \n",
       "148    217500.0  "
      ]
     },
     "execution_count": 83,
     "metadata": {},
     "output_type": "execute_result"
    }
   ],
   "source": [
    "X_train.head()"
   ]
  },
  {
   "cell_type": "code",
   "execution_count": 84,
   "id": "eed17289-2839-48dd-b11c-c3833f3c4cde",
   "metadata": {},
   "outputs": [],
   "source": [
    "ordinal = ['Lot Shape','Utilities','Land Slope','Overall Qual','Overall Cond','Exter Qual','Exter Cond','Bsmt Qual', 'Bsmt Cond','Bsmt Exposure','BsmtFin Type 1','BsmtFin Type 2','Heating QC', 'Electrical', 'Kitchen Qual','Functional', 'Fireplace Qu', 'Garage Finish', 'Garage Qual','Garage Cond', 'Paved Drive', 'Fence']"
   ]
  },
  {
   "cell_type": "code",
   "execution_count": 85,
   "id": "eaf6b9ac-a6db-4109-87a6-6c2fa96550c9",
   "metadata": {},
   "outputs": [],
   "source": [
    "X_train = X_train.replace({'Lot Shape': {'Reg': 3,'IR1': 2, 'IR2': 1, 'IR3': 2}, 'Utilities': {'AllPub': 1, 'NoSewr': 0},\n",
    "           'Land Slope': {'Gtl':0,'Mod':1,'Sev':2}, 'Exter Qual': {'Ex':3, 'Gd':2, 'TA':1,'Fa':0}, 'Exter Cond':{'Po':0,'Fa':1,'TA':2,'Gd':3,'Ex':4},\n",
    "            'Bsmt Qual': {'NA':0,'Po':1,'Fa':2,'TA':3,'Gd':4,'Ex':5}, 'Bsmt Cond': {'NA':0,'Po':1,'Fa':2,'TA':3,'Gd':4,'Ex':5}, \n",
    "            'Bsmt Exposure': {'Gd':4,'Av':3,'Mn':2,'No':1, 'NA':0}, 'BsmtFin Type 1':{'GLQ':6,'ALQ':5,'BLQ':4,'Rec':3,'LwQ':2,'Unf':1,'NA':0},\n",
    "            'BsmtFin Type 2': {'GLQ':6,'ALQ':5,'BLQ':4,'Rec':3,'LwQ':2,'Unf':1,'NA':0}, 'Heating QC': {'Ex':5,'Gd':4,'TA':3,'Fa':2,'Po':1}, \n",
    "            'Electrical': {'SBrkr':5,'FuseA':4,'FuseF':3,'FuseP':2,'Mix':1, 'NA':0}, 'Kitchen Qual':{'Ex':5,'Gd':4,'TA':3,'Fa':2,'Po':1},\n",
    "            'Functional' : {'Typ':8,'Min1':7,'Min2':6,'Mod':5,'Maj1':4,'Maj2':3,'Sev':2,'Sal':1}, 'Fireplace Qu': {'Ex':5,'Gd':4,'TA':3,'Fa':2,'Po':1, 'NA':0},\n",
    "            'Garage Finish':{'Fin':3,'RFn':2,'Unf':1,'NA':0}, 'Garage Qual':{'Ex':5,'Gd':4,'TA':3,'Fa':2,'Po':1,'NA':0},\n",
    "            'Garage Cond':{'Ex':5,'Gd':4,'TA':3,'Fa':2,'Po':1,'NA':0}, 'Paved Drive': {'Y':3,'P':2,'N':1},\n",
    "            'Fence': {'GdPrv':4,'MnPrv':3,'GdWo':2,'MnWw':1,'NA':0} })\n",
    "# Dictionary bits borrowed From Mr Frank Novak!!\n"
   ]
  },
  {
   "cell_type": "code",
   "execution_count": 86,
   "id": "2546df39-71d8-4554-984c-8c6f6fa8a750",
   "metadata": {},
   "outputs": [],
   "source": [
    "X_test = X_test.replace({'Lot Shape': {'Reg': 3,'IR1': 2, 'IR2': 1, 'IR3': 2}, 'Utilities': {'AllPub': 1, 'NoSewr': 0},\n",
    "           'Land Slope': {'Gtl':0,'Mod':1,'Sev':2}, 'Exter Qual': {'Ex':3, 'Gd':2, 'TA':1,'Fa':0}, 'Exter Cond':{'Po':0,'Fa':1,'TA':2,'Gd':3,'Ex':4},\n",
    "            'Bsmt Qual': {'NA':0,'Po':1,'Fa':2,'TA':3,'Gd':4,'Ex':5}, 'Bsmt Cond': {'NA':0,'Po':1,'Fa':2,'TA':3,'Gd':4,'Ex':5}, \n",
    "            'Bsmt Exposure': {'Gd':4,'Av':3,'Mn':2,'No':1, 'NA':0}, 'BsmtFin Type 1':{'GLQ':6,'ALQ':5,'BLQ':4,'Rec':3,'LwQ':2,'Unf':1,'NA':0},\n",
    "            'BsmtFin Type 2': {'GLQ':6,'ALQ':5,'BLQ':4,'Rec':3,'LwQ':2,'Unf':1,'NA':0}, 'Heating QC': {'Ex':5,'Gd':4,'TA':3,'Fa':2,'Po':1}, \n",
    "            'Electrical': {'SBrkr':5,'FuseA':4,'FuseF':3,'FuseP':2,'Mix':1,'NA':0}, 'Kitchen Qual':{'Ex':5,'Gd':4,'TA':3,'Fa':2,'Po':1},\n",
    "            'Functional' : {'Typ':8,'Min1':7,'Min2':6,'Mod':5,'Maj1':4,'Maj2':3,'Sev':2,'Sal':1}, 'Fireplace Qu': {'Ex':5,'Gd':4,'TA':3,'Fa':2,'Po':1, 'NA':0},\n",
    "            'Garage Finish':{'Fin':3,'RFn':2,'Unf':1,'NA':0}, 'Garage Qual':{'Ex':5,'Gd':4,'TA':3,'Fa':2,'Po':1,'NA':0},\n",
    "            'Garage Cond':{'Ex':5,'Gd':4,'TA':3,'Fa':2,'Po':1,'NA':0}, 'Paved Drive': {'Y':3,'P':2,'N':1},\n",
    "            'Fence': {'GdPrv':4,'MnPrv':3,'GdWo':2,'MnWw':1,'NA':0} })\n",
    "# Dictionary bits borrowed From Mr Frank Novak!!\n"
   ]
  },
  {
   "cell_type": "code",
   "execution_count": 87,
   "id": "d11b850e-1c6d-4fb5-a2d5-b15973af3624",
   "metadata": {},
   "outputs": [],
   "source": [
    "nominal = ['MS Zoning', 'Street', 'Land Contour', 'Lot Config', 'Neighborhood','Condition 1','Condition 2', 'Bldg Type', 'House Style', 'Roof Style','Roof Matl','Exterior 1st','Exterior 2nd','Mas Vnr Type','Foundation', 'Heating', 'Central Air', 'Garage Type', 'Sale Type'] "
   ]
  },
  {
   "cell_type": "code",
   "execution_count": 88,
   "id": "30c4ccff-bf4f-4e2e-9372-552151dbf68d",
   "metadata": {},
   "outputs": [],
   "source": [
    "def convert_to_snake_case(df):\n",
    "    #add a space between any lowercase-capital letter pair, then replace spaces with _, the all to lowercase\n",
    "    new_cols = {col: re.sub(r\"([a-z]{1})([A-Z]{1})\", r\"\\1 \\2\", col).replace(\" \", \"_\").lower() for col in df.columns}\n",
    "    return df.rename(columns = new_cols, inplace = True)\n",
    "# from B~\n"
   ]
  },
  {
   "cell_type": "code",
   "execution_count": 89,
   "id": "a26b938b-2b79-4f29-892c-ed50c4fb1a64",
   "metadata": {},
   "outputs": [],
   "source": [
    "convert_to_snake_case(X_train)"
   ]
  },
  {
   "cell_type": "code",
   "execution_count": 90,
   "id": "b76118f2-c314-4b34-83e0-b19423284e98",
   "metadata": {},
   "outputs": [],
   "source": [
    "convert_to_snake_case(X_test)"
   ]
  },
  {
   "cell_type": "code",
   "execution_count": 91,
   "id": "baab1f9a-201a-43ef-839e-95a680ed211f",
   "metadata": {},
   "outputs": [],
   "source": [
    "ordinal = ['lot_shape','utilities','land_slope','overall_qual','overall_cond','exter_qual','exter_cond','bsmt_qual', 'bsmt_cond','bsmt_exposure','bsmt_fin_type_1','bsmt_fin_type_2','heating_qc', 'electrical', 'kitchen_qual','functional', 'fireplace_qu', 'garage_finish', 'garage_qual','garage_cond', 'paved_drive', 'fence']"
   ]
  },
  {
   "cell_type": "code",
   "execution_count": 92,
   "id": "099b68c1-5e12-4729-a9f8-3fdf3c6e09fd",
   "metadata": {},
   "outputs": [],
   "source": [
    "nominal = ['ms_zoning', 'street', 'land_contour', 'lot_config', 'neighborhood','condition_1','condition_2', 'bldg_type', 'house_style', 'roof_style','roof_matl','exterior_1st','exterior_2nd','mas_vnr_type','foundation', 'heating', 'central_air', 'garage_type', 'sale_type'] "
   ]
  },
  {
   "cell_type": "code",
   "execution_count": 93,
   "id": "d587eb24-1da4-4368-9099-caf5680adccf",
   "metadata": {},
   "outputs": [
    {
     "data": {
      "text/plain": [
       "lot_shape          int64\n",
       "utilities          int64\n",
       "land_slope         int64\n",
       "overall_qual       int64\n",
       "overall_cond       int64\n",
       "exter_qual         int64\n",
       "exter_cond         int64\n",
       "bsmt_qual          int64\n",
       "bsmt_cond          int64\n",
       "bsmt_exposure      int64\n",
       "bsmt_fin_type_1    int64\n",
       "bsmt_fin_type_2    int64\n",
       "heating_qc         int64\n",
       "electrical         int64\n",
       "kitchen_qual       int64\n",
       "functional         int64\n",
       "fireplace_qu       int64\n",
       "garage_finish      int64\n",
       "garage_qual        int64\n",
       "garage_cond        int64\n",
       "paved_drive        int64\n",
       "fence              int64\n",
       "dtype: object"
      ]
     },
     "execution_count": 93,
     "metadata": {},
     "output_type": "execute_result"
    }
   ],
   "source": [
    "X_train[ordinal].dtypes"
   ]
  },
  {
   "cell_type": "code",
   "execution_count": 94,
   "id": "49853016-59fa-4ec7-b5d8-418f57b9dee9",
   "metadata": {},
   "outputs": [],
   "source": [
    "continuous = ['lot_frontage', 'lot_area', 'mas_vnr_area','bsmt_fin_sf_1', 'bsmt_fin_sf_2', 'bsmt_unf_sf', 'total_bsmt_sf', '1st_flr_sf', '2nd_flr_sf', 'gr_liv_area', 'garage_area', 'wood_deck_sf', 'open_porch_sf', 'enclosed_porch','3ssn_porch', 'screen_porch', 'pool_area', 'misc_val', 'sale_price']  \n",
    "discrete = ['year_built','year_remod/add', 'bsmt_full_bath', 'bsmt_half_bath', 'full_bath','half_bath','bedroom_abv_gr','kitchen_abv_gr','tot_rms_abv_grd','fireplaces','garage_yr_blt', 'garage_cars', 'mo_sold', 'yr_sold'] "
   ]
  },
  {
   "cell_type": "code",
   "execution_count": 95,
   "id": "b5c87b17-2083-4258-a094-6a3b6580622b",
   "metadata": {},
   "outputs": [],
   "source": [
    "numerical = continuous + discrete"
   ]
  },
  {
   "cell_type": "code",
   "execution_count": 96,
   "id": "da079ecc-05ea-41e8-8b5f-671b470e7688",
   "metadata": {},
   "outputs": [
    {
     "data": {
      "text/plain": [
       "(33,)"
      ]
     },
     "execution_count": 96,
     "metadata": {},
     "output_type": "execute_result"
    }
   ],
   "source": [
    "X_train[numerical].columns.shape"
   ]
  },
  {
   "cell_type": "code",
   "execution_count": 97,
   "id": "12d819ac-537e-484e-a7a8-e0fbd4b75b8f",
   "metadata": {},
   "outputs": [
    {
     "data": {
      "image/png": "[encoded data removed]",
      "text/plain": [
       "<Figure size 864x864 with 2 Axes>"
      ]
     },
     "metadata": {
      "needs_background": "light"
     },
     "output_type": "display_data"
    }
   ],
   "source": [
    "plt.figure(figsize=(12,12))\n",
    "sns.heatmap(X_train[numerical].corr()[['sale_price']].sort_values('sale_price',ascending=False), annot=True);"
   ]
  },
  {
   "cell_type": "code",
   "execution_count": 98,
   "id": "62132c65-c602-4d91-8515-56de4ff60735",
   "metadata": {},
   "outputs": [
    {
     "data": {
      "text/plain": [
       "(1050, 79)"
      ]
     },
     "execution_count": 98,
     "metadata": {},
     "output_type": "execute_result"
    }
   ],
   "source": [
    "X_train.shape"
   ]
  },
  {
   "cell_type": "code",
   "execution_count": 99,
   "id": "aa581610-cd15-40fa-999a-b895b54efeef",
   "metadata": {},
   "outputs": [],
   "source": [
    "X_train = pd.get_dummies(X_train, prefix=nominal, drop_first=True)"
   ]
  },
  {
   "cell_type": "code",
   "execution_count": 100,
   "id": "9c5985dc-fcc6-43c1-ad29-e39fc83215f3",
   "metadata": {},
   "outputs": [],
   "source": [
    "X_test = pd.get_dummies(X_test, prefix=nominal, drop_first=True)"
   ]
  },
  {
   "cell_type": "code",
   "execution_count": 101,
   "id": "e48a8ce4-74a8-4c18-a287-16510bba735a",
   "metadata": {},
   "outputs": [
    {
     "data": {
      "text/plain": [
       "Index(['id', 'pid', 'ms_sub_class', 'lot_frontage', 'lot_area', 'alley',\n",
       "       'lot_shape', 'utilities', 'land_slope', 'overall_qual',\n",
       "       ...\n",
       "       'garage_type_CarPort', 'garage_type_Detchd', 'sale_type_CWD',\n",
       "       'sale_type_Con', 'sale_type_ConLD', 'sale_type_ConLI',\n",
       "       'sale_type_ConLw', 'sale_type_New', 'sale_type_Oth', 'sale_type_WD '],\n",
       "      dtype='object', length=167)"
      ]
     },
     "execution_count": 101,
     "metadata": {},
     "output_type": "execute_result"
    }
   ],
   "source": [
    "X_test.columns"
   ]
  },
  {
   "cell_type": "code",
   "execution_count": 102,
   "id": "aff8801d-7f45-4e08-993a-0b492b0025c4",
   "metadata": {},
   "outputs": [
    {
     "data": {
      "text/plain": [
       "(1050, 177)"
      ]
     },
     "execution_count": 102,
     "metadata": {},
     "output_type": "execute_result"
    }
   ],
   "source": [
    "X_train.shape"
   ]
  },
  {
   "cell_type": "code",
   "execution_count": 103,
   "id": "11631040-facc-46d0-8bb5-b03a99ceb520",
   "metadata": {},
   "outputs": [
    {
     "data": {
      "text/plain": [
       "(424, 167)"
      ]
     },
     "execution_count": 103,
     "metadata": {},
     "output_type": "execute_result"
    }
   ],
   "source": [
    "X_test.shape"
   ]
  },
  {
   "cell_type": "code",
   "execution_count": 104,
   "id": "d05bce03-ad07-4705-9982-50600a584eb9",
   "metadata": {},
   "outputs": [
    {
     "data": {
      "text/plain": [
       "{'condition_1_RRNe',\n",
       " 'condition_1_RRNn',\n",
       " 'condition_2_PosA',\n",
       " 'condition_2_RRNn',\n",
       " 'exterior_1st_BrkComm',\n",
       " 'exterior_1st_CBlock',\n",
       " 'exterior_1st_ImStucc',\n",
       " 'exterior_2nd_Brk Cmn',\n",
       " 'exterior_2nd_CBlock',\n",
       " 'ms_zoning_C (all)',\n",
       " 'neighborhood_GrnHill',\n",
       " 'neighborhood_Landmrk',\n",
       " 'neighborhood_NPkVill',\n",
       " 'roof_style_Shed'}"
      ]
     },
     "execution_count": 104,
     "metadata": {},
     "output_type": "execute_result"
    }
   ],
   "source": [
    "set(X_train)-set(X_test)"
   ]
  },
  {
   "cell_type": "code",
   "execution_count": 105,
   "id": "246f8fd3-af64-4c5f-b3f7-676a9b6f0b73",
   "metadata": {},
   "outputs": [
    {
     "data": {
      "text/plain": [
       "{'condition_2_PosN',\n",
       " 'exterior_2nd_Stone',\n",
       " 'house_style_2.5Fin',\n",
       " 'ms_zoning_I (all)'}"
      ]
     },
     "execution_count": 105,
     "metadata": {},
     "output_type": "execute_result"
    }
   ],
   "source": [
    "set(X_test)-set(X_train)"
   ]
  },
  {
   "cell_type": "code",
   "execution_count": 106,
   "id": "1ed552da-f275-4785-82e4-db6d08471910",
   "metadata": {},
   "outputs": [],
   "source": [
    "X_train = X_train.drop(['condition_1_RRNe',\n",
    " 'condition_1_RRNn',\n",
    " 'condition_2_PosA',\n",
    " 'condition_2_RRNn',\n",
    " 'exterior_1st_BrkComm',\n",
    " 'exterior_1st_CBlock',\n",
    " 'exterior_1st_ImStucc',\n",
    " 'exterior_2nd_Brk Cmn',\n",
    " 'exterior_2nd_CBlock',\n",
    " 'ms_zoning_C (all)',\n",
    " 'neighborhood_GrnHill',\n",
    " 'neighborhood_Landmrk',\n",
    " 'neighborhood_NPkVill',\n",
    " 'roof_style_Shed'], axis=1)"
   ]
  },
  {
   "cell_type": "code",
   "execution_count": 107,
   "id": "fb74c31e-900f-4a38-8596-57fe0f1b07e4",
   "metadata": {},
   "outputs": [
    {
     "data": {
      "text/plain": [
       "set()"
      ]
     },
     "execution_count": 107,
     "metadata": {},
     "output_type": "execute_result"
    }
   ],
   "source": [
    "set(X_train)-set(X_test)"
   ]
  },
  {
   "cell_type": "code",
   "execution_count": 108,
   "id": "3083e8fb-034e-40a9-977d-9f574513210e",
   "metadata": {},
   "outputs": [],
   "source": [
    "X_test = X_test.drop(['condition_2_PosN',\n",
    " 'exterior_2nd_Stone',\n",
    " 'house_style_2.5Fin',\n",
    " 'ms_zoning_I (all)'], axis=1)\n"
   ]
  },
  {
   "cell_type": "code",
   "execution_count": 109,
   "id": "2eef7786-faed-42bc-ae18-00f57013a1c7",
   "metadata": {},
   "outputs": [],
   "source": [
    "# X_train=X_train.drop(columns='sale_price')\n",
    "# y_train = X_train['sale_price']\n",
    "\n",
    "# X_test=X_test.drop(columns='sale_price')\n",
    "# y_test = X_test['sale_price']\n"
   ]
  },
  {
   "cell_type": "code",
   "execution_count": 110,
   "id": "0ef8dfce-4ad0-4596-b162-cc43ffb6054e",
   "metadata": {},
   "outputs": [
    {
     "data": {
      "text/plain": [
       "1742    178000.0\n",
       "1516     60000.0\n",
       "1568    141000.0\n",
       "862     221300.0\n",
       "148     217500.0\n",
       "Name: sale_price, dtype: float64"
      ]
     },
     "execution_count": 110,
     "metadata": {},
     "output_type": "execute_result"
    }
   ],
   "source": [
    "X_train['sale_price'].head()"
   ]
  },
  {
   "cell_type": "code",
   "execution_count": 111,
   "id": "d090ac30-9336-4b4d-a40a-2150e98050a5",
   "metadata": {},
   "outputs": [],
   "source": [
    "y_train=X_train['sale_price']\n",
    "X_train=X_train.drop(columns = 'sale_price')\n"
   ]
  },
  {
   "cell_type": "code",
   "execution_count": 112,
   "id": "274ab70d-a64d-429c-aa62-8e60e91a4a5a",
   "metadata": {},
   "outputs": [],
   "source": [
    "y_test=X_test['sale_price']\n",
    "X_test=X_test.drop(columns = 'sale_price')\n"
   ]
  },
  {
   "cell_type": "code",
   "execution_count": 113,
   "id": "efb6d425-5b3d-475c-998f-b41674db5473",
   "metadata": {},
   "outputs": [
    {
     "name": "stdout",
     "output_type": "stream",
     "text": [
      "Yea\n"
     ]
    }
   ],
   "source": [
    "if isinstance(X_train, pd.DataFrame):\n",
    "    print('Yea')\n"
   ]
  },
  {
   "cell_type": "code",
   "execution_count": 114,
   "id": "66f214bb-b164-4854-87b1-6675b3c9060c",
   "metadata": {},
   "outputs": [],
   "source": [
    "ss = StandardScaler()"
   ]
  },
  {
   "cell_type": "code",
   "execution_count": 115,
   "id": "3024bd6f-1694-45cb-a18c-4a018b422c76",
   "metadata": {},
   "outputs": [
    {
     "data": {
      "text/plain": [
       "StandardScaler()"
      ]
     },
     "execution_count": 115,
     "metadata": {},
     "output_type": "execute_result"
    }
   ],
   "source": [
    "ss.fit(X_train)"
   ]
  },
  {
   "cell_type": "code",
   "execution_count": 116,
   "id": "023f7e6e-f7b9-41c6-bab4-6bbb3605ac36",
   "metadata": {},
   "outputs": [],
   "source": [
    "Z_train = ss.transform(X_train)"
   ]
  },
  {
   "cell_type": "code",
   "execution_count": 117,
   "id": "e2cb8891-ae41-4028-8676-78f514ca9b92",
   "metadata": {},
   "outputs": [],
   "source": [
    "Z_test = ss.transform(X_test)"
   ]
  },
  {
   "cell_type": "code",
   "execution_count": 118,
   "id": "7ecf67b2-8d04-4906-a8d2-3db85029eace",
   "metadata": {},
   "outputs": [],
   "source": [
    "Z_train = pd.DataFrame(ss.transform(X_train), columns=X_train.columns, index=X_train.index)"
   ]
  },
  {
   "cell_type": "code",
   "execution_count": 119,
   "id": "ad348fbd-be0c-488d-8b73-4267580321a7",
   "metadata": {},
   "outputs": [],
   "source": [
    "#export datasets\n",
    "# Z_train.to_csv('cleaned_datasets/Z_train.csv', index = False)\n"
   ]
  },
  {
   "cell_type": "code",
   "execution_count": 120,
   "id": "c6b56ebd-1857-43c0-aa67-5e52dd1e2b49",
   "metadata": {},
   "outputs": [],
   "source": [
    "Z_test = pd.DataFrame(ss.transform(X_test), columns=X_test.columns, index=X_test.index)\n",
    "# Z_test.to_csv('cleaned_datasets/Z_test.csv', index = False)\n"
   ]
  },
  {
   "cell_type": "code",
   "execution_count": 121,
   "id": "e7ac2c00-43cf-4a55-a207-1cdd89845eea",
   "metadata": {},
   "outputs": [],
   "source": [
    "# y_train.to_csv('cleaned_datasets/y_train.csv', index = False)\n"
   ]
  },
  {
   "cell_type": "code",
   "execution_count": 122,
   "id": "a0949d42-d53c-402a-a626-d9e672813ef3",
   "metadata": {},
   "outputs": [],
   "source": [
    "# y_test.to_csv('cleaned_datasets/y_test.csv', index = False)"
   ]
  },
  {
   "cell_type": "code",
   "execution_count": 123,
   "id": "392f4803-5b1d-4dce-86f3-dfa32f3f2cf2",
   "metadata": {},
   "outputs": [
    {
     "data": {
      "text/plain": [
       "(1050, 162)"
      ]
     },
     "execution_count": 123,
     "metadata": {},
     "output_type": "execute_result"
    }
   ],
   "source": [
    "Z_train.shape"
   ]
  },
  {
   "cell_type": "code",
   "execution_count": 124,
   "id": "3c31b080-3e45-4b9f-a930-71f8e3f0a80c",
   "metadata": {},
   "outputs": [
    {
     "data": {
      "text/plain": [
       "(424, 162)"
      ]
     },
     "execution_count": 124,
     "metadata": {},
     "output_type": "execute_result"
    }
   ],
   "source": [
    "Z_test.shape"
   ]
  },
  {
   "cell_type": "code",
   "execution_count": 125,
   "id": "9687dd00-bbfb-4d38-b192-1f995034b25d",
   "metadata": {},
   "outputs": [
    {
     "data": {
      "text/plain": [
       "(424,)"
      ]
     },
     "execution_count": 125,
     "metadata": {},
     "output_type": "execute_result"
    }
   ],
   "source": [
    "y_test.shape"
   ]
  },
  {
   "cell_type": "code",
   "execution_count": 126,
   "id": "6693288a-172b-4f59-86c0-29921c2e1d93",
   "metadata": {},
   "outputs": [
    {
     "data": {
      "text/plain": [
       "(1050,)"
      ]
     },
     "execution_count": 126,
     "metadata": {},
     "output_type": "execute_result"
    }
   ],
   "source": [
    "y_train.shape"
   ]
  },
  {
   "cell_type": "code",
   "execution_count": 127,
   "id": "12857e1d-f2de-478c-9bce-a56567b9faa5",
   "metadata": {},
   "outputs": [],
   "source": [
    "test = pd.read_csv('fixme/test.csv')"
   ]
  },
  {
   "cell_type": "code",
   "execution_count": 128,
   "id": "4a861310-ce90-4084-81d8-63f538c7c02d",
   "metadata": {},
   "outputs": [],
   "source": [
    "pd.set_option('display.max_columns',100)"
   ]
  },
  {
   "cell_type": "code",
   "execution_count": 129,
   "id": "0f9f6090-f11a-4c8f-94d6-83b62bd4cc13",
   "metadata": {},
   "outputs": [],
   "source": [
    "nominal = ['Id', 'PID', 'MS SubClass', 'MS Zoning', 'Street', 'Alley', 'Land Contour', 'Lot Config', 'Neighborhood','Condition 1','Condition 2', 'Bldg Type', 'House Style', 'Roof Style','Roof Matl','Exterior 1st','Exterior 2nd','Mas Vnr Type','Foundation', 'Heating', 'Central Air', 'Garage Type', 'Misc Feature', 'Sale Type'] \n",
    "ordinal = ['Lot Shape','Utilities','Land Slope','Overall Qual','Overall Cond','Exter Qual','Exter Cond','Bsmt Qual', 'Bsmt Cond','Bsmt Exposure','BsmtFin Type 1','BsmtFin Type 2','Heating QC', 'Electrical', 'Kitchen Qual','Functional', 'Fireplace Qu', 'Garage Finish', 'Garage Qual','Garage Cond', 'Paved Drive', 'Pool QC', 'Fence']\n",
    "continuous = ['Lot Frontage', 'Lot Area', 'Mas Vnr Area','BsmtFin SF 1', 'BsmtFin SF 2', 'Bsmt Unf SF', 'Total Bsmt SF', '1st Flr SF', '2nd Flr SF', 'Gr Liv Area', 'Garage Area', 'Wood Deck SF', 'Open Porch SF', 'Enclosed Porch','3Ssn Porch', 'Screen Porch', 'Pool Area', 'Misc Val']\n",
    "discrete = ['Year Built','Year Remod/Add', 'Bsmt Full Bath', 'Bsmt Half Bath', 'Full Bath','Half Bath','Bedroom AbvGr','Kitchen AbvGr','TotRms AbvGrd','Fireplaces','Garage Yr Blt', 'Garage Cars', 'Mo Sold', 'Yr Sold'] "
   ]
  },
  {
   "cell_type": "code",
   "execution_count": 130,
   "id": "d735ed92-ca0f-485f-a9bd-e1cf2c56ae49",
   "metadata": {},
   "outputs": [],
   "source": [
    "test['Alley']=test['Alley'].map({'Grvl': 1, 'Pave':1, np.nan:0})"
   ]
  },
  {
   "cell_type": "code",
   "execution_count": 131,
   "id": "564546e4-afd2-4145-b70c-4523ac9e762f",
   "metadata": {},
   "outputs": [],
   "source": [
    "test['Garage Type'] = test['Garage Type'].replace(np.nan,test['Garage Type'].mode()[0])\n"
   ]
  },
  {
   "cell_type": "code",
   "execution_count": 132,
   "id": "f51fe829-421b-4e02-8c33-aa9ac1d934a7",
   "metadata": {},
   "outputs": [],
   "source": [
    "test['Mas Vnr Type']= test['Mas Vnr Type'].replace(np.nan,test['Mas Vnr Type'].mode()[0])\n"
   ]
  },
  {
   "cell_type": "code",
   "execution_count": 133,
   "id": "1d86cea4-279e-4498-8964-031dde7b3a05",
   "metadata": {},
   "outputs": [
    {
     "data": {
      "text/plain": [
       "0      Fa\n",
       "1      Gd\n",
       "2      Gd\n",
       "3      TA\n",
       "4      Gd\n",
       "       ..\n",
       "873    TA\n",
       "874    TA\n",
       "875    TA\n",
       "876    TA\n",
       "877    TA\n",
       "Name: Bsmt Qual, Length: 878, dtype: object"
      ]
     },
     "execution_count": 133,
     "metadata": {},
     "output_type": "execute_result"
    }
   ],
   "source": [
    "test[ordinal]['Bsmt Qual'].replace(np.nan,test[ordinal]['Bsmt Qual'].mode()[0])"
   ]
  },
  {
   "cell_type": "code",
   "execution_count": 134,
   "id": "1e1c8e1b-8324-45a1-871e-ce2ee0b1d00e",
   "metadata": {},
   "outputs": [],
   "source": [
    "test[ordinal]= test[ordinal].replace(np.nan,'NA')\n"
   ]
  },
  {
   "cell_type": "code",
   "execution_count": 135,
   "id": "469e67db-9d6b-425c-a67a-0b65d9b696f1",
   "metadata": {},
   "outputs": [],
   "source": [
    "imputer = KNNImputer(n_neighbors=5)\n",
    "cont_transformed = pd.DataFrame(imputer.fit_transform(test[continuous]),columns=continuous)\n",
    "cont_transformed.set_index(test.index,inplace=True)"
   ]
  },
  {
   "cell_type": "code",
   "execution_count": 136,
   "id": "d176a92c-05d3-4e9f-bdb3-081db317f25f",
   "metadata": {},
   "outputs": [],
   "source": [
    "test[continuous]=cont_transformed"
   ]
  },
  {
   "cell_type": "code",
   "execution_count": 137,
   "id": "4402dd3d-ee27-4b34-a239-249adf7a19d3",
   "metadata": {},
   "outputs": [],
   "source": [
    "imp_mode = SimpleImputer(missing_values=np.nan, strategy = 'most_frequent', copy=False)\n",
    "ont_transformed=pd.DataFrame(imp_mode.fit_transform(test[discrete]), columns=discrete)\n",
    "ont_transformed.set_index(test.index,inplace=True)"
   ]
  },
  {
   "cell_type": "code",
   "execution_count": 138,
   "id": "138a978e-32ed-4e10-8026-3cb4637cb8bf",
   "metadata": {},
   "outputs": [],
   "source": [
    "test[discrete]=ont_transformed"
   ]
  },
  {
   "cell_type": "code",
   "execution_count": 139,
   "id": "a8e44de1-4426-4015-9606-d2faee962059",
   "metadata": {},
   "outputs": [],
   "source": [
    "test = test.drop(['Misc Feature', 'Pool QC'], axis = 1)\n"
   ]
  },
  {
   "cell_type": "code",
   "execution_count": 140,
   "id": "cb86952a-1a28-4a64-8bdc-59fd92295143",
   "metadata": {},
   "outputs": [],
   "source": [
    "# test = test[(np.abs(stats.zscore(test[continuous+discrete])) < 3).all(axis=1)]\n"
   ]
  },
  {
   "cell_type": "code",
   "execution_count": 141,
   "id": "0f883da2-5cd1-424f-9122-942d8b2ea489",
   "metadata": {},
   "outputs": [],
   "source": [
    "ordinal = ['Lot Shape','Utilities','Land Slope','Overall Qual','Overall Cond','Exter Qual','Exter Cond','Bsmt Qual', 'Bsmt Cond','Bsmt Exposure','BsmtFin Type 1','BsmtFin Type 2','Heating QC', 'Electrical', 'Kitchen Qual','Functional', 'Fireplace Qu', 'Garage Finish', 'Garage Qual','Garage Cond', 'Paved Drive', 'Fence']"
   ]
  },
  {
   "cell_type": "code",
   "execution_count": 142,
   "id": "7c9cdd37-989d-4fa3-94cb-0748eea5283c",
   "metadata": {},
   "outputs": [],
   "source": [
    "test = test.replace({'Lot Shape': {'Reg': 3,'IR1': 2, 'IR2': 1, 'IR3': 2}, 'Utilities': {'AllPub': 1, 'NoSewr': 0},\n",
    "           'Land Slope': {'Gtl':0,'Mod':1,'Sev':2}, 'Exter Qual': {'Ex':3, 'Gd':2, 'TA':1,'Fa':0}, 'Exter Cond':{'Po':0,'Fa':1,'TA':2,'Gd':3,'Ex':4},\n",
    "            'Bsmt Qual': {'NA':0,'Po':1,'Fa':2,'TA':3,'Gd':4,'Ex':5}, 'Bsmt Cond': {'NA':0,'Po':1,'Fa':2,'TA':3,'Gd':4,'Ex':5}, \n",
    "            'Bsmt Exposure': {'Gd':4,'Av':3,'Mn':2,'No':1, 'NA':0}, 'BsmtFin Type 1':{'GLQ':6,'ALQ':5,'BLQ':4,'Rec':3,'LwQ':2,'Unf':1,'NA':0},\n",
    "            'BsmtFin Type 2': {'GLQ':6,'ALQ':5,'BLQ':4,'Rec':3,'LwQ':2,'Unf':1,'NA':0}, 'Heating QC': {'Ex':5,'Gd':4,'TA':3,'Fa':2,'Po':1}, \n",
    "            'Electrical': {'SBrkr':5,'FuseA':4,'FuseF':3,'FuseP':2,'Mix':1, 'NA':0}, 'Kitchen Qual':{'Ex':5,'Gd':4,'TA':3,'Fa':2,'Po':1},\n",
    "            'Functional' : {'Typ':8,'Min1':7,'Min2':6,'Mod':5,'Maj1':4,'Maj2':3,'Sev':2,'Sal':1}, 'Fireplace Qu': {'Ex':5,'Gd':4,'TA':3,'Fa':2,'Po':1, 'NA':0},\n",
    "            'Garage Finish':{'Fin':3,'RFn':2,'Unf':1,'NA':0}, 'Garage Qual':{'Ex':5,'Gd':4,'TA':3,'Fa':2,'Po':1,'NA':0},\n",
    "            'Garage Cond':{'Ex':5,'Gd':4,'TA':3,'Fa':2,'Po':1,'NA':0}, 'Paved Drive': {'Y':3,'P':2,'N':1},\n",
    "            'Fence': {'GdPrv':4,'MnPrv':3,'GdWo':2,'MnWw':1,'NA':0} })"
   ]
  },
  {
   "cell_type": "code",
   "execution_count": 143,
   "id": "592b1260-edb6-4418-a690-35478673f218",
   "metadata": {},
   "outputs": [],
   "source": [
    "nominal = ['MS Zoning', 'Street', 'Land Contour', 'Lot Config', 'Neighborhood','Condition 1','Condition 2', 'Bldg Type', 'House Style', 'Roof Style','Roof Matl','Exterior 1st','Exterior 2nd','Mas Vnr Type','Foundation', 'Heating', 'Central Air', 'Garage Type', 'Sale Type'] "
   ]
  },
  {
   "cell_type": "code",
   "execution_count": 144,
   "id": "2d57e2cf-c700-43b5-a4f0-734a1801731a",
   "metadata": {},
   "outputs": [],
   "source": [
    "def convert_to_snake_case(df):\n",
    "    #add a space between any lowercase-capital letter pair, then replace spaces with _, the all to lowercase\n",
    "    new_cols = {col: re.sub(r\"([a-z]{1})([A-Z]{1})\", r\"\\1 \\2\", col).replace(\" \", \"_\").lower() for col in df.columns}\n",
    "    return df.rename(columns = new_cols, inplace = True)\n",
    "# from B~\n"
   ]
  },
  {
   "cell_type": "code",
   "execution_count": 145,
   "id": "23bbc434-98ae-4e27-bc87-78d39f258302",
   "metadata": {},
   "outputs": [],
   "source": [
    "convert_to_snake_case(test)"
   ]
  },
  {
   "cell_type": "code",
   "execution_count": 146,
   "id": "8b49f152-1c21-49e3-a947-a0335b3272d7",
   "metadata": {},
   "outputs": [],
   "source": [
    "ordinal = ['lot_shape','utilities','land_slope','overall_qual','overall_cond','exter_qual','exter_cond','bsmt_qual', 'bsmt_cond','bsmt_exposure','bsmt_fin_type_1','bsmt_fin_type_2','heating_qc', 'electrical', 'kitchen_qual','functional', 'fireplace_qu', 'garage_finish', 'garage_qual','garage_cond', 'paved_drive', 'fence']"
   ]
  },
  {
   "cell_type": "code",
   "execution_count": 147,
   "id": "5c9ab4ad-fb01-489b-808a-6d4e7a10629f",
   "metadata": {},
   "outputs": [],
   "source": [
    "nominal = ['ms_zoning', 'street', 'land_contour', 'lot_config', 'neighborhood','condition_1','condition_2', 'bldg_type', 'house_style', 'roof_style','roof_matl','exterior_1st','exterior_2nd','mas_vnr_type','foundation', 'heating', 'central_air', 'garage_type', 'sale_type'] "
   ]
  },
  {
   "cell_type": "code",
   "execution_count": 148,
   "id": "7e86c075-dddc-4cc6-beab-0ddbfa6580bf",
   "metadata": {},
   "outputs": [],
   "source": [
    "continuous = ['lot_frontage', 'lot_area', 'mas_vnr_area','bsmt_fin_sf_1', 'bsmt_fin_sf_2', 'bsmt_unf_sf', 'total_bsmt_sf', '1st_flr_sf', '2nd_flr_sf', 'gr_liv_area', 'garage_area', 'wood_deck_sf', 'open_porch_sf', 'enclosed_porch','3ssn_porch', 'screen_porch', 'pool_area', 'misc_val']  \n",
    "discrete = ['year_built','year_remod/add', 'bsmt_full_bath', 'bsmt_half_bath', 'full_bath','half_bath','bedroom_abv_gr','kitchen_abv_gr','tot_rms_abv_grd','fireplaces','garage_yr_blt', 'garage_cars', 'mo_sold', 'yr_sold'] "
   ]
  },
  {
   "cell_type": "code",
   "execution_count": 149,
   "id": "5553f7d4-6221-4688-a71e-3c5a1ab7abe6",
   "metadata": {},
   "outputs": [
    {
     "data": {
      "text/plain": [
       "set()"
      ]
     },
     "execution_count": 149,
     "metadata": {},
     "output_type": "execute_result"
    }
   ],
   "source": [
    "set(test[ordinal+nominal+continuous+discrete])-set(test)"
   ]
  },
  {
   "cell_type": "code",
   "execution_count": 150,
   "id": "91312a9b-27b0-42bf-b7d7-0dd343f08708",
   "metadata": {},
   "outputs": [
    {
     "data": {
      "text/plain": [
       "{'alley', 'id', 'low_qual_fin_sf', 'ms_sub_class', 'pid'}"
      ]
     },
     "execution_count": 150,
     "metadata": {},
     "output_type": "execute_result"
    }
   ],
   "source": [
    "set(test)-set(test[ordinal+nominal+continuous+discrete])"
   ]
  },
  {
   "cell_type": "code",
   "execution_count": 151,
   "id": "9ae80a12-57a7-4b78-9cb4-e080ad85ce94",
   "metadata": {},
   "outputs": [
    {
     "data": {
      "text/plain": [
       "0"
      ]
     },
     "execution_count": 151,
     "metadata": {},
     "output_type": "execute_result"
    }
   ],
   "source": [
    "test.isna().sum().sum()"
   ]
  },
  {
   "cell_type": "code",
   "execution_count": 152,
   "id": "5e7249a2-1020-4972-9a06-1f864973c865",
   "metadata": {},
   "outputs": [],
   "source": [
    "test = pd.get_dummies(test, drop_first=True)"
   ]
  },
  {
   "cell_type": "code",
   "execution_count": 153,
   "id": "1e0e43e9-0977-4113-b8a6-db560cd977b2",
   "metadata": {},
   "outputs": [
    {
     "data": {
      "text/plain": [
       "(878, 182)"
      ]
     },
     "execution_count": 153,
     "metadata": {},
     "output_type": "execute_result"
    }
   ],
   "source": [
    "test.shape"
   ]
  },
  {
   "cell_type": "code",
   "execution_count": 154,
   "id": "f21bc906-8c40-47e5-9cfc-b2cac5a3bd16",
   "metadata": {},
   "outputs": [],
   "source": [
    "Z_train = pd.read_csv('fixme/Z_train.csv')\n"
   ]
  },
  {
   "cell_type": "code",
   "execution_count": 155,
   "id": "ff85b61f-68ff-41da-a47e-d3d1fafa8004",
   "metadata": {},
   "outputs": [
    {
     "data": {
      "text/plain": [
       "{'condition_2_Feedr', 'heating_Wall'}"
      ]
     },
     "execution_count": 155,
     "metadata": {},
     "output_type": "execute_result"
    }
   ],
   "source": [
    "set(Z_train)-set(test)"
   ]
  },
  {
   "cell_type": "code",
   "execution_count": 156,
   "id": "a65e1e10-32fe-4b94-9f90-9ace197fe2d4",
   "metadata": {},
   "outputs": [],
   "source": [
    "Z_train=Z_train.drop(['condition_2_Feedr', 'heating_Wall', 'sale_type_Con'], axis=1)"
   ]
  },
  {
   "cell_type": "code",
   "execution_count": 157,
   "id": "2a626edf-fdc3-4ea5-b683-5364d8d25c04",
   "metadata": {},
   "outputs": [
    {
     "data": {
      "text/plain": [
       "{'condition_1_RRNe',\n",
       " 'condition_1_RRNn',\n",
       " 'condition_2_PosA',\n",
       " 'exterior_1st_AsphShn',\n",
       " 'exterior_1st_BrkComm',\n",
       " 'exterior_1st_PreCast',\n",
       " 'exterior_2nd_AsphShn',\n",
       " 'exterior_2nd_Brk Cmn',\n",
       " 'exterior_2nd_CBlock',\n",
       " 'exterior_2nd_Other',\n",
       " 'exterior_2nd_PreCast',\n",
       " 'heating_GasA',\n",
       " 'house_style_2.5Fin',\n",
       " 'mas_vnr_type_CBlock',\n",
       " 'ms_zoning_I (all)',\n",
       " 'neighborhood_NPkVill',\n",
       " 'roof_matl_Metal',\n",
       " 'roof_matl_Roll',\n",
       " 'roof_matl_WdShake',\n",
       " 'roof_matl_WdShngl',\n",
       " 'roof_style_Shed',\n",
       " 'sale_type_Con',\n",
       " 'sale_type_VWD'}"
      ]
     },
     "execution_count": 157,
     "metadata": {},
     "output_type": "execute_result"
    }
   ],
   "source": [
    "set(test)-set(Z_train)"
   ]
  },
  {
   "cell_type": "code",
   "execution_count": 158,
   "id": "2d121eed-95a3-4ed8-8945-96613ae64c4e",
   "metadata": {},
   "outputs": [],
   "source": [
    "test = test.drop(['condition_1_RRNe',\n",
    " 'condition_1_RRNn',\n",
    " 'exterior_1st_BrkComm',\n",
    " 'exterior_1st_PreCast',\n",
    " 'exterior_2nd_Brk Cmn',\n",
    " 'exterior_2nd_Other',\n",
    " 'exterior_2nd_PreCast',\n",
    " 'heating_GasA',\n",
    " 'house_style_2.5Fin',\n",
    " 'mas_vnr_type_CBlock',\n",
    " 'neighborhood_NPkVill',\n",
    " 'roof_matl_WdShake',\n",
    " 'roof_matl_WdShngl',\n",
    " 'roof_style_Shed'], axis=1)\n"
   ]
  },
  {
   "cell_type": "code",
   "execution_count": 159,
   "id": "bb20d148-90d1-40c1-b48f-7a0eb512c828",
   "metadata": {},
   "outputs": [],
   "source": [
    "Z_test=pd.read_csv('fixme/Z_test.csv')"
   ]
  },
  {
   "cell_type": "code",
   "execution_count": 160,
   "id": "271314c0-9605-41c6-8f2d-28b9cab34e56",
   "metadata": {},
   "outputs": [],
   "source": [
    "Z_test = Z_test.drop(['condition_2_Feedr', 'heating_Wall', 'sale_type_Con'], axis=1)\n"
   ]
  },
  {
   "cell_type": "code",
   "execution_count": 161,
   "id": "321863d3-3637-44ff-bbbe-ad43d9e3cac7",
   "metadata": {},
   "outputs": [
    {
     "data": {
      "text/plain": [
       "set()"
      ]
     },
     "execution_count": 161,
     "metadata": {},
     "output_type": "execute_result"
    }
   ],
   "source": [
    "set(Z_train)-set(Z_test)"
   ]
  },
  {
   "cell_type": "code",
   "execution_count": 162,
   "id": "657f1441-5109-4651-ab58-24bfc2be296c",
   "metadata": {},
   "outputs": [
    {
     "data": {
      "text/plain": [
       "set()"
      ]
     },
     "execution_count": 162,
     "metadata": {},
     "output_type": "execute_result"
    }
   ],
   "source": [
    "set(Z_test)-set(Z_train)"
   ]
  },
  {
   "cell_type": "code",
   "execution_count": 163,
   "id": "9c2da7ad-dd7e-44a8-9b75-96a3d8dc0d00",
   "metadata": {},
   "outputs": [
    {
     "data": {
      "text/plain": [
       "set()"
      ]
     },
     "execution_count": 163,
     "metadata": {},
     "output_type": "execute_result"
    }
   ],
   "source": [
    "set(Z_test)-set(test)"
   ]
  },
  {
   "cell_type": "code",
   "execution_count": 164,
   "id": "f12ee2de-b496-418a-ac56-737a7720d404",
   "metadata": {},
   "outputs": [
    {
     "data": {
      "text/plain": [
       "{'condition_2_PosA',\n",
       " 'exterior_1st_AsphShn',\n",
       " 'exterior_2nd_AsphShn',\n",
       " 'exterior_2nd_CBlock',\n",
       " 'ms_zoning_I (all)',\n",
       " 'roof_matl_Metal',\n",
       " 'roof_matl_Roll',\n",
       " 'sale_type_Con',\n",
       " 'sale_type_VWD'}"
      ]
     },
     "execution_count": 164,
     "metadata": {},
     "output_type": "execute_result"
    }
   ],
   "source": [
    "set(test)-set(Z_test)"
   ]
  },
  {
   "cell_type": "code",
   "execution_count": 165,
   "id": "4339ba7b-c999-4f61-8c25-6cf9696a44ad",
   "metadata": {},
   "outputs": [
    {
     "data": {
      "text/plain": [
       "set()"
      ]
     },
     "execution_count": 165,
     "metadata": {},
     "output_type": "execute_result"
    }
   ],
   "source": [
    "set(Z_train) - set(test)"
   ]
  },
  {
   "cell_type": "code",
   "execution_count": 166,
   "id": "a1121ced-93ec-4b4d-92c9-72e77cb53a04",
   "metadata": {},
   "outputs": [
    {
     "data": {
      "text/plain": [
       "{'condition_2_PosA',\n",
       " 'exterior_1st_AsphShn',\n",
       " 'exterior_2nd_AsphShn',\n",
       " 'exterior_2nd_CBlock',\n",
       " 'ms_zoning_I (all)',\n",
       " 'roof_matl_Metal',\n",
       " 'roof_matl_Roll',\n",
       " 'sale_type_Con',\n",
       " 'sale_type_VWD'}"
      ]
     },
     "execution_count": 166,
     "metadata": {},
     "output_type": "execute_result"
    }
   ],
   "source": [
    "set(test)-set(Z_train)"
   ]
  },
  {
   "cell_type": "code",
   "execution_count": 167,
   "id": "e0861ddc-6712-4056-96d8-ab66de789a5d",
   "metadata": {},
   "outputs": [],
   "source": [
    "X_train = X_train.drop(['condition_2_Feedr', 'heating_Wall', 'sale_type_Con'], axis=1)\n",
    "# X_train = pd.DataFrame(sc.transform(X_train), columns=X_train.columns, index=X_train.index)\n"
   ]
  },
  {
   "cell_type": "code",
   "execution_count": 168,
   "id": "606970ce-a8ec-4361-981d-6e47eebee21d",
   "metadata": {},
   "outputs": [
    {
     "data": {
      "text/plain": [
       "set()"
      ]
     },
     "execution_count": 168,
     "metadata": {},
     "output_type": "execute_result"
    }
   ],
   "source": [
    "set(X_train)-set(test)"
   ]
  },
  {
   "cell_type": "code",
   "execution_count": 169,
   "id": "41bf0764-8d52-4f32-9411-acb7c7359c4f",
   "metadata": {},
   "outputs": [
    {
     "data": {
      "text/plain": [
       "{'condition_2_PosA',\n",
       " 'exterior_1st_AsphShn',\n",
       " 'exterior_2nd_AsphShn',\n",
       " 'exterior_2nd_CBlock',\n",
       " 'ms_zoning_I (all)',\n",
       " 'roof_matl_Metal',\n",
       " 'roof_matl_Roll',\n",
       " 'sale_type_Con',\n",
       " 'sale_type_VWD'}"
      ]
     },
     "execution_count": 169,
     "metadata": {},
     "output_type": "execute_result"
    }
   ],
   "source": [
    "set(test)-set(X_train)"
   ]
  },
  {
   "cell_type": "code",
   "execution_count": 170,
   "id": "7a390cf2-d541-45d5-8dee-97ad71f7ac15",
   "metadata": {},
   "outputs": [],
   "source": [
    "test=test.drop(['condition_2_PosA',\n",
    " 'exterior_1st_AsphShn',\n",
    " 'exterior_2nd_AsphShn',\n",
    " 'exterior_2nd_CBlock',\n",
    " 'ms_zoning_I (all)',\n",
    " 'roof_matl_Metal',\n",
    " 'roof_matl_Roll',\n",
    " 'sale_type_Con',\n",
    " 'sale_type_VWD'], axis =1)"
   ]
  },
  {
   "cell_type": "code",
   "execution_count": 171,
   "id": "bda907ad-5585-407e-bc03-5ac5423fe886",
   "metadata": {},
   "outputs": [],
   "source": [
    "sc = StandardScaler()"
   ]
  },
  {
   "cell_type": "code",
   "execution_count": 172,
   "id": "43ed2b38-69f5-4f4c-9c06-d7d11df6392a",
   "metadata": {},
   "outputs": [
    {
     "data": {
      "text/plain": [
       "StandardScaler()"
      ]
     },
     "execution_count": 172,
     "metadata": {},
     "output_type": "execute_result"
    }
   ],
   "source": [
    "sc.fit(X_train)"
   ]
  },
  {
   "cell_type": "code",
   "execution_count": 173,
   "id": "37de40a0-3cb5-4546-b3f9-04b8c31ab41d",
   "metadata": {},
   "outputs": [
    {
     "data": {
      "text/html": [
       "<div>\n",
       "<style scoped>\n",
       "    .dataframe tbody tr th:only-of-type {\n",
       "        vertical-align: middle;\n",
       "    }\n",
       "\n",
       "    .dataframe tbody tr th {\n",
       "        vertical-align: top;\n",
       "    }\n",
       "\n",
       "    .dataframe thead th {\n",
       "        text-align: right;\n",
       "    }\n",
       "</style>\n",
       "<table border=\"1\" class=\"dataframe\">\n",
       "  <thead>\n",
       "    <tr style=\"text-align: right;\">\n",
       "      <th></th>\n",
       "      <th>id</th>\n",
       "      <th>pid</th>\n",
       "      <th>ms_sub_class</th>\n",
       "      <th>lot_frontage</th>\n",
       "      <th>lot_area</th>\n",
       "      <th>alley</th>\n",
       "      <th>lot_shape</th>\n",
       "      <th>utilities</th>\n",
       "      <th>land_slope</th>\n",
       "      <th>overall_qual</th>\n",
       "      <th>overall_cond</th>\n",
       "      <th>year_built</th>\n",
       "      <th>year_remod/add</th>\n",
       "      <th>mas_vnr_area</th>\n",
       "      <th>exter_qual</th>\n",
       "      <th>exter_cond</th>\n",
       "      <th>bsmt_qual</th>\n",
       "      <th>bsmt_cond</th>\n",
       "      <th>bsmt_exposure</th>\n",
       "      <th>bsmt_fin_type_1</th>\n",
       "      <th>bsmt_fin_sf_1</th>\n",
       "      <th>bsmt_fin_type_2</th>\n",
       "      <th>bsmt_fin_sf_2</th>\n",
       "      <th>bsmt_unf_sf</th>\n",
       "      <th>total_bsmt_sf</th>\n",
       "      <th>heating_qc</th>\n",
       "      <th>electrical</th>\n",
       "      <th>1st_flr_sf</th>\n",
       "      <th>2nd_flr_sf</th>\n",
       "      <th>low_qual_fin_sf</th>\n",
       "      <th>gr_liv_area</th>\n",
       "      <th>bsmt_full_bath</th>\n",
       "      <th>bsmt_half_bath</th>\n",
       "      <th>full_bath</th>\n",
       "      <th>half_bath</th>\n",
       "      <th>bedroom_abv_gr</th>\n",
       "      <th>kitchen_abv_gr</th>\n",
       "      <th>kitchen_qual</th>\n",
       "      <th>tot_rms_abv_grd</th>\n",
       "      <th>functional</th>\n",
       "      <th>fireplaces</th>\n",
       "      <th>fireplace_qu</th>\n",
       "      <th>garage_yr_blt</th>\n",
       "      <th>garage_finish</th>\n",
       "      <th>garage_cars</th>\n",
       "      <th>garage_area</th>\n",
       "      <th>garage_qual</th>\n",
       "      <th>garage_cond</th>\n",
       "      <th>paved_drive</th>\n",
       "      <th>wood_deck_sf</th>\n",
       "      <th>...</th>\n",
       "      <th>house_style_2Story</th>\n",
       "      <th>house_style_SFoyer</th>\n",
       "      <th>house_style_SLvl</th>\n",
       "      <th>roof_style_Gable</th>\n",
       "      <th>roof_style_Gambrel</th>\n",
       "      <th>roof_style_Hip</th>\n",
       "      <th>roof_style_Mansard</th>\n",
       "      <th>roof_matl_Tar&amp;Grv</th>\n",
       "      <th>exterior_1st_BrkFace</th>\n",
       "      <th>exterior_1st_CemntBd</th>\n",
       "      <th>exterior_1st_HdBoard</th>\n",
       "      <th>exterior_1st_MetalSd</th>\n",
       "      <th>exterior_1st_Plywood</th>\n",
       "      <th>exterior_1st_Stucco</th>\n",
       "      <th>exterior_1st_VinylSd</th>\n",
       "      <th>exterior_1st_Wd Sdng</th>\n",
       "      <th>exterior_1st_WdShing</th>\n",
       "      <th>exterior_2nd_BrkFace</th>\n",
       "      <th>exterior_2nd_CmentBd</th>\n",
       "      <th>exterior_2nd_HdBoard</th>\n",
       "      <th>exterior_2nd_ImStucc</th>\n",
       "      <th>exterior_2nd_MetalSd</th>\n",
       "      <th>exterior_2nd_Plywood</th>\n",
       "      <th>exterior_2nd_Stucco</th>\n",
       "      <th>exterior_2nd_VinylSd</th>\n",
       "      <th>exterior_2nd_Wd Sdng</th>\n",
       "      <th>exterior_2nd_Wd Shng</th>\n",
       "      <th>mas_vnr_type_BrkFace</th>\n",
       "      <th>mas_vnr_type_None</th>\n",
       "      <th>mas_vnr_type_Stone</th>\n",
       "      <th>foundation_CBlock</th>\n",
       "      <th>foundation_PConc</th>\n",
       "      <th>foundation_Slab</th>\n",
       "      <th>foundation_Stone</th>\n",
       "      <th>foundation_Wood</th>\n",
       "      <th>heating_GasW</th>\n",
       "      <th>heating_Grav</th>\n",
       "      <th>central_air_Y</th>\n",
       "      <th>garage_type_Attchd</th>\n",
       "      <th>garage_type_Basment</th>\n",
       "      <th>garage_type_BuiltIn</th>\n",
       "      <th>garage_type_CarPort</th>\n",
       "      <th>garage_type_Detchd</th>\n",
       "      <th>sale_type_CWD</th>\n",
       "      <th>sale_type_ConLD</th>\n",
       "      <th>sale_type_ConLI</th>\n",
       "      <th>sale_type_ConLw</th>\n",
       "      <th>sale_type_New</th>\n",
       "      <th>sale_type_Oth</th>\n",
       "      <th>sale_type_WD</th>\n",
       "    </tr>\n",
       "  </thead>\n",
       "  <tbody>\n",
       "    <tr>\n",
       "      <th>0</th>\n",
       "      <td>2658</td>\n",
       "      <td>902301120</td>\n",
       "      <td>190</td>\n",
       "      <td>69.0</td>\n",
       "      <td>9142.0</td>\n",
       "      <td>1</td>\n",
       "      <td>3</td>\n",
       "      <td>1</td>\n",
       "      <td>0</td>\n",
       "      <td>6</td>\n",
       "      <td>8</td>\n",
       "      <td>1910.0</td>\n",
       "      <td>1950.0</td>\n",
       "      <td>0.0</td>\n",
       "      <td>1</td>\n",
       "      <td>1</td>\n",
       "      <td>2</td>\n",
       "      <td>3</td>\n",
       "      <td>1</td>\n",
       "      <td>1</td>\n",
       "      <td>0.0</td>\n",
       "      <td>1</td>\n",
       "      <td>0.0</td>\n",
       "      <td>1020.0</td>\n",
       "      <td>1020.0</td>\n",
       "      <td>4</td>\n",
       "      <td>2</td>\n",
       "      <td>908.0</td>\n",
       "      <td>1020.0</td>\n",
       "      <td>0</td>\n",
       "      <td>1928.0</td>\n",
       "      <td>0.0</td>\n",
       "      <td>0.0</td>\n",
       "      <td>2.0</td>\n",
       "      <td>0.0</td>\n",
       "      <td>4.0</td>\n",
       "      <td>2.0</td>\n",
       "      <td>2</td>\n",
       "      <td>9.0</td>\n",
       "      <td>8</td>\n",
       "      <td>0.0</td>\n",
       "      <td>0</td>\n",
       "      <td>1910.0</td>\n",
       "      <td>1</td>\n",
       "      <td>1.0</td>\n",
       "      <td>440.0</td>\n",
       "      <td>1</td>\n",
       "      <td>1</td>\n",
       "      <td>3</td>\n",
       "      <td>0.0</td>\n",
       "      <td>...</td>\n",
       "      <td>1</td>\n",
       "      <td>0</td>\n",
       "      <td>0</td>\n",
       "      <td>1</td>\n",
       "      <td>0</td>\n",
       "      <td>0</td>\n",
       "      <td>0</td>\n",
       "      <td>0</td>\n",
       "      <td>0</td>\n",
       "      <td>0</td>\n",
       "      <td>0</td>\n",
       "      <td>0</td>\n",
       "      <td>0</td>\n",
       "      <td>0</td>\n",
       "      <td>0</td>\n",
       "      <td>0</td>\n",
       "      <td>0</td>\n",
       "      <td>0</td>\n",
       "      <td>0</td>\n",
       "      <td>0</td>\n",
       "      <td>0</td>\n",
       "      <td>0</td>\n",
       "      <td>0</td>\n",
       "      <td>0</td>\n",
       "      <td>0</td>\n",
       "      <td>0</td>\n",
       "      <td>0</td>\n",
       "      <td>0</td>\n",
       "      <td>1</td>\n",
       "      <td>0</td>\n",
       "      <td>0</td>\n",
       "      <td>0</td>\n",
       "      <td>0</td>\n",
       "      <td>1</td>\n",
       "      <td>0</td>\n",
       "      <td>0</td>\n",
       "      <td>0</td>\n",
       "      <td>0</td>\n",
       "      <td>0</td>\n",
       "      <td>0</td>\n",
       "      <td>0</td>\n",
       "      <td>0</td>\n",
       "      <td>1</td>\n",
       "      <td>0</td>\n",
       "      <td>0</td>\n",
       "      <td>0</td>\n",
       "      <td>0</td>\n",
       "      <td>0</td>\n",
       "      <td>0</td>\n",
       "      <td>1</td>\n",
       "    </tr>\n",
       "    <tr>\n",
       "      <th>1</th>\n",
       "      <td>2718</td>\n",
       "      <td>905108090</td>\n",
       "      <td>90</td>\n",
       "      <td>70.6</td>\n",
       "      <td>9662.0</td>\n",
       "      <td>0</td>\n",
       "      <td>2</td>\n",
       "      <td>1</td>\n",
       "      <td>0</td>\n",
       "      <td>5</td>\n",
       "      <td>4</td>\n",
       "      <td>1977.0</td>\n",
       "      <td>1977.0</td>\n",
       "      <td>0.0</td>\n",
       "      <td>1</td>\n",
       "      <td>2</td>\n",
       "      <td>4</td>\n",
       "      <td>3</td>\n",
       "      <td>1</td>\n",
       "      <td>1</td>\n",
       "      <td>0.0</td>\n",
       "      <td>1</td>\n",
       "      <td>0.0</td>\n",
       "      <td>1967.0</td>\n",
       "      <td>1967.0</td>\n",
       "      <td>3</td>\n",
       "      <td>5</td>\n",
       "      <td>1967.0</td>\n",
       "      <td>0.0</td>\n",
       "      <td>0</td>\n",
       "      <td>1967.0</td>\n",
       "      <td>0.0</td>\n",
       "      <td>0.0</td>\n",
       "      <td>2.0</td>\n",
       "      <td>0.0</td>\n",
       "      <td>6.0</td>\n",
       "      <td>2.0</td>\n",
       "      <td>3</td>\n",
       "      <td>10.0</td>\n",
       "      <td>8</td>\n",
       "      <td>0.0</td>\n",
       "      <td>0</td>\n",
       "      <td>1977.0</td>\n",
       "      <td>3</td>\n",
       "      <td>2.0</td>\n",
       "      <td>580.0</td>\n",
       "      <td>3</td>\n",
       "      <td>3</td>\n",
       "      <td>3</td>\n",
       "      <td>170.0</td>\n",
       "      <td>...</td>\n",
       "      <td>0</td>\n",
       "      <td>0</td>\n",
       "      <td>0</td>\n",
       "      <td>1</td>\n",
       "      <td>0</td>\n",
       "      <td>0</td>\n",
       "      <td>0</td>\n",
       "      <td>0</td>\n",
       "      <td>0</td>\n",
       "      <td>0</td>\n",
       "      <td>0</td>\n",
       "      <td>0</td>\n",
       "      <td>1</td>\n",
       "      <td>0</td>\n",
       "      <td>0</td>\n",
       "      <td>0</td>\n",
       "      <td>0</td>\n",
       "      <td>0</td>\n",
       "      <td>0</td>\n",
       "      <td>0</td>\n",
       "      <td>0</td>\n",
       "      <td>0</td>\n",
       "      <td>1</td>\n",
       "      <td>0</td>\n",
       "      <td>0</td>\n",
       "      <td>0</td>\n",
       "      <td>0</td>\n",
       "      <td>0</td>\n",
       "      <td>1</td>\n",
       "      <td>0</td>\n",
       "      <td>1</td>\n",
       "      <td>0</td>\n",
       "      <td>0</td>\n",
       "      <td>0</td>\n",
       "      <td>0</td>\n",
       "      <td>0</td>\n",
       "      <td>0</td>\n",
       "      <td>1</td>\n",
       "      <td>1</td>\n",
       "      <td>0</td>\n",
       "      <td>0</td>\n",
       "      <td>0</td>\n",
       "      <td>0</td>\n",
       "      <td>0</td>\n",
       "      <td>0</td>\n",
       "      <td>0</td>\n",
       "      <td>0</td>\n",
       "      <td>0</td>\n",
       "      <td>0</td>\n",
       "      <td>1</td>\n",
       "    </tr>\n",
       "    <tr>\n",
       "      <th>2</th>\n",
       "      <td>2414</td>\n",
       "      <td>528218130</td>\n",
       "      <td>60</td>\n",
       "      <td>58.0</td>\n",
       "      <td>17104.0</td>\n",
       "      <td>0</td>\n",
       "      <td>2</td>\n",
       "      <td>1</td>\n",
       "      <td>0</td>\n",
       "      <td>7</td>\n",
       "      <td>5</td>\n",
       "      <td>2006.0</td>\n",
       "      <td>2006.0</td>\n",
       "      <td>0.0</td>\n",
       "      <td>2</td>\n",
       "      <td>2</td>\n",
       "      <td>4</td>\n",
       "      <td>4</td>\n",
       "      <td>3</td>\n",
       "      <td>6</td>\n",
       "      <td>554.0</td>\n",
       "      <td>1</td>\n",
       "      <td>0.0</td>\n",
       "      <td>100.0</td>\n",
       "      <td>654.0</td>\n",
       "      <td>5</td>\n",
       "      <td>5</td>\n",
       "      <td>664.0</td>\n",
       "      <td>832.0</td>\n",
       "      <td>0</td>\n",
       "      <td>1496.0</td>\n",
       "      <td>1.0</td>\n",
       "      <td>0.0</td>\n",
       "      <td>2.0</td>\n",
       "      <td>1.0</td>\n",
       "      <td>3.0</td>\n",
       "      <td>1.0</td>\n",
       "      <td>4</td>\n",
       "      <td>7.0</td>\n",
       "      <td>8</td>\n",
       "      <td>1.0</td>\n",
       "      <td>4</td>\n",
       "      <td>2006.0</td>\n",
       "      <td>2</td>\n",
       "      <td>2.0</td>\n",
       "      <td>426.0</td>\n",
       "      <td>3</td>\n",
       "      <td>3</td>\n",
       "      <td>3</td>\n",
       "      <td>100.0</td>\n",
       "      <td>...</td>\n",
       "      <td>1</td>\n",
       "      <td>0</td>\n",
       "      <td>0</td>\n",
       "      <td>1</td>\n",
       "      <td>0</td>\n",
       "      <td>0</td>\n",
       "      <td>0</td>\n",
       "      <td>0</td>\n",
       "      <td>0</td>\n",
       "      <td>0</td>\n",
       "      <td>0</td>\n",
       "      <td>0</td>\n",
       "      <td>0</td>\n",
       "      <td>0</td>\n",
       "      <td>1</td>\n",
       "      <td>0</td>\n",
       "      <td>0</td>\n",
       "      <td>0</td>\n",
       "      <td>0</td>\n",
       "      <td>0</td>\n",
       "      <td>0</td>\n",
       "      <td>0</td>\n",
       "      <td>0</td>\n",
       "      <td>0</td>\n",
       "      <td>1</td>\n",
       "      <td>0</td>\n",
       "      <td>0</td>\n",
       "      <td>0</td>\n",
       "      <td>1</td>\n",
       "      <td>0</td>\n",
       "      <td>0</td>\n",
       "      <td>1</td>\n",
       "      <td>0</td>\n",
       "      <td>0</td>\n",
       "      <td>0</td>\n",
       "      <td>0</td>\n",
       "      <td>0</td>\n",
       "      <td>1</td>\n",
       "      <td>1</td>\n",
       "      <td>0</td>\n",
       "      <td>0</td>\n",
       "      <td>0</td>\n",
       "      <td>0</td>\n",
       "      <td>0</td>\n",
       "      <td>0</td>\n",
       "      <td>0</td>\n",
       "      <td>0</td>\n",
       "      <td>1</td>\n",
       "      <td>0</td>\n",
       "      <td>0</td>\n",
       "    </tr>\n",
       "    <tr>\n",
       "      <th>3</th>\n",
       "      <td>1989</td>\n",
       "      <td>902207150</td>\n",
       "      <td>30</td>\n",
       "      <td>60.0</td>\n",
       "      <td>8520.0</td>\n",
       "      <td>0</td>\n",
       "      <td>3</td>\n",
       "      <td>1</td>\n",
       "      <td>0</td>\n",
       "      <td>5</td>\n",
       "      <td>6</td>\n",
       "      <td>1923.0</td>\n",
       "      <td>2006.0</td>\n",
       "      <td>0.0</td>\n",
       "      <td>2</td>\n",
       "      <td>2</td>\n",
       "      <td>3</td>\n",
       "      <td>3</td>\n",
       "      <td>1</td>\n",
       "      <td>1</td>\n",
       "      <td>0.0</td>\n",
       "      <td>1</td>\n",
       "      <td>0.0</td>\n",
       "      <td>968.0</td>\n",
       "      <td>968.0</td>\n",
       "      <td>3</td>\n",
       "      <td>5</td>\n",
       "      <td>968.0</td>\n",
       "      <td>0.0</td>\n",
       "      <td>0</td>\n",
       "      <td>968.0</td>\n",
       "      <td>0.0</td>\n",
       "      <td>0.0</td>\n",
       "      <td>1.0</td>\n",
       "      <td>0.0</td>\n",
       "      <td>2.0</td>\n",
       "      <td>1.0</td>\n",
       "      <td>3</td>\n",
       "      <td>5.0</td>\n",
       "      <td>8</td>\n",
       "      <td>0.0</td>\n",
       "      <td>0</td>\n",
       "      <td>1935.0</td>\n",
       "      <td>1</td>\n",
       "      <td>2.0</td>\n",
       "      <td>480.0</td>\n",
       "      <td>2</td>\n",
       "      <td>3</td>\n",
       "      <td>1</td>\n",
       "      <td>0.0</td>\n",
       "      <td>...</td>\n",
       "      <td>0</td>\n",
       "      <td>0</td>\n",
       "      <td>0</td>\n",
       "      <td>1</td>\n",
       "      <td>0</td>\n",
       "      <td>0</td>\n",
       "      <td>0</td>\n",
       "      <td>0</td>\n",
       "      <td>0</td>\n",
       "      <td>0</td>\n",
       "      <td>0</td>\n",
       "      <td>0</td>\n",
       "      <td>0</td>\n",
       "      <td>0</td>\n",
       "      <td>0</td>\n",
       "      <td>1</td>\n",
       "      <td>0</td>\n",
       "      <td>0</td>\n",
       "      <td>0</td>\n",
       "      <td>0</td>\n",
       "      <td>0</td>\n",
       "      <td>0</td>\n",
       "      <td>0</td>\n",
       "      <td>0</td>\n",
       "      <td>0</td>\n",
       "      <td>1</td>\n",
       "      <td>0</td>\n",
       "      <td>0</td>\n",
       "      <td>1</td>\n",
       "      <td>0</td>\n",
       "      <td>1</td>\n",
       "      <td>0</td>\n",
       "      <td>0</td>\n",
       "      <td>0</td>\n",
       "      <td>0</td>\n",
       "      <td>0</td>\n",
       "      <td>0</td>\n",
       "      <td>1</td>\n",
       "      <td>0</td>\n",
       "      <td>0</td>\n",
       "      <td>0</td>\n",
       "      <td>0</td>\n",
       "      <td>1</td>\n",
       "      <td>0</td>\n",
       "      <td>0</td>\n",
       "      <td>0</td>\n",
       "      <td>0</td>\n",
       "      <td>0</td>\n",
       "      <td>0</td>\n",
       "      <td>1</td>\n",
       "    </tr>\n",
       "    <tr>\n",
       "      <th>4</th>\n",
       "      <td>625</td>\n",
       "      <td>535105100</td>\n",
       "      <td>20</td>\n",
       "      <td>74.6</td>\n",
       "      <td>9500.0</td>\n",
       "      <td>0</td>\n",
       "      <td>2</td>\n",
       "      <td>1</td>\n",
       "      <td>0</td>\n",
       "      <td>6</td>\n",
       "      <td>5</td>\n",
       "      <td>1963.0</td>\n",
       "      <td>1963.0</td>\n",
       "      <td>247.0</td>\n",
       "      <td>1</td>\n",
       "      <td>2</td>\n",
       "      <td>4</td>\n",
       "      <td>3</td>\n",
       "      <td>1</td>\n",
       "      <td>4</td>\n",
       "      <td>609.0</td>\n",
       "      <td>1</td>\n",
       "      <td>0.0</td>\n",
       "      <td>785.0</td>\n",
       "      <td>1394.0</td>\n",
       "      <td>4</td>\n",
       "      <td>5</td>\n",
       "      <td>1394.0</td>\n",
       "      <td>0.0</td>\n",
       "      <td>0</td>\n",
       "      <td>1394.0</td>\n",
       "      <td>1.0</td>\n",
       "      <td>0.0</td>\n",
       "      <td>1.0</td>\n",
       "      <td>1.0</td>\n",
       "      <td>3.0</td>\n",
       "      <td>1.0</td>\n",
       "      <td>3</td>\n",
       "      <td>6.0</td>\n",
       "      <td>8</td>\n",
       "      <td>2.0</td>\n",
       "      <td>4</td>\n",
       "      <td>1963.0</td>\n",
       "      <td>2</td>\n",
       "      <td>2.0</td>\n",
       "      <td>514.0</td>\n",
       "      <td>3</td>\n",
       "      <td>3</td>\n",
       "      <td>3</td>\n",
       "      <td>0.0</td>\n",
       "      <td>...</td>\n",
       "      <td>0</td>\n",
       "      <td>0</td>\n",
       "      <td>0</td>\n",
       "      <td>1</td>\n",
       "      <td>0</td>\n",
       "      <td>0</td>\n",
       "      <td>0</td>\n",
       "      <td>0</td>\n",
       "      <td>0</td>\n",
       "      <td>0</td>\n",
       "      <td>0</td>\n",
       "      <td>0</td>\n",
       "      <td>1</td>\n",
       "      <td>0</td>\n",
       "      <td>0</td>\n",
       "      <td>0</td>\n",
       "      <td>0</td>\n",
       "      <td>0</td>\n",
       "      <td>0</td>\n",
       "      <td>0</td>\n",
       "      <td>0</td>\n",
       "      <td>0</td>\n",
       "      <td>1</td>\n",
       "      <td>0</td>\n",
       "      <td>0</td>\n",
       "      <td>0</td>\n",
       "      <td>0</td>\n",
       "      <td>1</td>\n",
       "      <td>0</td>\n",
       "      <td>0</td>\n",
       "      <td>1</td>\n",
       "      <td>0</td>\n",
       "      <td>0</td>\n",
       "      <td>0</td>\n",
       "      <td>0</td>\n",
       "      <td>0</td>\n",
       "      <td>0</td>\n",
       "      <td>1</td>\n",
       "      <td>1</td>\n",
       "      <td>0</td>\n",
       "      <td>0</td>\n",
       "      <td>0</td>\n",
       "      <td>0</td>\n",
       "      <td>0</td>\n",
       "      <td>0</td>\n",
       "      <td>0</td>\n",
       "      <td>0</td>\n",
       "      <td>0</td>\n",
       "      <td>0</td>\n",
       "      <td>1</td>\n",
       "    </tr>\n",
       "  </tbody>\n",
       "</table>\n",
       "<p>5 rows × 159 columns</p>\n",
       "</div>"
      ],
      "text/plain": [
       "     id        pid  ms_sub_class  lot_frontage  lot_area  alley  lot_shape  \\\n",
       "0  2658  902301120           190          69.0    9142.0      1          3   \n",
       "1  2718  905108090            90          70.6    9662.0      0          2   \n",
       "2  2414  528218130            60          58.0   17104.0      0          2   \n",
       "3  1989  902207150            30          60.0    8520.0      0          3   \n",
       "4   625  535105100            20          74.6    9500.0      0          2   \n",
       "\n",
       "   utilities  land_slope  overall_qual  overall_cond  year_built  \\\n",
       "0          1           0             6             8      1910.0   \n",
       "1          1           0             5             4      1977.0   \n",
       "2          1           0             7             5      2006.0   \n",
       "3          1           0             5             6      1923.0   \n",
       "4          1           0             6             5      1963.0   \n",
       "\n",
       "   year_remod/add  mas_vnr_area  exter_qual  exter_cond  bsmt_qual  bsmt_cond  \\\n",
       "0          1950.0           0.0           1           1          2          3   \n",
       "1          1977.0           0.0           1           2          4          3   \n",
       "2          2006.0           0.0           2           2          4          4   \n",
       "3          2006.0           0.0           2           2          3          3   \n",
       "4          1963.0         247.0           1           2          4          3   \n",
       "\n",
       "   bsmt_exposure  bsmt_fin_type_1  bsmt_fin_sf_1  bsmt_fin_type_2  \\\n",
       "0              1                1            0.0                1   \n",
       "1              1                1            0.0                1   \n",
       "2              3                6          554.0                1   \n",
       "3              1                1            0.0                1   \n",
       "4              1                4          609.0                1   \n",
       "\n",
       "   bsmt_fin_sf_2  bsmt_unf_sf  total_bsmt_sf  heating_qc  electrical  \\\n",
       "0            0.0       1020.0         1020.0           4           2   \n",
       "1            0.0       1967.0         1967.0           3           5   \n",
       "2            0.0        100.0          654.0           5           5   \n",
       "3            0.0        968.0          968.0           3           5   \n",
       "4            0.0        785.0         1394.0           4           5   \n",
       "\n",
       "   1st_flr_sf  2nd_flr_sf  low_qual_fin_sf  gr_liv_area  bsmt_full_bath  \\\n",
       "0       908.0      1020.0                0       1928.0             0.0   \n",
       "1      1967.0         0.0                0       1967.0             0.0   \n",
       "2       664.0       832.0                0       1496.0             1.0   \n",
       "3       968.0         0.0                0        968.0             0.0   \n",
       "4      1394.0         0.0                0       1394.0             1.0   \n",
       "\n",
       "   bsmt_half_bath  full_bath  half_bath  bedroom_abv_gr  kitchen_abv_gr  \\\n",
       "0             0.0        2.0        0.0             4.0             2.0   \n",
       "1             0.0        2.0        0.0             6.0             2.0   \n",
       "2             0.0        2.0        1.0             3.0             1.0   \n",
       "3             0.0        1.0        0.0             2.0             1.0   \n",
       "4             0.0        1.0        1.0             3.0             1.0   \n",
       "\n",
       "   kitchen_qual  tot_rms_abv_grd  functional  fireplaces  fireplace_qu  \\\n",
       "0             2              9.0           8         0.0             0   \n",
       "1             3             10.0           8         0.0             0   \n",
       "2             4              7.0           8         1.0             4   \n",
       "3             3              5.0           8         0.0             0   \n",
       "4             3              6.0           8         2.0             4   \n",
       "\n",
       "   garage_yr_blt  garage_finish  garage_cars  garage_area  garage_qual  \\\n",
       "0         1910.0              1          1.0        440.0            1   \n",
       "1         1977.0              3          2.0        580.0            3   \n",
       "2         2006.0              2          2.0        426.0            3   \n",
       "3         1935.0              1          2.0        480.0            2   \n",
       "4         1963.0              2          2.0        514.0            3   \n",
       "\n",
       "   garage_cond  paved_drive  wood_deck_sf  ...  house_style_2Story  \\\n",
       "0            1            3           0.0  ...                   1   \n",
       "1            3            3         170.0  ...                   0   \n",
       "2            3            3         100.0  ...                   1   \n",
       "3            3            1           0.0  ...                   0   \n",
       "4            3            3           0.0  ...                   0   \n",
       "\n",
       "   house_style_SFoyer  house_style_SLvl  roof_style_Gable  roof_style_Gambrel  \\\n",
       "0                   0                 0                 1                   0   \n",
       "1                   0                 0                 1                   0   \n",
       "2                   0                 0                 1                   0   \n",
       "3                   0                 0                 1                   0   \n",
       "4                   0                 0                 1                   0   \n",
       "\n",
       "   roof_style_Hip  roof_style_Mansard  roof_matl_Tar&Grv  \\\n",
       "0               0                   0                  0   \n",
       "1               0                   0                  0   \n",
       "2               0                   0                  0   \n",
       "3               0                   0                  0   \n",
       "4               0                   0                  0   \n",
       "\n",
       "   exterior_1st_BrkFace  exterior_1st_CemntBd  exterior_1st_HdBoard  \\\n",
       "0                     0                     0                     0   \n",
       "1                     0                     0                     0   \n",
       "2                     0                     0                     0   \n",
       "3                     0                     0                     0   \n",
       "4                     0                     0                     0   \n",
       "\n",
       "   exterior_1st_MetalSd  exterior_1st_Plywood  exterior_1st_Stucco  \\\n",
       "0                     0                     0                    0   \n",
       "1                     0                     1                    0   \n",
       "2                     0                     0                    0   \n",
       "3                     0                     0                    0   \n",
       "4                     0                     1                    0   \n",
       "\n",
       "   exterior_1st_VinylSd  exterior_1st_Wd Sdng  exterior_1st_WdShing  \\\n",
       "0                     0                     0                     0   \n",
       "1                     0                     0                     0   \n",
       "2                     1                     0                     0   \n",
       "3                     0                     1                     0   \n",
       "4                     0                     0                     0   \n",
       "\n",
       "   exterior_2nd_BrkFace  exterior_2nd_CmentBd  exterior_2nd_HdBoard  \\\n",
       "0                     0                     0                     0   \n",
       "1                     0                     0                     0   \n",
       "2                     0                     0                     0   \n",
       "3                     0                     0                     0   \n",
       "4                     0                     0                     0   \n",
       "\n",
       "   exterior_2nd_ImStucc  exterior_2nd_MetalSd  exterior_2nd_Plywood  \\\n",
       "0                     0                     0                     0   \n",
       "1                     0                     0                     1   \n",
       "2                     0                     0                     0   \n",
       "3                     0                     0                     0   \n",
       "4                     0                     0                     1   \n",
       "\n",
       "   exterior_2nd_Stucco  exterior_2nd_VinylSd  exterior_2nd_Wd Sdng  \\\n",
       "0                    0                     0                     0   \n",
       "1                    0                     0                     0   \n",
       "2                    0                     1                     0   \n",
       "3                    0                     0                     1   \n",
       "4                    0                     0                     0   \n",
       "\n",
       "   exterior_2nd_Wd Shng  mas_vnr_type_BrkFace  mas_vnr_type_None  \\\n",
       "0                     0                     0                  1   \n",
       "1                     0                     0                  1   \n",
       "2                     0                     0                  1   \n",
       "3                     0                     0                  1   \n",
       "4                     0                     1                  0   \n",
       "\n",
       "   mas_vnr_type_Stone  foundation_CBlock  foundation_PConc  foundation_Slab  \\\n",
       "0                   0                  0                 0                0   \n",
       "1                   0                  1                 0                0   \n",
       "2                   0                  0                 1                0   \n",
       "3                   0                  1                 0                0   \n",
       "4                   0                  1                 0                0   \n",
       "\n",
       "   foundation_Stone  foundation_Wood  heating_GasW  heating_Grav  \\\n",
       "0                 1                0             0             0   \n",
       "1                 0                0             0             0   \n",
       "2                 0                0             0             0   \n",
       "3                 0                0             0             0   \n",
       "4                 0                0             0             0   \n",
       "\n",
       "   central_air_Y  garage_type_Attchd  garage_type_Basment  \\\n",
       "0              0                   0                    0   \n",
       "1              1                   1                    0   \n",
       "2              1                   1                    0   \n",
       "3              1                   0                    0   \n",
       "4              1                   1                    0   \n",
       "\n",
       "   garage_type_BuiltIn  garage_type_CarPort  garage_type_Detchd  \\\n",
       "0                    0                    0                   1   \n",
       "1                    0                    0                   0   \n",
       "2                    0                    0                   0   \n",
       "3                    0                    0                   1   \n",
       "4                    0                    0                   0   \n",
       "\n",
       "   sale_type_CWD  sale_type_ConLD  sale_type_ConLI  sale_type_ConLw  \\\n",
       "0              0                0                0                0   \n",
       "1              0                0                0                0   \n",
       "2              0                0                0                0   \n",
       "3              0                0                0                0   \n",
       "4              0                0                0                0   \n",
       "\n",
       "   sale_type_New  sale_type_Oth  sale_type_WD   \n",
       "0              0              0              1  \n",
       "1              0              0              1  \n",
       "2              1              0              0  \n",
       "3              0              0              1  \n",
       "4              0              0              1  \n",
       "\n",
       "[5 rows x 159 columns]"
      ]
     },
     "execution_count": 173,
     "metadata": {},
     "output_type": "execute_result"
    }
   ],
   "source": [
    "test.head()"
   ]
  },
  {
   "cell_type": "code",
   "execution_count": 174,
   "id": "cd3f0ff7-e77d-48a0-86cd-c4577cfef729",
   "metadata": {},
   "outputs": [],
   "source": [
    "test=pd.DataFrame(sc.transform(test), columns = test.columns, index = test.index)\n"
   ]
  },
  {
   "cell_type": "code",
   "execution_count": 175,
   "id": "a102bf36-ad78-49f5-bb86-372d614fca4c",
   "metadata": {},
   "outputs": [
    {
     "data": {
      "text/html": [
       "<div>\n",
       "<style scoped>\n",
       "    .dataframe tbody tr th:only-of-type {\n",
       "        vertical-align: middle;\n",
       "    }\n",
       "\n",
       "    .dataframe tbody tr th {\n",
       "        vertical-align: top;\n",
       "    }\n",
       "\n",
       "    .dataframe thead th {\n",
       "        text-align: right;\n",
       "    }\n",
       "</style>\n",
       "<table border=\"1\" class=\"dataframe\">\n",
       "  <thead>\n",
       "    <tr style=\"text-align: right;\">\n",
       "      <th></th>\n",
       "      <th>id</th>\n",
       "      <th>pid</th>\n",
       "      <th>ms_sub_class</th>\n",
       "      <th>lot_frontage</th>\n",
       "      <th>lot_area</th>\n",
       "      <th>alley</th>\n",
       "      <th>lot_shape</th>\n",
       "      <th>utilities</th>\n",
       "      <th>land_slope</th>\n",
       "      <th>overall_qual</th>\n",
       "      <th>overall_cond</th>\n",
       "      <th>year_built</th>\n",
       "      <th>year_remod/add</th>\n",
       "      <th>mas_vnr_area</th>\n",
       "      <th>exter_qual</th>\n",
       "      <th>exter_cond</th>\n",
       "      <th>bsmt_qual</th>\n",
       "      <th>bsmt_cond</th>\n",
       "      <th>bsmt_exposure</th>\n",
       "      <th>bsmt_fin_type_1</th>\n",
       "      <th>bsmt_fin_sf_1</th>\n",
       "      <th>bsmt_fin_type_2</th>\n",
       "      <th>bsmt_fin_sf_2</th>\n",
       "      <th>bsmt_unf_sf</th>\n",
       "      <th>total_bsmt_sf</th>\n",
       "      <th>heating_qc</th>\n",
       "      <th>electrical</th>\n",
       "      <th>1st_flr_sf</th>\n",
       "      <th>2nd_flr_sf</th>\n",
       "      <th>low_qual_fin_sf</th>\n",
       "      <th>gr_liv_area</th>\n",
       "      <th>bsmt_full_bath</th>\n",
       "      <th>bsmt_half_bath</th>\n",
       "      <th>full_bath</th>\n",
       "      <th>half_bath</th>\n",
       "      <th>bedroom_abv_gr</th>\n",
       "      <th>kitchen_abv_gr</th>\n",
       "      <th>kitchen_qual</th>\n",
       "      <th>tot_rms_abv_grd</th>\n",
       "      <th>functional</th>\n",
       "      <th>fireplaces</th>\n",
       "      <th>fireplace_qu</th>\n",
       "      <th>garage_yr_blt</th>\n",
       "      <th>garage_finish</th>\n",
       "      <th>garage_cars</th>\n",
       "      <th>garage_area</th>\n",
       "      <th>garage_qual</th>\n",
       "      <th>garage_cond</th>\n",
       "      <th>paved_drive</th>\n",
       "      <th>wood_deck_sf</th>\n",
       "      <th>...</th>\n",
       "      <th>house_style_2Story</th>\n",
       "      <th>house_style_SFoyer</th>\n",
       "      <th>house_style_SLvl</th>\n",
       "      <th>roof_style_Gable</th>\n",
       "      <th>roof_style_Gambrel</th>\n",
       "      <th>roof_style_Hip</th>\n",
       "      <th>roof_style_Mansard</th>\n",
       "      <th>roof_matl_Tar&amp;Grv</th>\n",
       "      <th>exterior_1st_BrkFace</th>\n",
       "      <th>exterior_1st_CemntBd</th>\n",
       "      <th>exterior_1st_HdBoard</th>\n",
       "      <th>exterior_1st_MetalSd</th>\n",
       "      <th>exterior_1st_Plywood</th>\n",
       "      <th>exterior_1st_Stucco</th>\n",
       "      <th>exterior_1st_VinylSd</th>\n",
       "      <th>exterior_1st_Wd Sdng</th>\n",
       "      <th>exterior_1st_WdShing</th>\n",
       "      <th>exterior_2nd_BrkFace</th>\n",
       "      <th>exterior_2nd_CmentBd</th>\n",
       "      <th>exterior_2nd_HdBoard</th>\n",
       "      <th>exterior_2nd_ImStucc</th>\n",
       "      <th>exterior_2nd_MetalSd</th>\n",
       "      <th>exterior_2nd_Plywood</th>\n",
       "      <th>exterior_2nd_Stucco</th>\n",
       "      <th>exterior_2nd_VinylSd</th>\n",
       "      <th>exterior_2nd_Wd Sdng</th>\n",
       "      <th>exterior_2nd_Wd Shng</th>\n",
       "      <th>mas_vnr_type_BrkFace</th>\n",
       "      <th>mas_vnr_type_None</th>\n",
       "      <th>mas_vnr_type_Stone</th>\n",
       "      <th>foundation_CBlock</th>\n",
       "      <th>foundation_PConc</th>\n",
       "      <th>foundation_Slab</th>\n",
       "      <th>foundation_Stone</th>\n",
       "      <th>foundation_Wood</th>\n",
       "      <th>heating_GasW</th>\n",
       "      <th>heating_Grav</th>\n",
       "      <th>central_air_Y</th>\n",
       "      <th>garage_type_Attchd</th>\n",
       "      <th>garage_type_Basment</th>\n",
       "      <th>garage_type_BuiltIn</th>\n",
       "      <th>garage_type_CarPort</th>\n",
       "      <th>garage_type_Detchd</th>\n",
       "      <th>sale_type_CWD</th>\n",
       "      <th>sale_type_ConLD</th>\n",
       "      <th>sale_type_ConLI</th>\n",
       "      <th>sale_type_ConLw</th>\n",
       "      <th>sale_type_New</th>\n",
       "      <th>sale_type_Oth</th>\n",
       "      <th>sale_type_WD</th>\n",
       "    </tr>\n",
       "  </thead>\n",
       "  <tbody>\n",
       "    <tr>\n",
       "      <th>0</th>\n",
       "      <td>1.451107</td>\n",
       "      <td>1.039693</td>\n",
       "      <td>3.123763</td>\n",
       "      <td>0.118830</td>\n",
       "      <td>0.049138</td>\n",
       "      <td>3.741657</td>\n",
       "      <td>0.714373</td>\n",
       "      <td>0.0</td>\n",
       "      <td>-0.194695</td>\n",
       "      <td>-0.059830</td>\n",
       "      <td>2.367147</td>\n",
       "      <td>-2.177332</td>\n",
       "      <td>-1.642900</td>\n",
       "      <td>-0.620792</td>\n",
       "      <td>-0.734321</td>\n",
       "      <td>-3.077986</td>\n",
       "      <td>-1.867089</td>\n",
       "      <td>0.074996</td>\n",
       "      <td>-0.531834</td>\n",
       "      <td>-1.195690</td>\n",
       "      <td>-0.996626</td>\n",
       "      <td>-0.234167</td>\n",
       "      <td>-0.252476</td>\n",
       "      <td>1.046344</td>\n",
       "      <td>0.041641</td>\n",
       "      <td>-0.198697</td>\n",
       "      <td>-7.256067</td>\n",
       "      <td>-0.546706</td>\n",
       "      <td>1.720966</td>\n",
       "      <td>-0.098597</td>\n",
       "      <td>1.215541</td>\n",
       "      <td>-0.824681</td>\n",
       "      <td>0.0</td>\n",
       "      <td>0.852680</td>\n",
       "      <td>-0.771845</td>\n",
       "      <td>1.70120</td>\n",
       "      <td>1.0</td>\n",
       "      <td>-2.363942</td>\n",
       "      <td>2.091319</td>\n",
       "      <td>0.213902</td>\n",
       "      <td>-0.884519</td>\n",
       "      <td>-0.904024</td>\n",
       "      <td>-2.874518</td>\n",
       "      <td>-0.842370</td>\n",
       "      <td>-1.030331</td>\n",
       "      <td>-0.095742</td>\n",
       "      <td>-2.716586</td>\n",
       "      <td>-2.747477</td>\n",
       "      <td>0.297827</td>\n",
       "      <td>-0.816385</td>\n",
       "      <td>...</td>\n",
       "      <td>1.506993</td>\n",
       "      <td>-0.156174</td>\n",
       "      <td>-0.199007</td>\n",
       "      <td>0.444143</td>\n",
       "      <td>-0.081923</td>\n",
       "      <td>-0.427121</td>\n",
       "      <td>-0.030875</td>\n",
       "      <td>-0.043685</td>\n",
       "      <td>-0.116248</td>\n",
       "      <td>-0.201579</td>\n",
       "      <td>-0.417728</td>\n",
       "      <td>-0.442606</td>\n",
       "      <td>-0.244000</td>\n",
       "      <td>-0.107521</td>\n",
       "      <td>-0.813260</td>\n",
       "      <td>-0.392232</td>\n",
       "      <td>-0.142857</td>\n",
       "      <td>-0.07581</td>\n",
       "      <td>-0.204124</td>\n",
       "      <td>-0.392232</td>\n",
       "      <td>-0.053529</td>\n",
       "      <td>-0.436436</td>\n",
       "      <td>-0.269301</td>\n",
       "      <td>-0.111965</td>\n",
       "      <td>-0.810032</td>\n",
       "      <td>-0.379198</td>\n",
       "      <td>-0.182933</td>\n",
       "      <td>-0.663573</td>\n",
       "      <td>0.793999</td>\n",
       "      <td>-0.289122</td>\n",
       "      <td>-0.789224</td>\n",
       "      <td>-1.003817</td>\n",
       "      <td>-0.092981</td>\n",
       "      <td>32.388269</td>\n",
       "      <td>-0.030875</td>\n",
       "      <td>-0.081923</td>\n",
       "      <td>-0.043685</td>\n",
       "      <td>-3.892794</td>\n",
       "      <td>-1.333333</td>\n",
       "      <td>-0.107521</td>\n",
       "      <td>-0.267261</td>\n",
       "      <td>-0.053529</td>\n",
       "      <td>1.618854</td>\n",
       "      <td>-0.061839</td>\n",
       "      <td>-0.102894</td>\n",
       "      <td>-0.053529</td>\n",
       "      <td>-0.030875</td>\n",
       "      <td>-0.291051</td>\n",
       "      <td>-0.030875</td>\n",
       "      <td>0.393847</td>\n",
       "    </tr>\n",
       "    <tr>\n",
       "      <th>1</th>\n",
       "      <td>1.522631</td>\n",
       "      <td>1.054596</td>\n",
       "      <td>0.780104</td>\n",
       "      <td>0.202100</td>\n",
       "      <td>0.197900</td>\n",
       "      <td>-0.267261</td>\n",
       "      <td>-1.179798</td>\n",
       "      <td>0.0</td>\n",
       "      <td>-0.194695</td>\n",
       "      <td>-0.781913</td>\n",
       "      <td>-1.424622</td>\n",
       "      <td>0.089950</td>\n",
       "      <td>-0.372166</td>\n",
       "      <td>-0.620792</td>\n",
       "      <td>-0.734321</td>\n",
       "      <td>-0.179434</td>\n",
       "      <td>0.572791</td>\n",
       "      <td>0.074996</td>\n",
       "      <td>-0.531834</td>\n",
       "      <td>-1.195690</td>\n",
       "      <td>-0.996626</td>\n",
       "      <td>-0.234167</td>\n",
       "      <td>-0.252476</td>\n",
       "      <td>3.295789</td>\n",
       "      <td>2.631411</td>\n",
       "      <td>-1.247100</td>\n",
       "      <td>0.269982</td>\n",
       "      <td>2.671040</td>\n",
       "      <td>-0.802413</td>\n",
       "      <td>-0.098597</td>\n",
       "      <td>1.308153</td>\n",
       "      <td>-0.824681</td>\n",
       "      <td>0.0</td>\n",
       "      <td>0.852680</td>\n",
       "      <td>-0.771845</td>\n",
       "      <td>4.44718</td>\n",
       "      <td>1.0</td>\n",
       "      <td>-0.801866</td>\n",
       "      <td>2.832171</td>\n",
       "      <td>0.213902</td>\n",
       "      <td>-0.884519</td>\n",
       "      <td>-0.904024</td>\n",
       "      <td>-0.179693</td>\n",
       "      <td>1.425549</td>\n",
       "      <td>0.367405</td>\n",
       "      <td>0.614032</td>\n",
       "      <td>0.260883</td>\n",
       "      <td>0.246660</td>\n",
       "      <td>0.297827</td>\n",
       "      <td>0.780214</td>\n",
       "      <td>...</td>\n",
       "      <td>-0.663573</td>\n",
       "      <td>-0.156174</td>\n",
       "      <td>-0.199007</td>\n",
       "      <td>0.444143</td>\n",
       "      <td>-0.081923</td>\n",
       "      <td>-0.427121</td>\n",
       "      <td>-0.030875</td>\n",
       "      <td>-0.043685</td>\n",
       "      <td>-0.116248</td>\n",
       "      <td>-0.201579</td>\n",
       "      <td>-0.417728</td>\n",
       "      <td>-0.442606</td>\n",
       "      <td>4.098367</td>\n",
       "      <td>-0.107521</td>\n",
       "      <td>-0.813260</td>\n",
       "      <td>-0.392232</td>\n",
       "      <td>-0.142857</td>\n",
       "      <td>-0.07581</td>\n",
       "      <td>-0.204124</td>\n",
       "      <td>-0.392232</td>\n",
       "      <td>-0.053529</td>\n",
       "      <td>-0.436436</td>\n",
       "      <td>3.713318</td>\n",
       "      <td>-0.111965</td>\n",
       "      <td>-0.810032</td>\n",
       "      <td>-0.379198</td>\n",
       "      <td>-0.182933</td>\n",
       "      <td>-0.663573</td>\n",
       "      <td>0.793999</td>\n",
       "      <td>-0.289122</td>\n",
       "      <td>1.267067</td>\n",
       "      <td>-1.003817</td>\n",
       "      <td>-0.092981</td>\n",
       "      <td>-0.030875</td>\n",
       "      <td>-0.030875</td>\n",
       "      <td>-0.081923</td>\n",
       "      <td>-0.043685</td>\n",
       "      <td>0.256885</td>\n",
       "      <td>0.750000</td>\n",
       "      <td>-0.107521</td>\n",
       "      <td>-0.267261</td>\n",
       "      <td>-0.053529</td>\n",
       "      <td>-0.617721</td>\n",
       "      <td>-0.061839</td>\n",
       "      <td>-0.102894</td>\n",
       "      <td>-0.053529</td>\n",
       "      <td>-0.030875</td>\n",
       "      <td>-0.291051</td>\n",
       "      <td>-0.030875</td>\n",
       "      <td>0.393847</td>\n",
       "    </tr>\n",
       "    <tr>\n",
       "      <th>2</th>\n",
       "      <td>1.160244</td>\n",
       "      <td>-0.946364</td>\n",
       "      <td>0.077006</td>\n",
       "      <td>-0.453658</td>\n",
       "      <td>2.326913</td>\n",
       "      <td>-0.267261</td>\n",
       "      <td>-1.179798</td>\n",
       "      <td>0.0</td>\n",
       "      <td>-0.194695</td>\n",
       "      <td>0.662254</td>\n",
       "      <td>-0.476680</td>\n",
       "      <td>1.071311</td>\n",
       "      <td>0.992696</td>\n",
       "      <td>-0.620792</td>\n",
       "      <td>1.067167</td>\n",
       "      <td>-0.179434</td>\n",
       "      <td>0.572791</td>\n",
       "      <td>2.094118</td>\n",
       "      <td>1.517434</td>\n",
       "      <td>1.118122</td>\n",
       "      <td>0.364760</td>\n",
       "      <td>-0.234167</td>\n",
       "      <td>-0.252476</td>\n",
       "      <td>-1.138966</td>\n",
       "      <td>-0.959263</td>\n",
       "      <td>0.849706</td>\n",
       "      <td>0.269982</td>\n",
       "      <td>-1.288094</td>\n",
       "      <td>1.255872</td>\n",
       "      <td>-0.098597</td>\n",
       "      <td>0.189688</td>\n",
       "      <td>1.193770</td>\n",
       "      <td>0.0</td>\n",
       "      <td>0.852680</td>\n",
       "      <td>1.295597</td>\n",
       "      <td>0.32821</td>\n",
       "      <td>0.0</td>\n",
       "      <td>0.760210</td>\n",
       "      <td>0.609615</td>\n",
       "      <td>0.213902</td>\n",
       "      <td>0.841773</td>\n",
       "      <td>1.330762</td>\n",
       "      <td>0.986724</td>\n",
       "      <td>0.291590</td>\n",
       "      <td>0.367405</td>\n",
       "      <td>-0.166720</td>\n",
       "      <td>0.260883</td>\n",
       "      <td>0.246660</td>\n",
       "      <td>0.297827</td>\n",
       "      <td>0.122791</td>\n",
       "      <td>...</td>\n",
       "      <td>1.506993</td>\n",
       "      <td>-0.156174</td>\n",
       "      <td>-0.199007</td>\n",
       "      <td>0.444143</td>\n",
       "      <td>-0.081923</td>\n",
       "      <td>-0.427121</td>\n",
       "      <td>-0.030875</td>\n",
       "      <td>-0.043685</td>\n",
       "      <td>-0.116248</td>\n",
       "      <td>-0.201579</td>\n",
       "      <td>-0.417728</td>\n",
       "      <td>-0.442606</td>\n",
       "      <td>-0.244000</td>\n",
       "      <td>-0.107521</td>\n",
       "      <td>1.229619</td>\n",
       "      <td>-0.392232</td>\n",
       "      <td>-0.142857</td>\n",
       "      <td>-0.07581</td>\n",
       "      <td>-0.204124</td>\n",
       "      <td>-0.392232</td>\n",
       "      <td>-0.053529</td>\n",
       "      <td>-0.436436</td>\n",
       "      <td>-0.269301</td>\n",
       "      <td>-0.111965</td>\n",
       "      <td>1.234520</td>\n",
       "      <td>-0.379198</td>\n",
       "      <td>-0.182933</td>\n",
       "      <td>-0.663573</td>\n",
       "      <td>0.793999</td>\n",
       "      <td>-0.289122</td>\n",
       "      <td>-0.789224</td>\n",
       "      <td>0.996198</td>\n",
       "      <td>-0.092981</td>\n",
       "      <td>-0.030875</td>\n",
       "      <td>-0.030875</td>\n",
       "      <td>-0.081923</td>\n",
       "      <td>-0.043685</td>\n",
       "      <td>0.256885</td>\n",
       "      <td>0.750000</td>\n",
       "      <td>-0.107521</td>\n",
       "      <td>-0.267261</td>\n",
       "      <td>-0.053529</td>\n",
       "      <td>-0.617721</td>\n",
       "      <td>-0.061839</td>\n",
       "      <td>-0.102894</td>\n",
       "      <td>-0.053529</td>\n",
       "      <td>-0.030875</td>\n",
       "      <td>3.435823</td>\n",
       "      <td>-0.030875</td>\n",
       "      <td>-2.539057</td>\n",
       "    </tr>\n",
       "    <tr>\n",
       "      <th>3</th>\n",
       "      <td>0.653618</td>\n",
       "      <td>1.039194</td>\n",
       "      <td>-0.626092</td>\n",
       "      <td>-0.349569</td>\n",
       "      <td>-0.128804</td>\n",
       "      <td>-0.267261</td>\n",
       "      <td>0.714373</td>\n",
       "      <td>0.0</td>\n",
       "      <td>-0.194695</td>\n",
       "      <td>-0.781913</td>\n",
       "      <td>0.471263</td>\n",
       "      <td>-1.737412</td>\n",
       "      <td>0.992696</td>\n",
       "      <td>-0.620792</td>\n",
       "      <td>1.067167</td>\n",
       "      <td>-0.179434</td>\n",
       "      <td>-0.647149</td>\n",
       "      <td>0.074996</td>\n",
       "      <td>-0.531834</td>\n",
       "      <td>-1.195690</td>\n",
       "      <td>-0.996626</td>\n",
       "      <td>-0.234167</td>\n",
       "      <td>-0.252476</td>\n",
       "      <td>0.922827</td>\n",
       "      <td>-0.100564</td>\n",
       "      <td>-1.247100</td>\n",
       "      <td>0.269982</td>\n",
       "      <td>-0.364397</td>\n",
       "      <td>-0.802413</td>\n",
       "      <td>-0.098597</td>\n",
       "      <td>-1.064133</td>\n",
       "      <td>-0.824681</td>\n",
       "      <td>0.0</td>\n",
       "      <td>-1.044172</td>\n",
       "      <td>-0.771845</td>\n",
       "      <td>-1.04478</td>\n",
       "      <td>0.0</td>\n",
       "      <td>-0.801866</td>\n",
       "      <td>-0.872088</td>\n",
       "      <td>0.213902</td>\n",
       "      <td>-0.884519</td>\n",
       "      <td>-0.904024</td>\n",
       "      <td>-1.868987</td>\n",
       "      <td>-0.842370</td>\n",
       "      <td>0.367405</td>\n",
       "      <td>0.107050</td>\n",
       "      <td>-1.227851</td>\n",
       "      <td>0.246660</td>\n",
       "      <td>-3.586874</td>\n",
       "      <td>-0.816385</td>\n",
       "      <td>...</td>\n",
       "      <td>-0.663573</td>\n",
       "      <td>-0.156174</td>\n",
       "      <td>-0.199007</td>\n",
       "      <td>0.444143</td>\n",
       "      <td>-0.081923</td>\n",
       "      <td>-0.427121</td>\n",
       "      <td>-0.030875</td>\n",
       "      <td>-0.043685</td>\n",
       "      <td>-0.116248</td>\n",
       "      <td>-0.201579</td>\n",
       "      <td>-0.417728</td>\n",
       "      <td>-0.442606</td>\n",
       "      <td>-0.244000</td>\n",
       "      <td>-0.107521</td>\n",
       "      <td>-0.813260</td>\n",
       "      <td>2.549510</td>\n",
       "      <td>-0.142857</td>\n",
       "      <td>-0.07581</td>\n",
       "      <td>-0.204124</td>\n",
       "      <td>-0.392232</td>\n",
       "      <td>-0.053529</td>\n",
       "      <td>-0.436436</td>\n",
       "      <td>-0.269301</td>\n",
       "      <td>-0.111965</td>\n",
       "      <td>-0.810032</td>\n",
       "      <td>2.637147</td>\n",
       "      <td>-0.182933</td>\n",
       "      <td>-0.663573</td>\n",
       "      <td>0.793999</td>\n",
       "      <td>-0.289122</td>\n",
       "      <td>1.267067</td>\n",
       "      <td>-1.003817</td>\n",
       "      <td>-0.092981</td>\n",
       "      <td>-0.030875</td>\n",
       "      <td>-0.030875</td>\n",
       "      <td>-0.081923</td>\n",
       "      <td>-0.043685</td>\n",
       "      <td>0.256885</td>\n",
       "      <td>-1.333333</td>\n",
       "      <td>-0.107521</td>\n",
       "      <td>-0.267261</td>\n",
       "      <td>-0.053529</td>\n",
       "      <td>1.618854</td>\n",
       "      <td>-0.061839</td>\n",
       "      <td>-0.102894</td>\n",
       "      <td>-0.053529</td>\n",
       "      <td>-0.030875</td>\n",
       "      <td>-0.291051</td>\n",
       "      <td>-0.030875</td>\n",
       "      <td>0.393847</td>\n",
       "    </tr>\n",
       "    <tr>\n",
       "      <th>4</th>\n",
       "      <td>-0.972353</td>\n",
       "      <td>-0.909800</td>\n",
       "      <td>-0.860458</td>\n",
       "      <td>0.410278</td>\n",
       "      <td>0.151555</td>\n",
       "      <td>-0.267261</td>\n",
       "      <td>-1.179798</td>\n",
       "      <td>0.0</td>\n",
       "      <td>-0.194695</td>\n",
       "      <td>-0.059830</td>\n",
       "      <td>-0.476680</td>\n",
       "      <td>-0.383810</td>\n",
       "      <td>-1.031065</td>\n",
       "      <td>1.270817</td>\n",
       "      <td>-0.734321</td>\n",
       "      <td>-0.179434</td>\n",
       "      <td>0.572791</td>\n",
       "      <td>0.074996</td>\n",
       "      <td>-0.531834</td>\n",
       "      <td>0.192597</td>\n",
       "      <td>0.499916</td>\n",
       "      <td>-0.234167</td>\n",
       "      <td>-0.252476</td>\n",
       "      <td>0.488140</td>\n",
       "      <td>1.064423</td>\n",
       "      <td>-0.198697</td>\n",
       "      <td>0.269982</td>\n",
       "      <td>0.929994</td>\n",
       "      <td>-0.802413</td>\n",
       "      <td>-0.098597</td>\n",
       "      <td>-0.052527</td>\n",
       "      <td>1.193770</td>\n",
       "      <td>0.0</td>\n",
       "      <td>-1.044172</td>\n",
       "      <td>1.295597</td>\n",
       "      <td>0.32821</td>\n",
       "      <td>0.0</td>\n",
       "      <td>-0.801866</td>\n",
       "      <td>-0.131237</td>\n",
       "      <td>0.213902</td>\n",
       "      <td>2.568065</td>\n",
       "      <td>1.330762</td>\n",
       "      <td>-0.742791</td>\n",
       "      <td>0.291590</td>\n",
       "      <td>0.367405</td>\n",
       "      <td>0.279424</td>\n",
       "      <td>0.260883</td>\n",
       "      <td>0.246660</td>\n",
       "      <td>0.297827</td>\n",
       "      <td>-0.816385</td>\n",
       "      <td>...</td>\n",
       "      <td>-0.663573</td>\n",
       "      <td>-0.156174</td>\n",
       "      <td>-0.199007</td>\n",
       "      <td>0.444143</td>\n",
       "      <td>-0.081923</td>\n",
       "      <td>-0.427121</td>\n",
       "      <td>-0.030875</td>\n",
       "      <td>-0.043685</td>\n",
       "      <td>-0.116248</td>\n",
       "      <td>-0.201579</td>\n",
       "      <td>-0.417728</td>\n",
       "      <td>-0.442606</td>\n",
       "      <td>4.098367</td>\n",
       "      <td>-0.107521</td>\n",
       "      <td>-0.813260</td>\n",
       "      <td>-0.392232</td>\n",
       "      <td>-0.142857</td>\n",
       "      <td>-0.07581</td>\n",
       "      <td>-0.204124</td>\n",
       "      <td>-0.392232</td>\n",
       "      <td>-0.053529</td>\n",
       "      <td>-0.436436</td>\n",
       "      <td>3.713318</td>\n",
       "      <td>-0.111965</td>\n",
       "      <td>-0.810032</td>\n",
       "      <td>-0.379198</td>\n",
       "      <td>-0.182933</td>\n",
       "      <td>1.506993</td>\n",
       "      <td>-1.259447</td>\n",
       "      <td>-0.289122</td>\n",
       "      <td>1.267067</td>\n",
       "      <td>-1.003817</td>\n",
       "      <td>-0.092981</td>\n",
       "      <td>-0.030875</td>\n",
       "      <td>-0.030875</td>\n",
       "      <td>-0.081923</td>\n",
       "      <td>-0.043685</td>\n",
       "      <td>0.256885</td>\n",
       "      <td>0.750000</td>\n",
       "      <td>-0.107521</td>\n",
       "      <td>-0.267261</td>\n",
       "      <td>-0.053529</td>\n",
       "      <td>-0.617721</td>\n",
       "      <td>-0.061839</td>\n",
       "      <td>-0.102894</td>\n",
       "      <td>-0.053529</td>\n",
       "      <td>-0.030875</td>\n",
       "      <td>-0.291051</td>\n",
       "      <td>-0.030875</td>\n",
       "      <td>0.393847</td>\n",
       "    </tr>\n",
       "  </tbody>\n",
       "</table>\n",
       "<p>5 rows × 159 columns</p>\n",
       "</div>"
      ],
      "text/plain": [
       "         id       pid  ms_sub_class  lot_frontage  lot_area     alley  \\\n",
       "0  1.451107  1.039693      3.123763      0.118830  0.049138  3.741657   \n",
       "1  1.522631  1.054596      0.780104      0.202100  0.197900 -0.267261   \n",
       "2  1.160244 -0.946364      0.077006     -0.453658  2.326913 -0.267261   \n",
       "3  0.653618  1.039194     -0.626092     -0.349569 -0.128804 -0.267261   \n",
       "4 -0.972353 -0.909800     -0.860458      0.410278  0.151555 -0.267261   \n",
       "\n",
       "   lot_shape  utilities  land_slope  overall_qual  overall_cond  year_built  \\\n",
       "0   0.714373        0.0   -0.194695     -0.059830      2.367147   -2.177332   \n",
       "1  -1.179798        0.0   -0.194695     -0.781913     -1.424622    0.089950   \n",
       "2  -1.179798        0.0   -0.194695      0.662254     -0.476680    1.071311   \n",
       "3   0.714373        0.0   -0.194695     -0.781913      0.471263   -1.737412   \n",
       "4  -1.179798        0.0   -0.194695     -0.059830     -0.476680   -0.383810   \n",
       "\n",
       "   year_remod/add  mas_vnr_area  exter_qual  exter_cond  bsmt_qual  bsmt_cond  \\\n",
       "0       -1.642900     -0.620792   -0.734321   -3.077986  -1.867089   0.074996   \n",
       "1       -0.372166     -0.620792   -0.734321   -0.179434   0.572791   0.074996   \n",
       "2        0.992696     -0.620792    1.067167   -0.179434   0.572791   2.094118   \n",
       "3        0.992696     -0.620792    1.067167   -0.179434  -0.647149   0.074996   \n",
       "4       -1.031065      1.270817   -0.734321   -0.179434   0.572791   0.074996   \n",
       "\n",
       "   bsmt_exposure  bsmt_fin_type_1  bsmt_fin_sf_1  bsmt_fin_type_2  \\\n",
       "0      -0.531834        -1.195690      -0.996626        -0.234167   \n",
       "1      -0.531834        -1.195690      -0.996626        -0.234167   \n",
       "2       1.517434         1.118122       0.364760        -0.234167   \n",
       "3      -0.531834        -1.195690      -0.996626        -0.234167   \n",
       "4      -0.531834         0.192597       0.499916        -0.234167   \n",
       "\n",
       "   bsmt_fin_sf_2  bsmt_unf_sf  total_bsmt_sf  heating_qc  electrical  \\\n",
       "0      -0.252476     1.046344       0.041641   -0.198697   -7.256067   \n",
       "1      -0.252476     3.295789       2.631411   -1.247100    0.269982   \n",
       "2      -0.252476    -1.138966      -0.959263    0.849706    0.269982   \n",
       "3      -0.252476     0.922827      -0.100564   -1.247100    0.269982   \n",
       "4      -0.252476     0.488140       1.064423   -0.198697    0.269982   \n",
       "\n",
       "   1st_flr_sf  2nd_flr_sf  low_qual_fin_sf  gr_liv_area  bsmt_full_bath  \\\n",
       "0   -0.546706    1.720966        -0.098597     1.215541       -0.824681   \n",
       "1    2.671040   -0.802413        -0.098597     1.308153       -0.824681   \n",
       "2   -1.288094    1.255872        -0.098597     0.189688        1.193770   \n",
       "3   -0.364397   -0.802413        -0.098597    -1.064133       -0.824681   \n",
       "4    0.929994   -0.802413        -0.098597    -0.052527        1.193770   \n",
       "\n",
       "   bsmt_half_bath  full_bath  half_bath  bedroom_abv_gr  kitchen_abv_gr  \\\n",
       "0             0.0   0.852680  -0.771845         1.70120             1.0   \n",
       "1             0.0   0.852680  -0.771845         4.44718             1.0   \n",
       "2             0.0   0.852680   1.295597         0.32821             0.0   \n",
       "3             0.0  -1.044172  -0.771845        -1.04478             0.0   \n",
       "4             0.0  -1.044172   1.295597         0.32821             0.0   \n",
       "\n",
       "   kitchen_qual  tot_rms_abv_grd  functional  fireplaces  fireplace_qu  \\\n",
       "0     -2.363942         2.091319    0.213902   -0.884519     -0.904024   \n",
       "1     -0.801866         2.832171    0.213902   -0.884519     -0.904024   \n",
       "2      0.760210         0.609615    0.213902    0.841773      1.330762   \n",
       "3     -0.801866        -0.872088    0.213902   -0.884519     -0.904024   \n",
       "4     -0.801866        -0.131237    0.213902    2.568065      1.330762   \n",
       "\n",
       "   garage_yr_blt  garage_finish  garage_cars  garage_area  garage_qual  \\\n",
       "0      -2.874518      -0.842370    -1.030331    -0.095742    -2.716586   \n",
       "1      -0.179693       1.425549     0.367405     0.614032     0.260883   \n",
       "2       0.986724       0.291590     0.367405    -0.166720     0.260883   \n",
       "3      -1.868987      -0.842370     0.367405     0.107050    -1.227851   \n",
       "4      -0.742791       0.291590     0.367405     0.279424     0.260883   \n",
       "\n",
       "   garage_cond  paved_drive  wood_deck_sf  ...  house_style_2Story  \\\n",
       "0    -2.747477     0.297827     -0.816385  ...            1.506993   \n",
       "1     0.246660     0.297827      0.780214  ...           -0.663573   \n",
       "2     0.246660     0.297827      0.122791  ...            1.506993   \n",
       "3     0.246660    -3.586874     -0.816385  ...           -0.663573   \n",
       "4     0.246660     0.297827     -0.816385  ...           -0.663573   \n",
       "\n",
       "   house_style_SFoyer  house_style_SLvl  roof_style_Gable  roof_style_Gambrel  \\\n",
       "0           -0.156174         -0.199007          0.444143           -0.081923   \n",
       "1           -0.156174         -0.199007          0.444143           -0.081923   \n",
       "2           -0.156174         -0.199007          0.444143           -0.081923   \n",
       "3           -0.156174         -0.199007          0.444143           -0.081923   \n",
       "4           -0.156174         -0.199007          0.444143           -0.081923   \n",
       "\n",
       "   roof_style_Hip  roof_style_Mansard  roof_matl_Tar&Grv  \\\n",
       "0       -0.427121           -0.030875          -0.043685   \n",
       "1       -0.427121           -0.030875          -0.043685   \n",
       "2       -0.427121           -0.030875          -0.043685   \n",
       "3       -0.427121           -0.030875          -0.043685   \n",
       "4       -0.427121           -0.030875          -0.043685   \n",
       "\n",
       "   exterior_1st_BrkFace  exterior_1st_CemntBd  exterior_1st_HdBoard  \\\n",
       "0             -0.116248             -0.201579             -0.417728   \n",
       "1             -0.116248             -0.201579             -0.417728   \n",
       "2             -0.116248             -0.201579             -0.417728   \n",
       "3             -0.116248             -0.201579             -0.417728   \n",
       "4             -0.116248             -0.201579             -0.417728   \n",
       "\n",
       "   exterior_1st_MetalSd  exterior_1st_Plywood  exterior_1st_Stucco  \\\n",
       "0             -0.442606             -0.244000            -0.107521   \n",
       "1             -0.442606              4.098367            -0.107521   \n",
       "2             -0.442606             -0.244000            -0.107521   \n",
       "3             -0.442606             -0.244000            -0.107521   \n",
       "4             -0.442606              4.098367            -0.107521   \n",
       "\n",
       "   exterior_1st_VinylSd  exterior_1st_Wd Sdng  exterior_1st_WdShing  \\\n",
       "0             -0.813260             -0.392232             -0.142857   \n",
       "1             -0.813260             -0.392232             -0.142857   \n",
       "2              1.229619             -0.392232             -0.142857   \n",
       "3             -0.813260              2.549510             -0.142857   \n",
       "4             -0.813260             -0.392232             -0.142857   \n",
       "\n",
       "   exterior_2nd_BrkFace  exterior_2nd_CmentBd  exterior_2nd_HdBoard  \\\n",
       "0              -0.07581             -0.204124             -0.392232   \n",
       "1              -0.07581             -0.204124             -0.392232   \n",
       "2              -0.07581             -0.204124             -0.392232   \n",
       "3              -0.07581             -0.204124             -0.392232   \n",
       "4              -0.07581             -0.204124             -0.392232   \n",
       "\n",
       "   exterior_2nd_ImStucc  exterior_2nd_MetalSd  exterior_2nd_Plywood  \\\n",
       "0             -0.053529             -0.436436             -0.269301   \n",
       "1             -0.053529             -0.436436              3.713318   \n",
       "2             -0.053529             -0.436436             -0.269301   \n",
       "3             -0.053529             -0.436436             -0.269301   \n",
       "4             -0.053529             -0.436436              3.713318   \n",
       "\n",
       "   exterior_2nd_Stucco  exterior_2nd_VinylSd  exterior_2nd_Wd Sdng  \\\n",
       "0            -0.111965             -0.810032             -0.379198   \n",
       "1            -0.111965             -0.810032             -0.379198   \n",
       "2            -0.111965              1.234520             -0.379198   \n",
       "3            -0.111965             -0.810032              2.637147   \n",
       "4            -0.111965             -0.810032             -0.379198   \n",
       "\n",
       "   exterior_2nd_Wd Shng  mas_vnr_type_BrkFace  mas_vnr_type_None  \\\n",
       "0             -0.182933             -0.663573           0.793999   \n",
       "1             -0.182933             -0.663573           0.793999   \n",
       "2             -0.182933             -0.663573           0.793999   \n",
       "3             -0.182933             -0.663573           0.793999   \n",
       "4             -0.182933              1.506993          -1.259447   \n",
       "\n",
       "   mas_vnr_type_Stone  foundation_CBlock  foundation_PConc  foundation_Slab  \\\n",
       "0           -0.289122          -0.789224         -1.003817        -0.092981   \n",
       "1           -0.289122           1.267067         -1.003817        -0.092981   \n",
       "2           -0.289122          -0.789224          0.996198        -0.092981   \n",
       "3           -0.289122           1.267067         -1.003817        -0.092981   \n",
       "4           -0.289122           1.267067         -1.003817        -0.092981   \n",
       "\n",
       "   foundation_Stone  foundation_Wood  heating_GasW  heating_Grav  \\\n",
       "0         32.388269        -0.030875     -0.081923     -0.043685   \n",
       "1         -0.030875        -0.030875     -0.081923     -0.043685   \n",
       "2         -0.030875        -0.030875     -0.081923     -0.043685   \n",
       "3         -0.030875        -0.030875     -0.081923     -0.043685   \n",
       "4         -0.030875        -0.030875     -0.081923     -0.043685   \n",
       "\n",
       "   central_air_Y  garage_type_Attchd  garage_type_Basment  \\\n",
       "0      -3.892794           -1.333333            -0.107521   \n",
       "1       0.256885            0.750000            -0.107521   \n",
       "2       0.256885            0.750000            -0.107521   \n",
       "3       0.256885           -1.333333            -0.107521   \n",
       "4       0.256885            0.750000            -0.107521   \n",
       "\n",
       "   garage_type_BuiltIn  garage_type_CarPort  garage_type_Detchd  \\\n",
       "0            -0.267261            -0.053529            1.618854   \n",
       "1            -0.267261            -0.053529           -0.617721   \n",
       "2            -0.267261            -0.053529           -0.617721   \n",
       "3            -0.267261            -0.053529            1.618854   \n",
       "4            -0.267261            -0.053529           -0.617721   \n",
       "\n",
       "   sale_type_CWD  sale_type_ConLD  sale_type_ConLI  sale_type_ConLw  \\\n",
       "0      -0.061839        -0.102894        -0.053529        -0.030875   \n",
       "1      -0.061839        -0.102894        -0.053529        -0.030875   \n",
       "2      -0.061839        -0.102894        -0.053529        -0.030875   \n",
       "3      -0.061839        -0.102894        -0.053529        -0.030875   \n",
       "4      -0.061839        -0.102894        -0.053529        -0.030875   \n",
       "\n",
       "   sale_type_New  sale_type_Oth  sale_type_WD   \n",
       "0      -0.291051      -0.030875       0.393847  \n",
       "1      -0.291051      -0.030875       0.393847  \n",
       "2       3.435823      -0.030875      -2.539057  \n",
       "3      -0.291051      -0.030875       0.393847  \n",
       "4      -0.291051      -0.030875       0.393847  \n",
       "\n",
       "[5 rows x 159 columns]"
      ]
     },
     "execution_count": 175,
     "metadata": {},
     "output_type": "execute_result"
    }
   ],
   "source": [
    "test.head()"
   ]
  },
  {
   "cell_type": "code",
   "execution_count": 176,
   "id": "674370e4-e1fc-4233-b29c-a6b1d8c14e4f",
   "metadata": {},
   "outputs": [
    {
     "data": {
      "text/plain": [
       "(424, 159)"
      ]
     },
     "execution_count": 176,
     "metadata": {},
     "output_type": "execute_result"
    }
   ],
   "source": [
    "Z_test.shape"
   ]
  },
  {
   "cell_type": "code",
   "execution_count": 177,
   "id": "20b0d8b8-bcce-4ed7-8b9c-a6ad1529fb42",
   "metadata": {},
   "outputs": [
    {
     "data": {
      "text/plain": [
       "(878, 159)"
      ]
     },
     "execution_count": 177,
     "metadata": {},
     "output_type": "execute_result"
    }
   ],
   "source": [
    "test.shape"
   ]
  },
  {
   "cell_type": "code",
   "execution_count": 178,
   "id": "c959a0de-e678-4329-832b-35a8ea43a5b5",
   "metadata": {},
   "outputs": [
    {
     "data": {
      "text/plain": [
       "(1050, 159)"
      ]
     },
     "execution_count": 178,
     "metadata": {},
     "output_type": "execute_result"
    }
   ],
   "source": [
    "Z_train.shape"
   ]
  },
  {
   "cell_type": "code",
   "execution_count": 179,
   "id": "1e96c579-2b96-43e4-9121-8c59799a3d2f",
   "metadata": {},
   "outputs": [
    {
     "data": {
      "text/plain": [
       "(1050,)"
      ]
     },
     "execution_count": 179,
     "metadata": {},
     "output_type": "execute_result"
    }
   ],
   "source": [
    "y_train.shape"
   ]
  },
  {
   "cell_type": "code",
   "execution_count": 180,
   "id": "9b1351ae-e842-424b-b661-587f6c8838d7",
   "metadata": {},
   "outputs": [
    {
     "data": {
      "text/plain": [
       "(424,)"
      ]
     },
     "execution_count": 180,
     "metadata": {},
     "output_type": "execute_result"
    }
   ],
   "source": [
    "y_test.shape"
   ]
  },
  {
   "cell_type": "code",
   "execution_count": 181,
   "id": "545975b6-73f8-4dcb-8c0d-d8ef9a754449",
   "metadata": {},
   "outputs": [],
   "source": [
    "# test.to_csv('finalcsvproject/test.csv', index = False)\n"
   ]
  },
  {
   "cell_type": "code",
   "execution_count": 182,
   "id": "e3309e90-9f82-48c0-9023-df984a3463c8",
   "metadata": {},
   "outputs": [],
   "source": [
    "# Z_train.to_csv('finalcsvproject/Z_train.csv', index = False)\n"
   ]
  },
  {
   "cell_type": "code",
   "execution_count": 183,
   "id": "42d0382c-1ede-4cac-8d42-a94f776fe1bc",
   "metadata": {},
   "outputs": [],
   "source": [
    "# Z_test.to_csv('finalcsvproject/Z_test.csv', index = False)\n"
   ]
  },
  {
   "cell_type": "code",
   "execution_count": 184,
   "id": "f52aa083-ff91-485f-920c-fd3cbe96f73b",
   "metadata": {},
   "outputs": [],
   "source": [
    "# y_test.to_csv('finalcsvproject/y_test.csv', index = False)\n"
   ]
  },
  {
   "cell_type": "code",
   "execution_count": 185,
   "id": "696114c1-6111-4dbb-a4fb-c26d2ac90bb9",
   "metadata": {},
   "outputs": [],
   "source": [
    "# y_train.to_csv('finalcsvproject/y_train.csv', index = False)\n",
    "# "
   ]
  },
  {
   "cell_type": "code",
   "execution_count": null,
   "id": "ff23069b-3b14-45a5-9b9c-ce06d06c2b78",
   "metadata": {},
   "outputs": [],
   "source": []
  }
 ],
 "metadata": {
  "kernelspec": {
   "display_name": "Python [conda env:dsi]",
   "language": "python",
   "name": "conda-env-dsi-py"
  },
  "language_info": {
   "codemirror_mode": {
    "name": "ipython",
    "version": 3
   },
   "file_extension": ".py",
   "mimetype": "text/x-python",
   "name": "python",
   "nbconvert_exporter": "python",
   "pygments_lexer": "ipython3",
   "version": "3.9.7"
  }
 },
 "nbformat": 4,
 "nbformat_minor": 5
}
