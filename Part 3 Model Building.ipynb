{
 "cells": [
  {
   "cell_type": "code",
   "execution_count": 1,
   "id": "c2c45d01-99ed-4e99-b5d4-42a3322f39f6",
   "metadata": {},
   "outputs": [],
   "source": [
    "# imports\n",
    "\n",
    "import pandas as pd\n",
    "import matplotlib.pyplot as plt\n",
    "import seaborn as sns\n",
    "import numpy as np\n",
    "from scipy.stats import norm\n",
    "from sklearn.preprocessing import StandardScaler, PolynomialFeatures\n",
    "from sklearn.impute import KNNImputer, SimpleImputer\n",
    "from scipy import stats\n",
    "import os\n",
    "import re\n",
    "import warnings\n",
    "warnings.filterwarnings('ignore')\n",
    "%matplotlib inline\n",
    "from statsmodels.stats.outliers_influence import variance_inflation_factor\n",
    "from statsmodels.tools.tools import add_constant\n",
    "from sklearn.model_selection import train_test_split, cross_val_score, cross_val_predict, KFold, GridSearchCV\n",
    "from sklearn.linear_model import LinearRegression\n",
    "from sklearn.metrics import mean_squared_error\n",
    "from sklearn.linear_model import Ridge, RidgeCV, Lasso, LassoCV\n",
    "\n"
   ]
  },
  {
   "cell_type": "code",
   "execution_count": 2,
   "id": "aad3473b-2d3b-4e98-8f1a-929f11f2dd19",
   "metadata": {},
   "outputs": [],
   "source": [
    "X_train = pd.read_csv('datasets_f/Z_train.csv')\n",
    "X_test = pd.read_csv('datasets_f/Z_test.csv')\n",
    "y_train = pd.read_csv('datasets_f/y_train.csv')\n",
    "y_test =pd.read_csv('datasets_f/y_test.csv')\n",
    "# all have been standardscaled "
   ]
  },
  {
   "cell_type": "code",
   "execution_count": 3,
   "id": "fddb6161-67a1-4b90-af06-f0fd6c88b8bd",
   "metadata": {},
   "outputs": [],
   "source": [
    "test = pd.read_csv('datasets_f/test.csv')"
   ]
  },
  {
   "cell_type": "code",
   "execution_count": 4,
   "id": "12b833db-888a-4649-83b7-d2985e0e71a4",
   "metadata": {},
   "outputs": [],
   "source": [
    "continuous = ['lot_frontage', 'lot_area', 'mas_vnr_area','bsmt_fin_sf_1', 'bsmt_fin_sf_2', 'bsmt_unf_sf', 'total_bsmt_sf', '1st_flr_sf', '2nd_flr_sf', 'gr_liv_area', 'garage_area', 'wood_deck_sf', 'open_porch_sf', 'enclosed_porch','3ssn_porch', 'screen_porch', 'pool_area', 'misc_val']  \n",
    "discrete = ['year_built','year_remod/add', 'bsmt_full_bath', 'bsmt_half_bath', 'full_bath','half_bath','bedroom_abv_gr','kitchen_abv_gr','tot_rms_abv_grd','fireplaces','garage_yr_blt', 'garage_cars', 'mo_sold', 'yr_sold'] \n",
    "numerical = continuous+discrete "
   ]
  },
  {
   "cell_type": "code",
   "execution_count": 5,
   "id": "475b047c-995c-40f3-9355-25de6f0d2e55",
   "metadata": {},
   "outputs": [],
   "source": [
    "dummies = ['alley',\n",
    " 'bldg_type_2fmCon',\n",
    " 'bldg_type_Duplex',\n",
    " 'bldg_type_Twnhs',\n",
    " 'bldg_type_TwnhsE',\n",
    " 'bsmt_cond',\n",
    " 'bsmt_exposure',\n",
    " 'bsmt_fin_type_1',\n",
    " 'bsmt_fin_type_2',\n",
    " 'bsmt_qual',\n",
    " 'central_air_Y',\n",
    " 'condition_1_Feedr',\n",
    " 'condition_1_Norm',\n",
    " 'condition_1_PosA',\n",
    " 'condition_1_PosN',\n",
    " 'condition_1_RRAe',\n",
    " 'condition_1_RRAn',\n",
    " 'condition_2_Norm',\n",
    " 'electrical',\n",
    " 'exter_cond',\n",
    " 'exter_qual',\n",
    " 'exterior_1st_BrkFace',\n",
    " 'exterior_1st_CemntBd',\n",
    " 'exterior_1st_HdBoard',\n",
    " 'exterior_1st_MetalSd',\n",
    " 'exterior_1st_Plywood',\n",
    " 'exterior_1st_Stucco',\n",
    " 'exterior_1st_VinylSd',\n",
    " 'exterior_1st_Wd Sdng',\n",
    " 'exterior_1st_WdShing',\n",
    " 'exterior_2nd_BrkFace',\n",
    " 'exterior_2nd_CmentBd',\n",
    " 'exterior_2nd_HdBoard',\n",
    " 'exterior_2nd_ImStucc',\n",
    " 'exterior_2nd_MetalSd',\n",
    " 'exterior_2nd_Plywood',\n",
    " 'exterior_2nd_Stucco',\n",
    " 'exterior_2nd_VinylSd',\n",
    " 'exterior_2nd_Wd Sdng',\n",
    " 'exterior_2nd_Wd Shng',\n",
    " 'fence',\n",
    " 'fireplace_qu',\n",
    " 'foundation_CBlock',\n",
    " 'foundation_PConc',\n",
    " 'foundation_Slab',\n",
    " 'foundation_Stone',\n",
    " 'foundation_Wood',\n",
    " 'functional',\n",
    " 'garage_cond',\n",
    " 'garage_finish',\n",
    " 'garage_qual',\n",
    " 'garage_type_Attchd',\n",
    " 'garage_type_Basment',\n",
    " 'garage_type_BuiltIn',\n",
    " 'garage_type_CarPort',\n",
    " 'garage_type_Detchd',\n",
    " 'heating_GasW',\n",
    " 'heating_Grav',\n",
    " 'heating_qc',\n",
    " 'house_style_1.5Unf',\n",
    " 'house_style_1Story',\n",
    " 'house_style_2.5Unf',\n",
    " 'house_style_2Story',\n",
    " 'house_style_SFoyer',\n",
    " 'house_style_SLvl',\n",
    " 'id',\n",
    " 'kitchen_qual',\n",
    " 'land_contour_HLS',\n",
    " 'land_contour_Low',\n",
    " 'land_contour_Lvl',\n",
    " 'land_slope',\n",
    " 'lot_config_CulDSac',\n",
    " 'lot_config_FR2',\n",
    " 'lot_config_FR3',\n",
    " 'lot_config_Inside',\n",
    " 'lot_shape',\n",
    " 'low_qual_fin_sf',\n",
    " 'mas_vnr_type_BrkFace',\n",
    " 'mas_vnr_type_None',\n",
    " 'mas_vnr_type_Stone',\n",
    " 'ms_sub_class',\n",
    " 'ms_zoning_FV',\n",
    " 'ms_zoning_RH',\n",
    " 'ms_zoning_RL',\n",
    " 'ms_zoning_RM',\n",
    " 'neighborhood_Blueste',\n",
    " 'neighborhood_BrDale',\n",
    " 'neighborhood_BrkSide',\n",
    " 'neighborhood_ClearCr',\n",
    " 'neighborhood_CollgCr',\n",
    " 'neighborhood_Crawfor',\n",
    " 'neighborhood_Edwards',\n",
    " 'neighborhood_Gilbert',\n",
    " 'neighborhood_Greens',\n",
    " 'neighborhood_IDOTRR',\n",
    " 'neighborhood_MeadowV',\n",
    " 'neighborhood_Mitchel',\n",
    " 'neighborhood_NAmes',\n",
    " 'neighborhood_NWAmes',\n",
    " 'neighborhood_NoRidge',\n",
    " 'neighborhood_NridgHt',\n",
    " 'neighborhood_OldTown',\n",
    " 'neighborhood_SWISU',\n",
    " 'neighborhood_Sawyer',\n",
    " 'neighborhood_SawyerW',\n",
    " 'neighborhood_Somerst',\n",
    " 'neighborhood_StoneBr',\n",
    " 'neighborhood_Timber',\n",
    " 'neighborhood_Veenker',\n",
    " 'overall_cond',\n",
    " 'overall_qual',\n",
    " 'paved_drive',\n",
    " 'pid',\n",
    " 'roof_matl_Tar&Grv',\n",
    " 'roof_style_Gable',\n",
    " 'roof_style_Gambrel',\n",
    " 'roof_style_Hip',\n",
    " 'roof_style_Mansard',\n",
    " 'sale_type_CWD',\n",
    " 'sale_type_ConLD',\n",
    " 'sale_type_ConLI',\n",
    " 'sale_type_ConLw',\n",
    " 'sale_type_New',\n",
    " 'sale_type_Oth',\n",
    " 'sale_type_WD ',\n",
    " 'street_Pave',\n",
    " 'utilities']\n",
    "categorical = dummies "
   ]
  },
  {
   "cell_type": "code",
   "execution_count": 6,
   "id": "055b3db8-6ff7-4f97-a759-4ac9130eac5e",
   "metadata": {},
   "outputs": [],
   "source": [
    "high_num =['gr_liv_area','year_built','garage_area','total_bsmt_sf','full_bath']"
   ]
  },
  {
   "cell_type": "code",
   "execution_count": 7,
   "id": "937a65a5-0cfc-46f2-bf38-de49e60db0f9",
   "metadata": {},
   "outputs": [],
   "source": [
    "high_cat = ['overall_qual','exter_qual','bsmt_qual', 'foundation_PConc']"
   ]
  },
  {
   "cell_type": "markdown",
   "id": "e3534b42-3c0d-4ae5-983b-d4da23158db8",
   "metadata": {},
   "source": [
    "# Linear Regression"
   ]
  },
  {
   "cell_type": "code",
   "execution_count": 8,
   "id": "5d8c873d-77e7-4222-ba1f-cef357130051",
   "metadata": {},
   "outputs": [],
   "source": [
    "lr=LinearRegression()\n",
    "# instantiating our first linear regression"
   ]
  },
  {
   "cell_type": "code",
   "execution_count": 9,
   "id": "d3c2c91c-edb7-4add-a14c-3a9539bab128",
   "metadata": {},
   "outputs": [
    {
     "data": {
      "text/plain": [
       "LinearRegression()"
      ]
     },
     "execution_count": 9,
     "metadata": {},
     "output_type": "execute_result"
    }
   ],
   "source": [
    "lr.fit(X_train,y_train)\n",
    "# fitting to all training data"
   ]
  },
  {
   "cell_type": "code",
   "execution_count": 10,
   "id": "671c9292-dd19-4e93-b39b-810302782c27",
   "metadata": {},
   "outputs": [
    {
     "data": {
      "text/plain": [
       "0.9403631212790503"
      ]
     },
     "execution_count": 10,
     "metadata": {},
     "output_type": "execute_result"
    }
   ],
   "source": [
    "lr.score(X_train,y_train)"
   ]
  },
  {
   "cell_type": "code",
   "execution_count": 11,
   "id": "d1cbb4c0-7779-458e-872f-6fd9383fd18b",
   "metadata": {},
   "outputs": [
    {
     "data": {
      "text/plain": [
       "-2.978463888076195e+17"
      ]
     },
     "execution_count": 11,
     "metadata": {},
     "output_type": "execute_result"
    }
   ],
   "source": [
    "lr.score(X_test,y_test)\n",
    "# terrible accuracy score, so will be more specific"
   ]
  },
  {
   "cell_type": "code",
   "execution_count": 12,
   "id": "ab404dfe-cd51-4dab-ae9d-089e0199bc60",
   "metadata": {},
   "outputs": [
    {
     "name": "stdout",
     "output_type": "stream",
     "text": [
      "train: 16102.68442138679\n",
      "test: 36891486831953.99\n"
     ]
    }
   ],
   "source": [
    "# Training RMSE\n",
    "print('train:', mean_squared_error(y_train, lr.predict(X_train), squared=False))\n",
    "# Testing RMSE\n",
    "print('test:', mean_squared_error(y_test, lr.predict(X_test), squared=False))"
   ]
  },
  {
   "cell_type": "code",
   "execution_count": 13,
   "id": "797459e1-872a-4db2-a82f-2450afaf9480",
   "metadata": {},
   "outputs": [
    {
     "data": {
      "text/plain": [
       "-1.5983517286723508e+19"
      ]
     },
     "execution_count": 13,
     "metadata": {},
     "output_type": "execute_result"
    }
   ],
   "source": [
    "cross_val_score(lr, X_train, y_train, cv=5).mean()\n",
    "# baseline score"
   ]
  },
  {
   "cell_type": "code",
   "execution_count": 14,
   "id": "894f9bba-4dcd-404d-995b-d28b922879e4",
   "metadata": {},
   "outputs": [
    {
     "data": {
      "text/plain": [
       "-4.0810425305600235e+23"
      ]
     },
     "execution_count": 14,
     "metadata": {},
     "output_type": "execute_result"
    }
   ],
   "source": [
    "cross_val_score(lr, X_test, y_test, cv=5).mean()"
   ]
  },
  {
   "cell_type": "code",
   "execution_count": 15,
   "id": "d1df628c-eadd-4a68-939f-412eabd75709",
   "metadata": {},
   "outputs": [],
   "source": [
    "# lr.predict(test)\n",
    "# terrible"
   ]
  },
  {
   "cell_type": "code",
   "execution_count": 16,
   "id": "e7751b17-6eaf-4f9f-9b1b-73468fb72d6b",
   "metadata": {},
   "outputs": [],
   "source": [
    "X_train_numerical= pd.read_csv('datasets_f/numZ_train.csv')\n",
    "X_test_numerical = pd.read_csv('datasets_f/numZ_test.csv')\n",
    "test_numerical = pd.read_csv('datasets_f/kagtest.csv')\n"
   ]
  },
  {
   "cell_type": "code",
   "execution_count": 17,
   "id": "8cecee76-0b82-4ee0-9112-bdbe2dbd3da4",
   "metadata": {},
   "outputs": [],
   "source": [
    "lr2=LinearRegression()"
   ]
  },
  {
   "cell_type": "code",
   "execution_count": 18,
   "id": "4eb3ac4d-d838-4ee8-8ed6-0d70d0493829",
   "metadata": {},
   "outputs": [
    {
     "data": {
      "text/plain": [
       "LinearRegression()"
      ]
     },
     "execution_count": 18,
     "metadata": {},
     "output_type": "execute_result"
    }
   ],
   "source": [
    "lr2.fit(X_train_numerical,y_train)\n",
    "# instantiating and fitting our second linear regression model using just the numerical columns"
   ]
  },
  {
   "cell_type": "code",
   "execution_count": 19,
   "id": "433f2435-e843-4ee6-a33c-053d05bda154",
   "metadata": {},
   "outputs": [
    {
     "data": {
      "text/plain": [
       "0.8566504070476163"
      ]
     },
     "execution_count": 19,
     "metadata": {},
     "output_type": "execute_result"
    }
   ],
   "source": [
    "lr2.score(X_train_numerical,y_train)"
   ]
  },
  {
   "cell_type": "code",
   "execution_count": 20,
   "id": "2545c909-518d-48a3-836f-c79465c3c71b",
   "metadata": {},
   "outputs": [
    {
     "data": {
      "text/plain": [
       "0.8539369315520096"
      ]
     },
     "execution_count": 20,
     "metadata": {},
     "output_type": "execute_result"
    }
   ],
   "source": [
    "lr2.score(X_test_numerical,y_test)\n",
    "# better accuracy score!!"
   ]
  },
  {
   "cell_type": "code",
   "execution_count": 21,
   "id": "ad329981-29fb-4f2d-bf35-aae1436dc141",
   "metadata": {},
   "outputs": [
    {
     "name": "stdout",
     "output_type": "stream",
     "text": [
      "train: 24965.430604585228\n",
      "test: 25834.50825301229\n"
     ]
    }
   ],
   "source": [
    "# Training RMSE\n",
    "print('train:', mean_squared_error(y_train, lr2.predict(X_train_numerical), squared=False))\n",
    "# Testing RMSE\n",
    "print('test:', mean_squared_error(y_test, lr2.predict(X_test_numerical), squared=False))"
   ]
  },
  {
   "cell_type": "code",
   "execution_count": 22,
   "id": "49117778-cf21-4a8b-b0c3-8fb0610980eb",
   "metadata": {},
   "outputs": [
    {
     "data": {
      "text/plain": [
       "0.8463881947089883"
      ]
     },
     "execution_count": 22,
     "metadata": {},
     "output_type": "execute_result"
    }
   ],
   "source": [
    "cross_val_score(lr2, X_train_numerical, y_train, cv=5).mean()"
   ]
  },
  {
   "cell_type": "code",
   "execution_count": 23,
   "id": "b8eaca38-7cf5-4ffa-a02b-79da79a27e66",
   "metadata": {},
   "outputs": [
    {
     "data": {
      "text/plain": [
       "0.847537149618077"
      ]
     },
     "execution_count": 23,
     "metadata": {},
     "output_type": "execute_result"
    }
   ],
   "source": [
    "cross_val_score(lr2, X_test_numerical, y_test, cv=5).mean()\n",
    "# cross val scores are also good but not good enough...lets try again!"
   ]
  },
  {
   "cell_type": "code",
   "execution_count": 24,
   "id": "adf14bdc-b70b-4a2d-9157-a007e3040acd",
   "metadata": {},
   "outputs": [],
   "source": [
    "# lr2.predict(test_numerical)"
   ]
  },
  {
   "cell_type": "code",
   "execution_count": 25,
   "id": "203ba25a-2487-4327-aa87-583b6b2b0f6a",
   "metadata": {},
   "outputs": [],
   "source": [
    "X_trains = X_train[high_num].copy()"
   ]
  },
  {
   "cell_type": "code",
   "execution_count": 26,
   "id": "0c132211-12ac-44b2-94b4-87da791bc506",
   "metadata": {},
   "outputs": [],
   "source": [
    "X_tests=X_test[high_num].copy()"
   ]
  },
  {
   "cell_type": "code",
   "execution_count": 27,
   "id": "01a08afc-47e7-4065-9ea8-7829041e1f51",
   "metadata": {},
   "outputs": [],
   "source": [
    "lr3=LinearRegression()"
   ]
  },
  {
   "cell_type": "code",
   "execution_count": 28,
   "id": "9038cf07-f7e3-423a-9028-a469b6f1ac42",
   "metadata": {},
   "outputs": [
    {
     "data": {
      "text/plain": [
       "LinearRegression()"
      ]
     },
     "execution_count": 28,
     "metadata": {},
     "output_type": "execute_result"
    }
   ],
   "source": [
    "lr3.fit(X_trains,y_train)\n",
    "# instantiating and fitting our third linear regression, but this time we only use the most highly correlated features from the numerical features"
   ]
  },
  {
   "cell_type": "code",
   "execution_count": 29,
   "id": "9cbc8e93-3b1c-43d9-9c4c-b6f812d8c2bb",
   "metadata": {},
   "outputs": [
    {
     "data": {
      "text/plain": [
       "0.7961889686329996"
      ]
     },
     "execution_count": 29,
     "metadata": {},
     "output_type": "execute_result"
    }
   ],
   "source": [
    "lr3.score(X_trains,y_train)"
   ]
  },
  {
   "cell_type": "code",
   "execution_count": 30,
   "id": "6817537d-5952-402b-b648-50776126960c",
   "metadata": {},
   "outputs": [
    {
     "data": {
      "text/plain": [
       "0.8113119405454938"
      ]
     },
     "execution_count": 30,
     "metadata": {},
     "output_type": "execute_result"
    }
   ],
   "source": [
    "lr3.score(X_tests,y_test)\n",
    "#accuracy increased between train and test, meaning that we created a good model but we want a higher accuracy! we will still use this linear regression in our models though"
   ]
  },
  {
   "cell_type": "code",
   "execution_count": 31,
   "id": "862c8a19-1b21-4672-bede-ca00c05c7b57",
   "metadata": {},
   "outputs": [],
   "source": [
    "# lr3.predict(test[high_num])"
   ]
  },
  {
   "cell_type": "code",
   "execution_count": 32,
   "id": "fd3940ad-ec79-4c9d-bca6-5070a3e7858b",
   "metadata": {},
   "outputs": [
    {
     "name": "stdout",
     "output_type": "stream",
     "text": [
      "train: 29768.3437793991\n",
      "test: 29363.119895962616\n"
     ]
    }
   ],
   "source": [
    "# Training RMSE\n",
    "print('train:', mean_squared_error(y_train, lr3.predict(X_trains), squared=False))\n",
    "# Testing RMSE\n",
    "print('test:', mean_squared_error(y_test, lr3.predict(X_tests), squared=False))"
   ]
  },
  {
   "cell_type": "code",
   "execution_count": 33,
   "id": "8e72418d-5e3e-4860-9ed3-6e7307daec40",
   "metadata": {},
   "outputs": [
    {
     "data": {
      "text/plain": [
       "0.7913313635750076"
      ]
     },
     "execution_count": 33,
     "metadata": {},
     "output_type": "execute_result"
    }
   ],
   "source": [
    "cross_val_score(lr3, X_trains, y_train, cv=5).mean()"
   ]
  },
  {
   "cell_type": "code",
   "execution_count": 34,
   "id": "39fea81c-47b2-465b-8c58-ff580d11ca85",
   "metadata": {},
   "outputs": [
    {
     "data": {
      "text/plain": [
       "0.8050804658688019"
      ]
     },
     "execution_count": 34,
     "metadata": {},
     "output_type": "execute_result"
    }
   ],
   "source": [
    "cross_val_score(lr3, X_tests, y_test, cv=5).mean()\n",
    "# our cross val score also had a marked increase between training and testing sets!! however it is not high enough"
   ]
  },
  {
   "cell_type": "code",
   "execution_count": null,
   "id": "dd3b779e-4aa3-4b16-9c96-86579dccca15",
   "metadata": {},
   "outputs": [],
   "source": []
  },
  {
   "cell_type": "code",
   "execution_count": 35,
   "id": "ddcad683-d531-47fb-83f2-8be84ed8e606",
   "metadata": {},
   "outputs": [
    {
     "data": {
      "text/html": [
       "<div>\n",
       "<style scoped>\n",
       "    .dataframe tbody tr th:only-of-type {\n",
       "        vertical-align: middle;\n",
       "    }\n",
       "\n",
       "    .dataframe tbody tr th {\n",
       "        vertical-align: top;\n",
       "    }\n",
       "\n",
       "    .dataframe thead th {\n",
       "        text-align: right;\n",
       "    }\n",
       "</style>\n",
       "<table border=\"1\" class=\"dataframe\">\n",
       "  <thead>\n",
       "    <tr style=\"text-align: right;\">\n",
       "      <th></th>\n",
       "      <th>gr_liv_area</th>\n",
       "      <th>year_built</th>\n",
       "      <th>garage_area</th>\n",
       "      <th>total_bsmt_sf</th>\n",
       "      <th>full_bath</th>\n",
       "    </tr>\n",
       "  </thead>\n",
       "  <tbody>\n",
       "    <tr>\n",
       "      <th>0</th>\n",
       "      <td>-0.176010</td>\n",
       "      <td>0.969791</td>\n",
       "      <td>-0.334023</td>\n",
       "      <td>-0.838936</td>\n",
       "      <td>0.852680</td>\n",
       "    </tr>\n",
       "    <tr>\n",
       "      <th>1</th>\n",
       "      <td>-0.332737</td>\n",
       "      <td>-0.553011</td>\n",
       "      <td>-0.552025</td>\n",
       "      <td>0.741727</td>\n",
       "      <td>-1.044172</td>\n",
       "    </tr>\n",
       "    <tr>\n",
       "      <th>2</th>\n",
       "      <td>-0.477592</td>\n",
       "      <td>-1.162131</td>\n",
       "      <td>1.323805</td>\n",
       "      <td>-0.778772</td>\n",
       "      <td>-1.044172</td>\n",
       "    </tr>\n",
       "    <tr>\n",
       "      <th>3</th>\n",
       "      <td>0.982824</td>\n",
       "      <td>1.071311</td>\n",
       "      <td>2.028509</td>\n",
       "      <td>0.812829</td>\n",
       "      <td>0.852680</td>\n",
       "    </tr>\n",
       "    <tr>\n",
       "      <th>4</th>\n",
       "      <td>1.011320</td>\n",
       "      <td>0.868271</td>\n",
       "      <td>0.137469</td>\n",
       "      <td>-0.054074</td>\n",
       "      <td>0.852680</td>\n",
       "    </tr>\n",
       "  </tbody>\n",
       "</table>\n",
       "</div>"
      ],
      "text/plain": [
       "   gr_liv_area  year_built  garage_area  total_bsmt_sf  full_bath\n",
       "0    -0.176010    0.969791    -0.334023      -0.838936   0.852680\n",
       "1    -0.332737   -0.553011    -0.552025       0.741727  -1.044172\n",
       "2    -0.477592   -1.162131     1.323805      -0.778772  -1.044172\n",
       "3     0.982824    1.071311     2.028509       0.812829   0.852680\n",
       "4     1.011320    0.868271     0.137469      -0.054074   0.852680"
      ]
     },
     "execution_count": 35,
     "metadata": {},
     "output_type": "execute_result"
    }
   ],
   "source": [
    "X = X_train[high_num]\n",
    "X.head()"
   ]
  },
  {
   "cell_type": "markdown",
   "id": "6222ed1d-855d-4dc3-86a6-1e6b55ba1edb",
   "metadata": {},
   "source": [
    "# Polynomial Features"
   ]
  },
  {
   "cell_type": "code",
   "execution_count": 36,
   "id": "ca99272d-649e-4d73-923f-a4d85d35f223",
   "metadata": {},
   "outputs": [
    {
     "data": {
      "text/plain": [
       "PolynomialFeatures(include_bias=False)"
      ]
     },
     "execution_count": 36,
     "metadata": {},
     "output_type": "execute_result"
    }
   ],
   "source": [
    "# Instantiate PolynomialFeatures\n",
    "poly = PolynomialFeatures(include_bias=False)\n",
    "poly"
   ]
  },
  {
   "cell_type": "code",
   "execution_count": 37,
   "id": "dea23e06-560d-49bf-9258-486a13e747f1",
   "metadata": {},
   "outputs": [
    {
     "data": {
      "text/plain": [
       "array([[-0.17600978,  0.96979085, -0.33402339, ...,  0.70381285,\n",
       "        -0.7153439 ,  0.72706386],\n",
       "       [-0.33273733, -0.55301057, -0.55202532, ...,  0.5501586 ,\n",
       "        -0.77449046,  1.09029555],\n",
       "       [-0.47759158, -1.16213114,  1.32380529, ...,  0.60648572,\n",
       "         0.81317198,  1.09029555],\n",
       "       ...,\n",
       "       [-0.52271011, -0.62069064, -0.82072538, ...,  0.27347668,\n",
       "        -0.54604982,  1.09029555],\n",
       "       [-1.01901401, -0.14693019, -0.9069122 , ...,  2.0360384 ,\n",
       "         1.48992738,  1.09029555],\n",
       "       [ 0.25855296,  0.86827075,  0.41630886, ...,  2.02398859,\n",
       "         1.21308242,  0.72706386]])"
      ]
     },
     "execution_count": 37,
     "metadata": {},
     "output_type": "execute_result"
    }
   ],
   "source": [
    "# Create X_poly\n",
    "# poly.fit(X)\n",
    "# X_poly = poly.transform(X)\n",
    "X_poly = poly.fit_transform(X)\n",
    "\n",
    "X_poly"
   ]
  },
  {
   "cell_type": "code",
   "execution_count": 38,
   "id": "82fa8c78-081e-4a98-9ac8-fcfb8edbcfb2",
   "metadata": {},
   "outputs": [
    {
     "data": {
      "text/plain": [
       "['gr_liv_area',\n",
       " 'year_built',\n",
       " 'garage_area',\n",
       " 'total_bsmt_sf',\n",
       " 'full_bath',\n",
       " 'gr_liv_area^2',\n",
       " 'gr_liv_area year_built',\n",
       " 'gr_liv_area garage_area',\n",
       " 'gr_liv_area total_bsmt_sf',\n",
       " 'gr_liv_area full_bath',\n",
       " 'year_built^2',\n",
       " 'year_built garage_area',\n",
       " 'year_built total_bsmt_sf',\n",
       " 'year_built full_bath',\n",
       " 'garage_area^2',\n",
       " 'garage_area total_bsmt_sf',\n",
       " 'garage_area full_bath',\n",
       " 'total_bsmt_sf^2',\n",
       " 'total_bsmt_sf full_bath',\n",
       " 'full_bath^2']"
      ]
     },
     "execution_count": 38,
     "metadata": {},
     "output_type": "execute_result"
    }
   ],
   "source": [
    "# Get the feature names\n",
    "poly.get_feature_names(high_num)"
   ]
  },
  {
   "cell_type": "code",
   "execution_count": 39,
   "id": "6ffd8e71-36f2-4530-ba5a-7d2713f3ee66",
   "metadata": {},
   "outputs": [
    {
     "data": {
      "text/html": [
       "<div>\n",
       "<style scoped>\n",
       "    .dataframe tbody tr th:only-of-type {\n",
       "        vertical-align: middle;\n",
       "    }\n",
       "\n",
       "    .dataframe tbody tr th {\n",
       "        vertical-align: top;\n",
       "    }\n",
       "\n",
       "    .dataframe thead th {\n",
       "        text-align: right;\n",
       "    }\n",
       "</style>\n",
       "<table border=\"1\" class=\"dataframe\">\n",
       "  <thead>\n",
       "    <tr style=\"text-align: right;\">\n",
       "      <th></th>\n",
       "      <th>gr_liv_area</th>\n",
       "      <th>year_built</th>\n",
       "      <th>garage_area</th>\n",
       "      <th>total_bsmt_sf</th>\n",
       "      <th>full_bath</th>\n",
       "      <th>gr_liv_area^2</th>\n",
       "      <th>gr_liv_area year_built</th>\n",
       "      <th>gr_liv_area garage_area</th>\n",
       "      <th>gr_liv_area total_bsmt_sf</th>\n",
       "      <th>gr_liv_area full_bath</th>\n",
       "      <th>year_built^2</th>\n",
       "      <th>year_built garage_area</th>\n",
       "      <th>year_built total_bsmt_sf</th>\n",
       "      <th>year_built full_bath</th>\n",
       "      <th>garage_area^2</th>\n",
       "      <th>garage_area total_bsmt_sf</th>\n",
       "      <th>garage_area full_bath</th>\n",
       "      <th>total_bsmt_sf^2</th>\n",
       "      <th>total_bsmt_sf full_bath</th>\n",
       "      <th>full_bath^2</th>\n",
       "    </tr>\n",
       "  </thead>\n",
       "  <tbody>\n",
       "    <tr>\n",
       "      <th>0</th>\n",
       "      <td>-0.176010</td>\n",
       "      <td>0.969791</td>\n",
       "      <td>-0.334023</td>\n",
       "      <td>-0.838936</td>\n",
       "      <td>0.852680</td>\n",
       "      <td>0.030979</td>\n",
       "      <td>-0.170693</td>\n",
       "      <td>0.058791</td>\n",
       "      <td>0.147661</td>\n",
       "      <td>-0.150080</td>\n",
       "      <td>0.940494</td>\n",
       "      <td>-0.323933</td>\n",
       "      <td>-0.813592</td>\n",
       "      <td>0.826922</td>\n",
       "      <td>0.111572</td>\n",
       "      <td>0.280224</td>\n",
       "      <td>-0.284815</td>\n",
       "      <td>0.703813</td>\n",
       "      <td>-0.715344</td>\n",
       "      <td>0.727064</td>\n",
       "    </tr>\n",
       "    <tr>\n",
       "      <th>1</th>\n",
       "      <td>-0.332737</td>\n",
       "      <td>-0.553011</td>\n",
       "      <td>-0.552025</td>\n",
       "      <td>0.741727</td>\n",
       "      <td>-1.044172</td>\n",
       "      <td>0.110714</td>\n",
       "      <td>0.184007</td>\n",
       "      <td>0.183679</td>\n",
       "      <td>-0.246800</td>\n",
       "      <td>0.347435</td>\n",
       "      <td>0.305821</td>\n",
       "      <td>0.305276</td>\n",
       "      <td>-0.410183</td>\n",
       "      <td>0.577438</td>\n",
       "      <td>0.304732</td>\n",
       "      <td>-0.409452</td>\n",
       "      <td>0.576409</td>\n",
       "      <td>0.550159</td>\n",
       "      <td>-0.774490</td>\n",
       "      <td>1.090296</td>\n",
       "    </tr>\n",
       "    <tr>\n",
       "      <th>2</th>\n",
       "      <td>-0.477592</td>\n",
       "      <td>-1.162131</td>\n",
       "      <td>1.323805</td>\n",
       "      <td>-0.778772</td>\n",
       "      <td>-1.044172</td>\n",
       "      <td>0.228094</td>\n",
       "      <td>0.555024</td>\n",
       "      <td>-0.632238</td>\n",
       "      <td>0.371935</td>\n",
       "      <td>0.498688</td>\n",
       "      <td>1.350549</td>\n",
       "      <td>-1.538435</td>\n",
       "      <td>0.905035</td>\n",
       "      <td>1.213465</td>\n",
       "      <td>1.752460</td>\n",
       "      <td>-1.030942</td>\n",
       "      <td>-1.382281</td>\n",
       "      <td>0.606486</td>\n",
       "      <td>0.813172</td>\n",
       "      <td>1.090296</td>\n",
       "    </tr>\n",
       "    <tr>\n",
       "      <th>3</th>\n",
       "      <td>0.982824</td>\n",
       "      <td>1.071311</td>\n",
       "      <td>2.028509</td>\n",
       "      <td>0.812829</td>\n",
       "      <td>0.852680</td>\n",
       "      <td>0.965943</td>\n",
       "      <td>1.052910</td>\n",
       "      <td>1.993668</td>\n",
       "      <td>0.798868</td>\n",
       "      <td>0.838035</td>\n",
       "      <td>1.147707</td>\n",
       "      <td>2.173164</td>\n",
       "      <td>0.870793</td>\n",
       "      <td>0.913486</td>\n",
       "      <td>4.114850</td>\n",
       "      <td>1.648832</td>\n",
       "      <td>1.729670</td>\n",
       "      <td>0.660691</td>\n",
       "      <td>0.693084</td>\n",
       "      <td>0.727064</td>\n",
       "    </tr>\n",
       "    <tr>\n",
       "      <th>4</th>\n",
       "      <td>1.011320</td>\n",
       "      <td>0.868271</td>\n",
       "      <td>0.137469</td>\n",
       "      <td>-0.054074</td>\n",
       "      <td>0.852680</td>\n",
       "      <td>1.022768</td>\n",
       "      <td>0.878100</td>\n",
       "      <td>0.139025</td>\n",
       "      <td>-0.054686</td>\n",
       "      <td>0.862333</td>\n",
       "      <td>0.753894</td>\n",
       "      <td>0.119360</td>\n",
       "      <td>-0.046951</td>\n",
       "      <td>0.740357</td>\n",
       "      <td>0.018898</td>\n",
       "      <td>-0.007433</td>\n",
       "      <td>0.117217</td>\n",
       "      <td>0.002924</td>\n",
       "      <td>-0.046108</td>\n",
       "      <td>0.727064</td>\n",
       "    </tr>\n",
       "  </tbody>\n",
       "</table>\n",
       "</div>"
      ],
      "text/plain": [
       "   gr_liv_area  year_built  garage_area  total_bsmt_sf  full_bath  \\\n",
       "0    -0.176010    0.969791    -0.334023      -0.838936   0.852680   \n",
       "1    -0.332737   -0.553011    -0.552025       0.741727  -1.044172   \n",
       "2    -0.477592   -1.162131     1.323805      -0.778772  -1.044172   \n",
       "3     0.982824    1.071311     2.028509       0.812829   0.852680   \n",
       "4     1.011320    0.868271     0.137469      -0.054074   0.852680   \n",
       "\n",
       "   gr_liv_area^2  gr_liv_area year_built  gr_liv_area garage_area  \\\n",
       "0       0.030979               -0.170693                 0.058791   \n",
       "1       0.110714                0.184007                 0.183679   \n",
       "2       0.228094                0.555024                -0.632238   \n",
       "3       0.965943                1.052910                 1.993668   \n",
       "4       1.022768                0.878100                 0.139025   \n",
       "\n",
       "   gr_liv_area total_bsmt_sf  gr_liv_area full_bath  year_built^2  \\\n",
       "0                   0.147661              -0.150080      0.940494   \n",
       "1                  -0.246800               0.347435      0.305821   \n",
       "2                   0.371935               0.498688      1.350549   \n",
       "3                   0.798868               0.838035      1.147707   \n",
       "4                  -0.054686               0.862333      0.753894   \n",
       "\n",
       "   year_built garage_area  year_built total_bsmt_sf  year_built full_bath  \\\n",
       "0               -0.323933                 -0.813592              0.826922   \n",
       "1                0.305276                 -0.410183              0.577438   \n",
       "2               -1.538435                  0.905035              1.213465   \n",
       "3                2.173164                  0.870793              0.913486   \n",
       "4                0.119360                 -0.046951              0.740357   \n",
       "\n",
       "   garage_area^2  garage_area total_bsmt_sf  garage_area full_bath  \\\n",
       "0       0.111572                   0.280224              -0.284815   \n",
       "1       0.304732                  -0.409452               0.576409   \n",
       "2       1.752460                  -1.030942              -1.382281   \n",
       "3       4.114850                   1.648832               1.729670   \n",
       "4       0.018898                  -0.007433               0.117217   \n",
       "\n",
       "   total_bsmt_sf^2  total_bsmt_sf full_bath  full_bath^2  \n",
       "0         0.703813                -0.715344     0.727064  \n",
       "1         0.550159                -0.774490     1.090296  \n",
       "2         0.606486                 0.813172     1.090296  \n",
       "3         0.660691                 0.693084     0.727064  \n",
       "4         0.002924                -0.046108     0.727064  "
      ]
     },
     "execution_count": 39,
     "metadata": {},
     "output_type": "execute_result"
    }
   ],
   "source": [
    "# View X_poly in a DataFrame\n",
    "X_poly = pd.DataFrame(X_poly, columns=poly.get_feature_names(high_num))\n",
    "X_poly.head()"
   ]
  },
  {
   "cell_type": "markdown",
   "id": "2b159d30-be9b-4b48-bb5b-3a0c979f3128",
   "metadata": {},
   "source": []
  },
  {
   "cell_type": "code",
   "execution_count": 40,
   "id": "d869788a-2843-4366-8f8d-a205f4fe402b",
   "metadata": {},
   "outputs": [
    {
     "data": {
      "text/plain": [
       "0.8195874148461773"
      ]
     },
     "execution_count": 40,
     "metadata": {},
     "output_type": "execute_result"
    }
   ],
   "source": [
    "cross_val_score(lr3, X_poly, y_train).mean()"
   ]
  },
  {
   "cell_type": "code",
   "execution_count": null,
   "id": "01bfdad9-b30a-4b0e-a073-050c4dc29ecd",
   "metadata": {},
   "outputs": [],
   "source": []
  },
  {
   "cell_type": "code",
   "execution_count": 41,
   "id": "fb0d9fda-b420-42f3-9c54-1a7b5e6dcf21",
   "metadata": {},
   "outputs": [],
   "source": [
    "X1=X_train[high_num+high_cat].copy()"
   ]
  },
  {
   "cell_type": "code",
   "execution_count": null,
   "id": "1822e67c-40a4-48db-9a48-0b489997ab89",
   "metadata": {},
   "outputs": [],
   "source": []
  },
  {
   "cell_type": "markdown",
   "id": "cfb9fe67-96cc-4bbc-b9ae-462aec6542f9",
   "metadata": {},
   "source": [
    "# Ridge"
   ]
  },
  {
   "cell_type": "code",
   "execution_count": 42,
   "id": "7eeaac21-ca27-4e8a-ba7d-83f19664cb67",
   "metadata": {},
   "outputs": [
    {
     "name": "stdout",
     "output_type": "stream",
     "text": [
      "Ridge Training R-Squared: 0.9361190528327696\n",
      "Ridge Testing R-Squared: 0.910780404486492\n"
     ]
    }
   ],
   "source": [
    "# Instantiate.\n",
    "ridge_model = Ridge(alpha=100)\n",
    "\n",
    "# Fit.\n",
    "ridge_model.fit(X_train, y_train)\n",
    "\n",
    "# Evaluate model using R2.\n",
    "print(f\"Ridge Training R-Squared: {ridge_model.score(X_train, y_train)}\")\n",
    "print(f\"Ridge Testing R-Squared: {ridge_model.score(X_test, y_test)}\")"
   ]
  },
  {
   "cell_type": "code",
   "execution_count": 43,
   "id": "28e4b22f-1dcd-4977-8c65-276757f65a2b",
   "metadata": {},
   "outputs": [
    {
     "data": {
      "text/plain": [
       "0.9146817682695516"
      ]
     },
     "execution_count": 43,
     "metadata": {},
     "output_type": "execute_result"
    }
   ],
   "source": [
    "ridge_model_scores = cross_val_score(ridge_model, X_train, y_train, cv=5)\n",
    "ridge_model_scores.mean()"
   ]
  },
  {
   "cell_type": "code",
   "execution_count": 44,
   "id": "cf875cbd-bc82-4c3b-8eb7-0c911e7c9059",
   "metadata": {},
   "outputs": [
    {
     "data": {
      "text/plain": [
       "0.8951580665726675"
      ]
     },
     "execution_count": 44,
     "metadata": {},
     "output_type": "execute_result"
    }
   ],
   "source": [
    "test_ridge_model_scores = cross_val_score(ridge_model, X_test, y_test, cv=5)\n",
    "test_ridge_model_scores.mean()"
   ]
  },
  {
   "cell_type": "code",
   "execution_count": 45,
   "id": "14295fab-eb64-4842-9ef0-d7864a10d144",
   "metadata": {},
   "outputs": [
    {
     "data": {
      "text/plain": [
       "array([ 0.        ,  0.52631579,  1.05263158,  1.57894737,  2.10526316,\n",
       "        2.63157895,  3.15789474,  3.68421053,  4.21052632,  4.73684211,\n",
       "        5.26315789,  5.78947368,  6.31578947,  6.84210526,  7.36842105,\n",
       "        7.89473684,  8.42105263,  8.94736842,  9.47368421, 10.        ])"
      ]
     },
     "execution_count": 45,
     "metadata": {},
     "output_type": "execute_result"
    }
   ],
   "source": [
    "# 20 numbers, evenly spaced between 0 and 10\n",
    "np.linspace(0, 10, 20)"
   ]
  },
  {
   "cell_type": "code",
   "execution_count": 46,
   "id": "9e13eef2-cb52-4f1f-ba96-f05eec6fabe7",
   "metadata": {},
   "outputs": [
    {
     "data": {
      "text/plain": [
       "array([   1.        ,    1.43844989,    2.06913808,    2.97635144,\n",
       "          4.2813324 ,    6.15848211,    8.8586679 ,   12.74274986,\n",
       "         18.32980711,   26.36650899,   37.92690191,   54.55594781,\n",
       "         78.47599704,  112.88378917,  162.37767392,  233.57214691,\n",
       "        335.98182863,  483.29302386,  695.19279618, 1000.        ])"
      ]
     },
     "execution_count": 46,
     "metadata": {},
     "output_type": "execute_result"
    }
   ],
   "source": [
    "# 20 numbers between 10**0 and 10**3  \n",
    "np.logspace(0, 3,20)"
   ]
  },
  {
   "cell_type": "code",
   "execution_count": 47,
   "id": "9bde7f1c-92f7-421d-a64a-ff1c54ab8687",
   "metadata": {},
   "outputs": [
    {
     "data": {
      "text/plain": [
       "array([   1.        ,    1.43844989,    2.06913808,    2.97635144,\n",
       "          4.2813324 ,    6.15848211,    8.8586679 ,   12.74274986,\n",
       "         18.32980711,   26.36650899,   37.92690191,   54.55594781,\n",
       "         78.47599704,  112.88378917,  162.37767392,  233.57214691,\n",
       "        335.98182863,  483.29302386,  695.19279618, 1000.        ])"
      ]
     },
     "execution_count": 47,
     "metadata": {},
     "output_type": "execute_result"
    }
   ],
   "source": [
    "10**np.linspace(0, 3 , 20)"
   ]
  },
  {
   "cell_type": "markdown",
   "id": "5da874dc-d84d-4313-9bbe-3bb7614aeac7",
   "metadata": {},
   "source": [
    "# Ridge CV"
   ]
  },
  {
   "cell_type": "code",
   "execution_count": 48,
   "id": "05911f77-4f69-49b5-b171-f7a673ae5f94",
   "metadata": {},
   "outputs": [],
   "source": [
    "# Set up a list of ridge alphas to check.\n",
    "# np.logspace generates 100 values equally between 0 and 5,\n",
    "# then converts them to alphas between 10^0 and 10^5.\n",
    "r_alphas = np.logspace(0, 5, 100)\n",
    "\n",
    "# Cross-validate over our list of ridge alphas.\n",
    "ridge_cv = RidgeCV(alphas=r_alphas, scoring='r2', cv=5)\n",
    "\n",
    "# Fit model using best ridge alpha!\n",
    "ridge_cv.fit(X_train, y_train);"
   ]
  },
  {
   "cell_type": "code",
   "execution_count": 49,
   "id": "5f21ae4a-5203-4e12-8aec-ea929d6aa56e",
   "metadata": {},
   "outputs": [
    {
     "data": {
      "text/plain": [
       "93.26033468832199"
      ]
     },
     "execution_count": 49,
     "metadata": {},
     "output_type": "execute_result"
    }
   ],
   "source": [
    "# Here is the optimal value of alpha\n",
    "ridge_cv.alpha_"
   ]
  },
  {
   "cell_type": "markdown",
   "id": "08955371-b499-406f-8606-2e4d65025568",
   "metadata": {},
   "source": [
    "Our `ridge_model` object is actually already the model witht he optimal $\\alpha$. Let's get the corresponding value of $R^2$."
   ]
  },
  {
   "cell_type": "code",
   "execution_count": 50,
   "id": "aade271c-5668-44a0-8bd9-72bf171b5a53",
   "metadata": {},
   "outputs": [
    {
     "name": "stdout",
     "output_type": "stream",
     "text": [
      "Ridge CV Training R-Squared: 0.936347851169465\n",
      "Ridge CV Testing R-Squared: 0.9108190893400446\n"
     ]
    }
   ],
   "source": [
    "print(f\"Ridge CV Training R-Squared: {ridge_cv.score(X_train, y_train)}\")\n",
    "print(f\"Ridge CV Testing R-Squared: {ridge_cv.score(X_test, y_test)}\")"
   ]
  },
  {
   "cell_type": "markdown",
   "id": "044087c4-48d0-4266-8547-278aa713bf2f",
   "metadata": {},
   "source": [
    "The above model is the same is fitting a single, \"regular\" Ridge regression with that value alpha!"
   ]
  },
  {
   "cell_type": "code",
   "execution_count": 51,
   "id": "159db069-4dd8-481a-9cc5-bca3196de5f4",
   "metadata": {},
   "outputs": [
    {
     "name": "stdout",
     "output_type": "stream",
     "text": [
      "Train score: 0.936347851169465\n",
      "Test score: 0.9108190893400446\n"
     ]
    }
   ],
   "source": [
    "ridge_2 = Ridge(alpha = ridge_cv.alpha_)\n",
    "ridge_2.fit(X_train, y_train)\n",
    "\n",
    "print(f\"Train score: {ridge_2.score(X_train, y_train)}\")\n",
    "print(f\"Test score: {ridge_2.score(X_test, y_test)}\")"
   ]
  },
  {
   "cell_type": "code",
   "execution_count": 52,
   "id": "dfae86ea-f6a2-4d68-80c1-a69449e56221",
   "metadata": {},
   "outputs": [
    {
     "data": {
      "text/plain": [
       "array([[-2.89087305e+02, -6.66442373e+02, -2.75693500e+03,\n",
       "         3.03283747e+03,  4.77065652e+03, -5.12192458e+02,\n",
       "         4.74887788e+02,  0.00000000e+00,  5.36551623e+02,\n",
       "         9.00686789e+03,  3.03092816e+03,  4.78042084e+03,\n",
       "         1.85534873e+03,  2.94849174e+03,  4.16929499e+03,\n",
       "         1.45877191e+02,  1.49792244e+03, -1.49640139e+03,\n",
       "         2.45432788e+03,  1.95853898e+03,  5.70068881e+03,\n",
       "         1.04594850e+03, -3.79671929e+02, -1.06470826e+03,\n",
       "         5.03720325e+03,  7.51152335e+02,  1.19941208e+02,\n",
       "         5.97477242e+03,  4.77121139e+03, -2.79478547e+02,\n",
       "         9.22342237e+03,  1.57898715e+03,  0.00000000e+00,\n",
       "         1.51057477e+03,  1.63941910e+03, -1.86489960e+03,\n",
       "         0.00000000e+00,  4.18017552e+03,  2.55250907e+03,\n",
       "         2.50414044e+03,  1.53508119e+03,  2.35023276e+03,\n",
       "         1.60020442e+03,  1.33735103e+03,  1.80431427e+03,\n",
       "         3.03064930e+03,  2.57351001e+02, -1.31606541e+03,\n",
       "         9.72521662e+02,  1.16512674e+03,  9.27484798e+02,\n",
       "        -1.92038345e+02,  0.00000000e+00,  4.43874034e+02,\n",
       "         0.00000000e+00, -3.18613881e+02, -2.97233155e+00,\n",
       "         1.21345142e+03, -5.86270702e+02,  1.36216389e+03,\n",
       "         1.44070087e+02, -1.35706675e+02,  1.21582495e+03,\n",
       "         6.03861964e+02,  3.42603809e+03, -1.99157650e+02,\n",
       "         1.84907957e+02,  1.44176276e+03, -5.28954489e+02,\n",
       "        -8.57797537e+02,  7.75405857e+00, -4.00124042e+02,\n",
       "         3.21588287e+01, -1.32616835e+02, -2.49302115e+02,\n",
       "        -2.31530471e+03,  1.92964611e+03, -3.05969527e+03,\n",
       "        -2.18406877e+03, -1.91897845e+02, -1.64750915e+03,\n",
       "        -9.42006798e+02, -8.96386204e+02, -3.19619892e+03,\n",
       "        -2.69373360e+03,  1.75669704e+03,  4.42618411e+03,\n",
       "        -1.58337434e+03, -2.60935210e+02, -8.45643722e+02,\n",
       "        -1.93620461e+03,  3.18424486e+02,  3.47940633e+03,\n",
       "         3.45346236e+02,  1.57027737e+03,  2.74925098e+02,\n",
       "         2.05386684e+03,  2.46362130e+03,  2.30823770e+03,\n",
       "        -1.09802864e+03,  3.76962886e+02,  3.88583515e+02,\n",
       "        -1.13223850e+02, -6.92086264e+00, -1.02568576e+03,\n",
       "        -1.50536859e+03,  1.23790702e+02, -8.11325286e+02,\n",
       "         1.36204732e+03,  4.14577865e+02, -6.73892037e+02,\n",
       "        -9.77905240e+01, -6.41652867e+02, -1.04481373e+02,\n",
       "         8.09756658e+02, -2.93827056e+02, -1.11433566e+03,\n",
       "         2.31536625e+03,  4.25741259e+02, -7.43743255e+02,\n",
       "         7.87462284e+02,  2.45017946e+02,  1.96760948e+02,\n",
       "        -2.81051729e+02, -2.40172981e+02, -3.39897923e+02,\n",
       "        -6.81566482e+02,  4.77812712e+02, -1.04708019e+03,\n",
       "        -2.91284973e+02,  6.53892648e+02, -1.37172058e+03,\n",
       "         6.54421402e+01, -1.42955517e+02, -1.33855979e+02,\n",
       "        -1.14021593e+02, -9.85034066e+02,  8.13121131e+02,\n",
       "         1.43719460e+03, -1.53617032e+02,  1.21519145e+03,\n",
       "         6.57138728e+02, -4.26773048e+02, -4.62506306e+02,\n",
       "         2.59796765e+02, -7.17585312e+02, -1.82054892e+02,\n",
       "         3.73370774e+02,  1.63505009e+02,  1.13001370e+03,\n",
       "        -3.65477764e+02, -2.98926308e+02,  5.85929826e+01,\n",
       "         8.40164288e+02, -2.81348718e+02,  7.35700843e+02,\n",
       "         3.04811930e+03,  3.07859617e+02,  8.90723310e+02]])"
      ]
     },
     "execution_count": 52,
     "metadata": {},
     "output_type": "execute_result"
    }
   ],
   "source": [
    "ridge_cv.coef_"
   ]
  },
  {
   "cell_type": "code",
   "execution_count": 53,
   "id": "0dcb4959-866e-43f2-9f07-bd1711afca9a",
   "metadata": {},
   "outputs": [
    {
     "data": {
      "text/plain": [
       "0.9142877961109631"
      ]
     },
     "execution_count": 53,
     "metadata": {},
     "output_type": "execute_result"
    }
   ],
   "source": [
    "ridge_cv_scores = cross_val_score(ridge_cv, X_train, y_train, cv=5)\n",
    "ridge_cv_scores.mean()"
   ]
  },
  {
   "cell_type": "code",
   "execution_count": 54,
   "id": "ec118b64-d8b2-4f24-9988-c9b2d27740fe",
   "metadata": {},
   "outputs": [
    {
     "data": {
      "text/plain": [
       "0.8947530179372173"
      ]
     },
     "execution_count": 54,
     "metadata": {},
     "output_type": "execute_result"
    }
   ],
   "source": [
    "test_ridge_cv_scores = cross_val_score(ridge_cv, X_test, y_test, cv=5)\n",
    "test_ridge_cv_scores.mean()"
   ]
  },
  {
   "cell_type": "markdown",
   "id": "3cd7b057-eefb-4c3d-92d3-7f8cd75698b2",
   "metadata": {},
   "source": [
    "# Lasso CV"
   ]
  },
  {
   "cell_type": "code",
   "execution_count": 55,
   "id": "9f38bd7e-564c-4504-9b16-dcd4f2881db6",
   "metadata": {
    "scrolled": true
   },
   "outputs": [],
   "source": [
    "# Set up a list of Lasso alphas to check.\n",
    "l_alphas = np.logspace(-3, 0, 100)\n",
    "# Cross-validate over our list of Lasso alphas.\n",
    "lasso_cv = LassoCV(alphas=l_alphas, cv=5, max_iter=50_000, n_jobs=-1)\n",
    "\n",
    "# Fit model using best ridge alpha!\n",
    "lasso_cv.fit(X_train, y_train);"
   ]
  },
  {
   "cell_type": "code",
   "execution_count": 56,
   "id": "9a211c37-2af3-4b86-85a9-07d579389831",
   "metadata": {},
   "outputs": [
    {
     "data": {
      "text/plain": [
       "array([0.001     , 0.00107227, 0.00114976, 0.00123285, 0.00132194,\n",
       "       0.00141747, 0.00151991, 0.00162975, 0.00174753, 0.00187382,\n",
       "       0.00200923, 0.00215443, 0.00231013, 0.00247708, 0.00265609,\n",
       "       0.00284804, 0.00305386, 0.00327455, 0.00351119, 0.00376494,\n",
       "       0.00403702, 0.00432876, 0.00464159, 0.00497702, 0.0053367 ,\n",
       "       0.00572237, 0.00613591, 0.00657933, 0.0070548 , 0.00756463,\n",
       "       0.00811131, 0.00869749, 0.00932603, 0.01      , 0.01072267,\n",
       "       0.01149757, 0.01232847, 0.01321941, 0.01417474, 0.01519911,\n",
       "       0.01629751, 0.01747528, 0.01873817, 0.02009233, 0.02154435,\n",
       "       0.0231013 , 0.02477076, 0.02656088, 0.02848036, 0.03053856,\n",
       "       0.03274549, 0.03511192, 0.03764936, 0.04037017, 0.04328761,\n",
       "       0.04641589, 0.04977024, 0.05336699, 0.05722368, 0.06135907,\n",
       "       0.06579332, 0.07054802, 0.07564633, 0.08111308, 0.0869749 ,\n",
       "       0.09326033, 0.1       , 0.10722672, 0.1149757 , 0.12328467,\n",
       "       0.13219411, 0.14174742, 0.15199111, 0.16297508, 0.17475284,\n",
       "       0.18738174, 0.2009233 , 0.21544347, 0.23101297, 0.24770764,\n",
       "       0.26560878, 0.28480359, 0.30538555, 0.32745492, 0.35111917,\n",
       "       0.37649358, 0.40370173, 0.43287613, 0.46415888, 0.49770236,\n",
       "       0.53366992, 0.57223677, 0.61359073, 0.65793322, 0.70548023,\n",
       "       0.75646333, 0.81113083, 0.869749  , 0.93260335, 1.        ])"
      ]
     },
     "execution_count": 56,
     "metadata": {},
     "output_type": "execute_result"
    }
   ],
   "source": [
    "# An array of values of alphas used in the model \n",
    "lasso_cv.alphas"
   ]
  },
  {
   "cell_type": "code",
   "execution_count": 57,
   "id": "f757722e-ab54-4f63-8404-cb5fc4e6463d",
   "metadata": {},
   "outputs": [
    {
     "data": {
      "text/plain": [
       "1.0"
      ]
     },
     "execution_count": 57,
     "metadata": {},
     "output_type": "execute_result"
    }
   ],
   "source": [
    "# Here is the optimal value of alpha\n",
    "lasso_cv.alpha_"
   ]
  },
  {
   "cell_type": "code",
   "execution_count": 58,
   "id": "991f8e0d-f05d-41db-804a-8ab0bac758af",
   "metadata": {},
   "outputs": [
    {
     "name": "stdout",
     "output_type": "stream",
     "text": [
      "LASSO Training R-Squared: 0.9403611019445101 \n",
      "LASSO Testing R-Squared: 0.9085486257048898 \n"
     ]
    }
   ],
   "source": [
    "print(f\"LASSO Training R-Squared: {lasso_cv.score(X_train, y_train)} \")\n",
    "print(f\"LASSO Testing R-Squared: {lasso_cv.score(X_test, y_test)} \")"
   ]
  },
  {
   "cell_type": "code",
   "execution_count": 59,
   "id": "c581ecca-8ed4-46d4-b4f0-d34b44d28f72",
   "metadata": {},
   "outputs": [
    {
     "data": {
      "text/plain": [
       "0.9098619200678041"
      ]
     },
     "execution_count": 59,
     "metadata": {},
     "output_type": "execute_result"
    }
   ],
   "source": [
    "lasso_cv_scores = cross_val_score(lasso_cv, X_train, y_train, cv=5)\n",
    "lasso_cv_scores.mean()"
   ]
  },
  {
   "cell_type": "code",
   "execution_count": 60,
   "id": "3bdd9dfc-e14d-4d32-8359-dfc29bc434ec",
   "metadata": {},
   "outputs": [
    {
     "data": {
      "text/plain": [
       "0.8473628146210304"
      ]
     },
     "execution_count": 60,
     "metadata": {},
     "output_type": "execute_result"
    }
   ],
   "source": [
    "test_lasso_cv_scores = cross_val_score(lasso_cv, X_test, y_test, cv=5)\n",
    "test_lasso_cv_scores.mean()"
   ]
  },
  {
   "cell_type": "markdown",
   "id": "52ba5012-e33b-4da5-9f68-9bfa4fa11058",
   "metadata": {},
   "source": [
    "## Ridge vs LASSO, what's the diff?!\n",
    "Let's check out the coefficients of the Lasso and Ridge models."
   ]
  },
  {
   "cell_type": "code",
   "execution_count": 61,
   "id": "4fba09b9-aa54-4f99-ae26-1868c594ad66",
   "metadata": {},
   "outputs": [
    {
     "data": {
      "text/plain": [
       "array([[-2.89087305e+02, -6.66442373e+02, -2.75693500e+03,\n",
       "         3.03283747e+03,  4.77065652e+03, -5.12192458e+02,\n",
       "         4.74887788e+02,  0.00000000e+00,  5.36551623e+02,\n",
       "         9.00686789e+03,  3.03092816e+03,  4.78042084e+03,\n",
       "         1.85534873e+03,  2.94849174e+03,  4.16929499e+03,\n",
       "         1.45877191e+02,  1.49792244e+03, -1.49640139e+03,\n",
       "         2.45432788e+03,  1.95853898e+03,  5.70068881e+03,\n",
       "         1.04594850e+03, -3.79671929e+02, -1.06470826e+03,\n",
       "         5.03720325e+03,  7.51152335e+02,  1.19941208e+02,\n",
       "         5.97477242e+03,  4.77121139e+03, -2.79478547e+02,\n",
       "         9.22342237e+03,  1.57898715e+03,  0.00000000e+00,\n",
       "         1.51057477e+03,  1.63941910e+03, -1.86489960e+03,\n",
       "         0.00000000e+00,  4.18017552e+03,  2.55250907e+03,\n",
       "         2.50414044e+03,  1.53508119e+03,  2.35023276e+03,\n",
       "         1.60020442e+03,  1.33735103e+03,  1.80431427e+03,\n",
       "         3.03064930e+03,  2.57351001e+02, -1.31606541e+03,\n",
       "         9.72521662e+02,  1.16512674e+03,  9.27484798e+02,\n",
       "        -1.92038345e+02,  0.00000000e+00,  4.43874034e+02,\n",
       "         0.00000000e+00, -3.18613881e+02, -2.97233155e+00,\n",
       "         1.21345142e+03, -5.86270702e+02,  1.36216389e+03,\n",
       "         1.44070087e+02, -1.35706675e+02,  1.21582495e+03,\n",
       "         6.03861964e+02,  3.42603809e+03, -1.99157650e+02,\n",
       "         1.84907957e+02,  1.44176276e+03, -5.28954489e+02,\n",
       "        -8.57797537e+02,  7.75405857e+00, -4.00124042e+02,\n",
       "         3.21588287e+01, -1.32616835e+02, -2.49302115e+02,\n",
       "        -2.31530471e+03,  1.92964611e+03, -3.05969527e+03,\n",
       "        -2.18406877e+03, -1.91897845e+02, -1.64750915e+03,\n",
       "        -9.42006798e+02, -8.96386204e+02, -3.19619892e+03,\n",
       "        -2.69373360e+03,  1.75669704e+03,  4.42618411e+03,\n",
       "        -1.58337434e+03, -2.60935210e+02, -8.45643722e+02,\n",
       "        -1.93620461e+03,  3.18424486e+02,  3.47940633e+03,\n",
       "         3.45346236e+02,  1.57027737e+03,  2.74925098e+02,\n",
       "         2.05386684e+03,  2.46362130e+03,  2.30823770e+03,\n",
       "        -1.09802864e+03,  3.76962886e+02,  3.88583515e+02,\n",
       "        -1.13223850e+02, -6.92086264e+00, -1.02568576e+03,\n",
       "        -1.50536859e+03,  1.23790702e+02, -8.11325286e+02,\n",
       "         1.36204732e+03,  4.14577865e+02, -6.73892037e+02,\n",
       "        -9.77905240e+01, -6.41652867e+02, -1.04481373e+02,\n",
       "         8.09756658e+02, -2.93827056e+02, -1.11433566e+03,\n",
       "         2.31536625e+03,  4.25741259e+02, -7.43743255e+02,\n",
       "         7.87462284e+02,  2.45017946e+02,  1.96760948e+02,\n",
       "        -2.81051729e+02, -2.40172981e+02, -3.39897923e+02,\n",
       "        -6.81566482e+02,  4.77812712e+02, -1.04708019e+03,\n",
       "        -2.91284973e+02,  6.53892648e+02, -1.37172058e+03,\n",
       "         6.54421402e+01, -1.42955517e+02, -1.33855979e+02,\n",
       "        -1.14021593e+02, -9.85034066e+02,  8.13121131e+02,\n",
       "         1.43719460e+03, -1.53617032e+02,  1.21519145e+03,\n",
       "         6.57138728e+02, -4.26773048e+02, -4.62506306e+02,\n",
       "         2.59796765e+02, -7.17585312e+02, -1.82054892e+02,\n",
       "         3.73370774e+02,  1.63505009e+02,  1.13001370e+03,\n",
       "        -3.65477764e+02, -2.98926308e+02,  5.85929826e+01,\n",
       "         8.40164288e+02, -2.81348718e+02,  7.35700843e+02,\n",
       "         3.04811930e+03,  3.07859617e+02,  8.90723310e+02]])"
      ]
     },
     "execution_count": 61,
     "metadata": {},
     "output_type": "execute_result"
    }
   ],
   "source": [
    "# The Ridge Coefficients\n",
    "ridge_cv.coef_"
   ]
  },
  {
   "cell_type": "code",
   "execution_count": 62,
   "id": "a3a7d4e6-b583-4696-903c-6b1e7267ec63",
   "metadata": {},
   "outputs": [
    {
     "data": {
      "text/plain": [
       "array([ -1891.77266337,   1284.03294955,  -6355.01482499,   2243.28406059,\n",
       "         5993.18476296,    347.33923291,    827.37480532,      0.        ,\n",
       "          395.98475817,  10049.54833832,   3971.81046816,   8638.81583898,\n",
       "         1182.08217376,   3844.03166057,   3698.5662699 ,    140.19417984,\n",
       "          650.41004587,  -1547.95148486,   2282.66372419,   1228.63053644,\n",
       "         7687.64803751,   1662.96211945,   -836.71748262,      0.        ,\n",
       "         4349.22725903,    189.28470095,   -343.67030638,  10172.64523681,\n",
       "        13352.29898112,    745.60686061,   7244.81482125,   1499.65587362,\n",
       "            0.        ,   -389.23858997,    766.17284139,  -3230.74925116,\n",
       "            0.        ,   4112.84961577,   1159.16438189,   2701.23070214,\n",
       "          430.16114994,   2392.38432413,   1438.24092311,   1167.19987242,\n",
       "         1191.5486866 ,   2844.53611269,   2566.85080378,  -4290.39988238,\n",
       "         1111.38102481,   1247.82922787,    740.12681828,    304.98418346,\n",
       "            0.        ,    418.51825479,      0.        ,   -252.60234629,\n",
       "          -16.29245395,   1265.31011736,  -2162.09646631,   5867.21335774,\n",
       "         1511.31697129,   5730.04733135,   5975.21913573,    585.69742048,\n",
       "         4254.32541173,    -35.03284289,   1351.68019294,   1525.72534596,\n",
       "         -292.07222686,  -1091.49828819,    -54.38908806,  -1161.68353495,\n",
       "        -1102.61786976,  -4999.12179587,  -1856.99391197,  -9243.59739647,\n",
       "        -1676.71117417,  -9306.19288721,  -6918.79500033,   -880.75364653,\n",
       "        -5952.33726708,  -2482.70962712,  -5119.4286392 , -10327.45891644,\n",
       "        -7144.67843561,  -1362.72893465,    820.59663081,  -7055.18755688,\n",
       "        -2711.12265801,  -5958.85810463,  -6154.11047184,  -5525.19284086,\n",
       "         1655.92457847,  -2650.99784778,    648.46759347,   1050.99107153,\n",
       "         3338.3253707 ,   2884.7535247 ,   3151.0075543 ,   -761.94098081,\n",
       "         1070.46151328,    241.42206034,    792.60129759,    -64.6709817 ,\n",
       "        -1547.48115586,  -1398.09889361,    243.14759007,   -361.37574886,\n",
       "         1516.22786984,    -96.29286677,     18.55193605,   1038.76857404,\n",
       "         -240.82367662,    190.95440041,   1006.59529153,    180.37196205,\n",
       "        -1221.95165597,   2610.0268439 ,  -2393.61778123,   -974.50928315,\n",
       "         1657.34366149,   -119.81800331,    182.42496729,  -2036.31055551,\n",
       "          169.84012727,   -524.09897276,   -883.81563183,   3065.5311369 ,\n",
       "         -597.18057868,   -183.35993003,    314.71118943,   -735.43701672,\n",
       "           71.7916447 ,   1433.51168455,   -372.54973983,    223.13861008,\n",
       "         1880.74801584,   5030.08461624,   3776.7897534 ,   -356.43961748,\n",
       "          678.226721  ,    441.24684748,    -77.28771739,   -669.42410435,\n",
       "          158.24107164,   -954.6956851 ,   -747.45579655,   4083.75953952,\n",
       "         1930.31560899,   2739.97366097,    449.55201493,   3646.00406573,\n",
       "          266.68696844,   1320.61014715,   -271.0611747 ,    895.68795651,\n",
       "         3422.09315936,    486.04374569,   1833.85060175])"
      ]
     },
     "execution_count": 62,
     "metadata": {},
     "output_type": "execute_result"
    }
   ],
   "source": [
    "# LASSO coefficients\n",
    "lasso_cv.coef_"
   ]
  },
  {
   "cell_type": "code",
   "execution_count": 63,
   "id": "5fe38d65-3f41-4e40-acc7-ffa0322bf5be",
   "metadata": {},
   "outputs": [],
   "source": [
    "lsss=pd.DataFrame(lasso_cv.coef_,X_train.columns)"
   ]
  },
  {
   "cell_type": "code",
   "execution_count": 64,
   "id": "e54d7a89-3de3-4672-a66f-b1ed770a5915",
   "metadata": {},
   "outputs": [],
   "source": [
    "rddd=pd.DataFrame(ridge_cv.coef_[0],X_train.columns)"
   ]
  },
  {
   "cell_type": "code",
   "execution_count": 65,
   "id": "5effbb58-f1c4-42ec-a648-05ed8dc18766",
   "metadata": {},
   "outputs": [
    {
     "data": {
      "text/html": [
       "<div>\n",
       "<style scoped>\n",
       "    .dataframe tbody tr th:only-of-type {\n",
       "        vertical-align: middle;\n",
       "    }\n",
       "\n",
       "    .dataframe tbody tr th {\n",
       "        vertical-align: top;\n",
       "    }\n",
       "\n",
       "    .dataframe thead th {\n",
       "        text-align: right;\n",
       "    }\n",
       "</style>\n",
       "<table border=\"1\" class=\"dataframe\">\n",
       "  <thead>\n",
       "    <tr style=\"text-align: right;\">\n",
       "      <th></th>\n",
       "      <th>0</th>\n",
       "    </tr>\n",
       "  </thead>\n",
       "  <tbody>\n",
       "    <tr>\n",
       "      <th>id</th>\n",
       "      <td>-1891.772663</td>\n",
       "    </tr>\n",
       "    <tr>\n",
       "      <th>pid</th>\n",
       "      <td>1284.032950</td>\n",
       "    </tr>\n",
       "    <tr>\n",
       "      <th>ms_sub_class</th>\n",
       "      <td>-6355.014825</td>\n",
       "    </tr>\n",
       "    <tr>\n",
       "      <th>lot_frontage</th>\n",
       "      <td>2243.284061</td>\n",
       "    </tr>\n",
       "    <tr>\n",
       "      <th>lot_area</th>\n",
       "      <td>5993.184763</td>\n",
       "    </tr>\n",
       "  </tbody>\n",
       "</table>\n",
       "</div>"
      ],
      "text/plain": [
       "                        0\n",
       "id           -1891.772663\n",
       "pid           1284.032950\n",
       "ms_sub_class -6355.014825\n",
       "lot_frontage  2243.284061\n",
       "lot_area      5993.184763"
      ]
     },
     "execution_count": 65,
     "metadata": {},
     "output_type": "execute_result"
    }
   ],
   "source": [
    "lsss.head()"
   ]
  },
  {
   "cell_type": "code",
   "execution_count": 66,
   "id": "0aeb2b5c-d6df-4ba5-a3fd-299f736c017e",
   "metadata": {},
   "outputs": [
    {
     "data": {
      "text/html": [
       "<div>\n",
       "<style scoped>\n",
       "    .dataframe tbody tr th:only-of-type {\n",
       "        vertical-align: middle;\n",
       "    }\n",
       "\n",
       "    .dataframe tbody tr th {\n",
       "        vertical-align: top;\n",
       "    }\n",
       "\n",
       "    .dataframe thead th {\n",
       "        text-align: right;\n",
       "    }\n",
       "</style>\n",
       "<table border=\"1\" class=\"dataframe\">\n",
       "  <thead>\n",
       "    <tr style=\"text-align: right;\">\n",
       "      <th></th>\n",
       "      <th>0</th>\n",
       "    </tr>\n",
       "  </thead>\n",
       "  <tbody>\n",
       "    <tr>\n",
       "      <th>id</th>\n",
       "      <td>-289.087305</td>\n",
       "    </tr>\n",
       "    <tr>\n",
       "      <th>pid</th>\n",
       "      <td>-666.442373</td>\n",
       "    </tr>\n",
       "    <tr>\n",
       "      <th>ms_sub_class</th>\n",
       "      <td>-2756.935003</td>\n",
       "    </tr>\n",
       "    <tr>\n",
       "      <th>lot_frontage</th>\n",
       "      <td>3032.837471</td>\n",
       "    </tr>\n",
       "    <tr>\n",
       "      <th>lot_area</th>\n",
       "      <td>4770.656523</td>\n",
       "    </tr>\n",
       "  </tbody>\n",
       "</table>\n",
       "</div>"
      ],
      "text/plain": [
       "                        0\n",
       "id            -289.087305\n",
       "pid           -666.442373\n",
       "ms_sub_class -2756.935003\n",
       "lot_frontage  3032.837471\n",
       "lot_area      4770.656523"
      ]
     },
     "execution_count": 66,
     "metadata": {},
     "output_type": "execute_result"
    }
   ],
   "source": [
    "rddd.head()"
   ]
  },
  {
   "cell_type": "code",
   "execution_count": 67,
   "id": "74b5bb28-9735-4e08-bdd9-d68670343664",
   "metadata": {},
   "outputs": [],
   "source": [
    "lasso = Lasso()"
   ]
  },
  {
   "cell_type": "code",
   "execution_count": 68,
   "id": "745ce007-44eb-4d17-a393-dcfd2f40ed1f",
   "metadata": {},
   "outputs": [],
   "source": [
    "params = {'alpha': [0.001, 0.01, 0.1, 1.0, 10.0]}"
   ]
  },
  {
   "cell_type": "markdown",
   "id": "1c312d72-1999-4f13-825d-4bce2bdd90ba",
   "metadata": {
    "colab": {},
    "colab_type": "code",
    "id": "15p4l187khbX"
   },
   "source": [
    "#### Instantiate a GridSearchCV object by passing it an estimator and a param_grid."
   ]
  },
  {
   "cell_type": "code",
   "execution_count": 69,
   "id": "5208e11c-4950-4fbc-997c-af551caa2409",
   "metadata": {
    "colab": {},
    "colab_type": "code",
    "id": "15p4l187khbX"
   },
   "outputs": [],
   "source": [
    "lasso_grid = GridSearchCV(lasso, param_grid=params)"
   ]
  },
  {
   "cell_type": "code",
   "execution_count": 70,
   "id": "e2249b7b-bcc1-4f31-a688-9acc69b2a107",
   "metadata": {},
   "outputs": [
    {
     "data": {
      "text/plain": [
       "GridSearchCV(estimator=Lasso(),\n",
       "             param_grid={'alpha': [0.001, 0.01, 0.1, 1.0, 10.0]})"
      ]
     },
     "execution_count": 70,
     "metadata": {},
     "output_type": "execute_result"
    }
   ],
   "source": [
    "lasso_grid"
   ]
  },
  {
   "cell_type": "markdown",
   "id": "2b9cb95a-266c-47b0-845d-a04208c9ed85",
   "metadata": {
    "colab": {
     "base_uri": "https://localhost:8080/",
     "height": 176
    },
    "colab_type": "code",
    "id": "mwmhzokykpVu",
    "outputId": "35d62df3-fd8c-4483-9360-0b8d531a18f4"
   },
   "source": [
    "#### Fit it on the training data"
   ]
  },
  {
   "cell_type": "code",
   "execution_count": 71,
   "id": "b2d77838-5e7d-4620-b690-b55b6346bd56",
   "metadata": {
    "colab": {
     "base_uri": "https://localhost:8080/",
     "height": 176
    },
    "colab_type": "code",
    "id": "mwmhzokykpVu",
    "outputId": "35d62df3-fd8c-4483-9360-0b8d531a18f4"
   },
   "outputs": [
    {
     "data": {
      "text/plain": [
       "GridSearchCV(estimator=Lasso(),\n",
       "             param_grid={'alpha': [0.001, 0.01, 0.1, 1.0, 10.0]})"
      ]
     },
     "execution_count": 71,
     "metadata": {},
     "output_type": "execute_result"
    }
   ],
   "source": [
    "lasso_grid.fit(X_train, y_train)"
   ]
  },
  {
   "cell_type": "markdown",
   "id": "8a106857-247b-44a2-90ea-15ed840a5693",
   "metadata": {
    "colab": {
     "base_uri": "https://localhost:8080/",
     "height": 34
    },
    "colab_type": "code",
    "id": "WaXZrc7kkrme",
    "outputId": "8f03dd6b-8d5a-4ad8-e816-b44e1f9456c2"
   },
   "source": [
    "#### Score on the training data"
   ]
  },
  {
   "cell_type": "code",
   "execution_count": 72,
   "id": "15e76cdd-29a8-4627-a51f-384867b0a267",
   "metadata": {
    "colab": {
     "base_uri": "https://localhost:8080/",
     "height": 34
    },
    "colab_type": "code",
    "id": "WaXZrc7kkrme",
    "outputId": "8f03dd6b-8d5a-4ad8-e816-b44e1f9456c2"
   },
   "outputs": [
    {
     "data": {
      "text/plain": [
       "0.9402754860105427"
      ]
     },
     "execution_count": 72,
     "metadata": {},
     "output_type": "execute_result"
    }
   ],
   "source": [
    "lasso_grid.score(X_train, y_train)"
   ]
  },
  {
   "cell_type": "markdown",
   "id": "04f68fa6-7d5e-4670-83ed-46f07e0e4e17",
   "metadata": {},
   "source": [
    "#### See all the results of training"
   ]
  },
  {
   "cell_type": "code",
   "execution_count": 73,
   "id": "ccdfe314-bf1d-4a1b-8afb-df8593c0cc73",
   "metadata": {
    "tags": []
   },
   "outputs": [
    {
     "data": {
      "text/plain": [
       "{'mean_fit_time': array([0.05879683, 0.05126381, 0.05187898, 0.05340648, 0.04755397]),\n",
       " 'std_fit_time': array([0.0099388 , 0.00059911, 0.00124026, 0.0020517 , 0.0015413 ]),\n",
       " 'mean_score_time': array([0.0024169 , 0.00223455, 0.00224719, 0.00232391, 0.00213256]),\n",
       " 'std_score_time': array([1.26914794e-04, 4.50507914e-05, 5.24890509e-05, 7.09176294e-05,\n",
       "        4.83258875e-05]),\n",
       " 'param_alpha': masked_array(data=[0.001, 0.01, 0.1, 1.0, 10.0],\n",
       "              mask=[False, False, False, False, False],\n",
       "        fill_value='?',\n",
       "             dtype=object),\n",
       " 'params': [{'alpha': 0.001},\n",
       "  {'alpha': 0.01},\n",
       "  {'alpha': 0.1},\n",
       "  {'alpha': 1.0},\n",
       "  {'alpha': 10.0}],\n",
       " 'split0_test_score': array([0.90214322, 0.90214448, 0.90215701, 0.90227738, 0.90325183]),\n",
       " 'split1_test_score': array([0.90316099, 0.90316409, 0.90319477, 0.90349321, 0.90563861]),\n",
       " 'split2_test_score': array([0.92157083, 0.92157125, 0.9215767 , 0.92164717, 0.92232281]),\n",
       " 'split3_test_score': array([0.91365198, 0.91365326, 0.91366601, 0.9137893 , 0.91429798]),\n",
       " 'split4_test_score': array([0.90787543, 0.90787782, 0.90790161, 0.90813667, 0.91012618]),\n",
       " 'mean_test_score': array([0.90968049, 0.90968218, 0.90969922, 0.90986875, 0.91112748]),\n",
       " 'std_test_score': array([0.00720729, 0.00720663, 0.00720048, 0.00714673, 0.00676082]),\n",
       " 'rank_test_score': array([5, 4, 3, 2, 1], dtype=int32)}"
      ]
     },
     "execution_count": 73,
     "metadata": {},
     "output_type": "execute_result"
    }
   ],
   "source": [
    "lasso_grid.cv_results_"
   ]
  },
  {
   "cell_type": "code",
   "execution_count": 74,
   "id": "b15f973d-ca44-47ff-bed6-37735a1f5cb9",
   "metadata": {},
   "outputs": [
    {
     "data": {
      "text/html": [
       "<div>\n",
       "<style scoped>\n",
       "    .dataframe tbody tr th:only-of-type {\n",
       "        vertical-align: middle;\n",
       "    }\n",
       "\n",
       "    .dataframe tbody tr th {\n",
       "        vertical-align: top;\n",
       "    }\n",
       "\n",
       "    .dataframe thead th {\n",
       "        text-align: right;\n",
       "    }\n",
       "</style>\n",
       "<table border=\"1\" class=\"dataframe\">\n",
       "  <thead>\n",
       "    <tr style=\"text-align: right;\">\n",
       "      <th></th>\n",
       "      <th>mean_fit_time</th>\n",
       "      <th>std_fit_time</th>\n",
       "      <th>mean_score_time</th>\n",
       "      <th>std_score_time</th>\n",
       "      <th>param_alpha</th>\n",
       "      <th>params</th>\n",
       "      <th>split0_test_score</th>\n",
       "      <th>split1_test_score</th>\n",
       "      <th>split2_test_score</th>\n",
       "      <th>split3_test_score</th>\n",
       "      <th>split4_test_score</th>\n",
       "      <th>mean_test_score</th>\n",
       "      <th>std_test_score</th>\n",
       "      <th>rank_test_score</th>\n",
       "    </tr>\n",
       "  </thead>\n",
       "  <tbody>\n",
       "    <tr>\n",
       "      <th>0</th>\n",
       "      <td>0.058797</td>\n",
       "      <td>0.009939</td>\n",
       "      <td>0.002417</td>\n",
       "      <td>0.000127</td>\n",
       "      <td>0.001</td>\n",
       "      <td>{'alpha': 0.001}</td>\n",
       "      <td>0.902143</td>\n",
       "      <td>0.903161</td>\n",
       "      <td>0.921571</td>\n",
       "      <td>0.913652</td>\n",
       "      <td>0.907875</td>\n",
       "      <td>0.909680</td>\n",
       "      <td>0.007207</td>\n",
       "      <td>5</td>\n",
       "    </tr>\n",
       "    <tr>\n",
       "      <th>1</th>\n",
       "      <td>0.051264</td>\n",
       "      <td>0.000599</td>\n",
       "      <td>0.002235</td>\n",
       "      <td>0.000045</td>\n",
       "      <td>0.01</td>\n",
       "      <td>{'alpha': 0.01}</td>\n",
       "      <td>0.902144</td>\n",
       "      <td>0.903164</td>\n",
       "      <td>0.921571</td>\n",
       "      <td>0.913653</td>\n",
       "      <td>0.907878</td>\n",
       "      <td>0.909682</td>\n",
       "      <td>0.007207</td>\n",
       "      <td>4</td>\n",
       "    </tr>\n",
       "    <tr>\n",
       "      <th>2</th>\n",
       "      <td>0.051879</td>\n",
       "      <td>0.001240</td>\n",
       "      <td>0.002247</td>\n",
       "      <td>0.000052</td>\n",
       "      <td>0.1</td>\n",
       "      <td>{'alpha': 0.1}</td>\n",
       "      <td>0.902157</td>\n",
       "      <td>0.903195</td>\n",
       "      <td>0.921577</td>\n",
       "      <td>0.913666</td>\n",
       "      <td>0.907902</td>\n",
       "      <td>0.909699</td>\n",
       "      <td>0.007200</td>\n",
       "      <td>3</td>\n",
       "    </tr>\n",
       "    <tr>\n",
       "      <th>3</th>\n",
       "      <td>0.053406</td>\n",
       "      <td>0.002052</td>\n",
       "      <td>0.002324</td>\n",
       "      <td>0.000071</td>\n",
       "      <td>1.0</td>\n",
       "      <td>{'alpha': 1.0}</td>\n",
       "      <td>0.902277</td>\n",
       "      <td>0.903493</td>\n",
       "      <td>0.921647</td>\n",
       "      <td>0.913789</td>\n",
       "      <td>0.908137</td>\n",
       "      <td>0.909869</td>\n",
       "      <td>0.007147</td>\n",
       "      <td>2</td>\n",
       "    </tr>\n",
       "    <tr>\n",
       "      <th>4</th>\n",
       "      <td>0.047554</td>\n",
       "      <td>0.001541</td>\n",
       "      <td>0.002133</td>\n",
       "      <td>0.000048</td>\n",
       "      <td>10.0</td>\n",
       "      <td>{'alpha': 10.0}</td>\n",
       "      <td>0.903252</td>\n",
       "      <td>0.905639</td>\n",
       "      <td>0.922323</td>\n",
       "      <td>0.914298</td>\n",
       "      <td>0.910126</td>\n",
       "      <td>0.911127</td>\n",
       "      <td>0.006761</td>\n",
       "      <td>1</td>\n",
       "    </tr>\n",
       "  </tbody>\n",
       "</table>\n",
       "</div>"
      ],
      "text/plain": [
       "   mean_fit_time  std_fit_time  mean_score_time  std_score_time param_alpha  \\\n",
       "0       0.058797      0.009939         0.002417        0.000127       0.001   \n",
       "1       0.051264      0.000599         0.002235        0.000045        0.01   \n",
       "2       0.051879      0.001240         0.002247        0.000052         0.1   \n",
       "3       0.053406      0.002052         0.002324        0.000071         1.0   \n",
       "4       0.047554      0.001541         0.002133        0.000048        10.0   \n",
       "\n",
       "             params  split0_test_score  split1_test_score  split2_test_score  \\\n",
       "0  {'alpha': 0.001}           0.902143           0.903161           0.921571   \n",
       "1   {'alpha': 0.01}           0.902144           0.903164           0.921571   \n",
       "2    {'alpha': 0.1}           0.902157           0.903195           0.921577   \n",
       "3    {'alpha': 1.0}           0.902277           0.903493           0.921647   \n",
       "4   {'alpha': 10.0}           0.903252           0.905639           0.922323   \n",
       "\n",
       "   split3_test_score  split4_test_score  mean_test_score  std_test_score  \\\n",
       "0           0.913652           0.907875         0.909680        0.007207   \n",
       "1           0.913653           0.907878         0.909682        0.007207   \n",
       "2           0.913666           0.907902         0.909699        0.007200   \n",
       "3           0.913789           0.908137         0.909869        0.007147   \n",
       "4           0.914298           0.910126         0.911127        0.006761   \n",
       "\n",
       "   rank_test_score  \n",
       "0                5  \n",
       "1                4  \n",
       "2                3  \n",
       "3                2  \n",
       "4                1  "
      ]
     },
     "execution_count": 74,
     "metadata": {},
     "output_type": "execute_result"
    }
   ],
   "source": [
    "pd.DataFrame(lasso_grid.cv_results_)"
   ]
  },
  {
   "cell_type": "markdown",
   "id": "709830bd-a901-4073-874b-5d23ecaa568d",
   "metadata": {},
   "source": [
    "#### What were the best params?"
   ]
  },
  {
   "cell_type": "code",
   "execution_count": 75,
   "id": "ceed6780-b695-42c7-82fe-6ab5e455a36f",
   "metadata": {},
   "outputs": [
    {
     "data": {
      "text/plain": [
       "Lasso(alpha=10.0)"
      ]
     },
     "execution_count": 75,
     "metadata": {},
     "output_type": "execute_result"
    }
   ],
   "source": [
    "lasso_grid.best_estimator_"
   ]
  },
  {
   "cell_type": "code",
   "execution_count": 76,
   "id": "fbb39530-dcb7-4ec6-92a2-581b7a8bcfd6",
   "metadata": {},
   "outputs": [
    {
     "data": {
      "text/plain": [
       "{'alpha': 10.0}"
      ]
     },
     "execution_count": 76,
     "metadata": {},
     "output_type": "execute_result"
    }
   ],
   "source": [
    "lasso_grid.best_params_"
   ]
  },
  {
   "cell_type": "markdown",
   "id": "78c4cfdb-456a-4054-81e9-0e41e8834a17",
   "metadata": {},
   "source": [
    "#### Make predictions for the test set"
   ]
  },
  {
   "cell_type": "code",
   "execution_count": 77,
   "id": "11a8197c-af77-4e39-850e-8b88902c2999",
   "metadata": {},
   "outputs": [
    {
     "data": {
      "text/plain": [
       "array([131100.19043915, 222265.63162926, 287164.99074866, 112540.37768049,\n",
       "       198617.66681078, 375638.95700835, 169682.43109203, 297104.10953496,\n",
       "       153845.93456483,  73663.16765162])"
      ]
     },
     "execution_count": 77,
     "metadata": {},
     "output_type": "execute_result"
    }
   ],
   "source": [
    "y_test_preds = lasso_grid.predict(X_test)\n",
    "y_test_preds[:10]"
   ]
  },
  {
   "cell_type": "markdown",
   "id": "deb23995-ce29-49b2-941b-5310d8855579",
   "metadata": {},
   "source": [
    "#### Score with the MAE, MSE, and RMSE on test set"
   ]
  },
  {
   "cell_type": "code",
   "execution_count": 78,
   "id": "bd51de84-7bad-4921-a2dd-cc4185471eb6",
   "metadata": {},
   "outputs": [],
   "source": [
    "from sklearn.metrics import mean_squared_error, mean_absolute_error"
   ]
  },
  {
   "cell_type": "code",
   "execution_count": 79,
   "id": "ae697868-f97e-4051-871a-e42248359ea8",
   "metadata": {},
   "outputs": [
    {
     "name": "stdout",
     "output_type": "stream",
     "text": [
      "MSE: 414203140.51330435\n",
      "MAE: 15251.00725461291\n",
      "RMSE: 20351.981242947928\n"
     ]
    }
   ],
   "source": [
    "print(f'MSE: {mean_squared_error(y_test, y_test_preds)}')\n",
    "print(f'MAE: {mean_absolute_error(y_test, y_test_preds)}')\n",
    "print(f'RMSE: {mean_squared_error(y_test, y_test_preds, squared=False)}')"
   ]
  },
  {
   "cell_type": "markdown",
   "id": "3ea4a7f7-3b26-4ee6-9364-b1a28b452792",
   "metadata": {
    "colab": {
     "base_uri": "https://localhost:8080/",
     "height": 34
    },
    "colab_type": "code",
    "id": "q_-3iBZnk7UC",
    "outputId": "2b368971-d6ed-41fd-8f0c-85c5a342def0"
   },
   "source": [
    "#### Score the best model on the test data with the default scoring metric"
   ]
  },
  {
   "cell_type": "code",
   "execution_count": 80,
   "id": "43726736-3aed-4bc7-abd8-3081290b490c",
   "metadata": {
    "colab": {
     "base_uri": "https://localhost:8080/",
     "height": 34
    },
    "colab_type": "code",
    "id": "q_-3iBZnk7UC",
    "outputId": "2b368971-d6ed-41fd-8f0c-85c5a342def0"
   },
   "outputs": [
    {
     "data": {
      "text/plain": [
       "0.9093530056215839"
      ]
     },
     "execution_count": 80,
     "metadata": {},
     "output_type": "execute_result"
    }
   ],
   "source": [
    "lasso_grid.score(X_test, y_test)"
   ]
  },
  {
   "cell_type": "code",
   "execution_count": 81,
   "id": "6babf70f-d477-44cf-8f65-ad21fd899a14",
   "metadata": {},
   "outputs": [
    {
     "data": {
      "text/plain": [
       "0.9111274823734081"
      ]
     },
     "execution_count": 81,
     "metadata": {},
     "output_type": "execute_result"
    }
   ],
   "source": [
    "lasso_grid_scores = cross_val_score(lasso_grid, X_train, y_train, cv=5)\n",
    "lasso_grid_scores.mean()"
   ]
  },
  {
   "cell_type": "code",
   "execution_count": 82,
   "id": "e6152c73-823c-4c72-b93a-7f6c623a64a6",
   "metadata": {},
   "outputs": [
    {
     "data": {
      "text/plain": [
       "0.8558693410632406"
      ]
     },
     "execution_count": 82,
     "metadata": {},
     "output_type": "execute_result"
    }
   ],
   "source": [
    "test_lasso_grid_scores = cross_val_score(lasso_grid, X_test, y_test, cv=5)\n",
    "test_lasso_grid_scores.mean()"
   ]
  },
  {
   "cell_type": "markdown",
   "id": "87a42f91-83a3-4597-8450-41ed73a998eb",
   "metadata": {},
   "source": [
    "# Ridge GridSearchCV (BEST MODEL AND WHAT I SELECTED)"
   ]
  },
  {
   "cell_type": "code",
   "execution_count": 83,
   "id": "8aad066a-a544-4a79-af32-b9e61ce4ad15",
   "metadata": {},
   "outputs": [
    {
     "data": {
      "text/plain": [
       "GridSearchCV(estimator=Ridge(), n_jobs=-1,\n",
       "             param_grid={'alpha': array([1.00000000e+00, 1.20679264e+00, 1.45634848e+00, 1.75751062e+00,\n",
       "       2.12095089e+00, 2.55954792e+00, 3.08884360e+00, 3.72759372e+00,\n",
       "       4.49843267e+00, 5.42867544e+00, 6.55128557e+00, 7.90604321e+00,\n",
       "       9.54095476e+00, 1.15139540e+01, 1.38949549e+01, 1.67683294e+01,\n",
       "       2.02358965e+01, 2.44205309e+01, 2.94705170e+...\n",
       "       9.10298178e+01, 1.09854114e+02, 1.32571137e+02, 1.59985872e+02,\n",
       "       1.93069773e+02, 2.32995181e+02, 2.81176870e+02, 3.39322177e+02,\n",
       "       4.09491506e+02, 4.94171336e+02, 5.96362332e+02, 7.19685673e+02,\n",
       "       8.68511374e+02, 1.04811313e+03, 1.26485522e+03, 1.52641797e+03,\n",
       "       1.84206997e+03, 2.22299648e+03, 2.68269580e+03, 3.23745754e+03,\n",
       "       3.90693994e+03, 4.71486636e+03, 5.68986603e+03, 6.86648845e+03,\n",
       "       8.28642773e+03, 1.00000000e+04])})"
      ]
     },
     "execution_count": 83,
     "metadata": {},
     "output_type": "execute_result"
    }
   ],
   "source": [
    "params = {'alpha': np.logspace(0, 4, 50)}\n",
    "ridge_grid = GridSearchCV(Ridge(), param_grid=params, n_jobs=-1)\n",
    "ridge_grid.fit(X_train, y_train)"
   ]
  },
  {
   "cell_type": "code",
   "execution_count": 84,
   "id": "4c010778-9a92-4ba4-9cc8-b45990c5e6fb",
   "metadata": {},
   "outputs": [
    {
     "data": {
      "text/plain": [
       "20185.453398642676"
      ]
     },
     "execution_count": 84,
     "metadata": {},
     "output_type": "execute_result"
    }
   ],
   "source": [
    "yhat = ridge_grid.predict(X_test)\n",
    "mean_squared_error(y_test, yhat, squared=False)"
   ]
  },
  {
   "cell_type": "code",
   "execution_count": 85,
   "id": "1cf686f1-de03-44c6-a1df-047aebd76573",
   "metadata": {},
   "outputs": [
    {
     "data": {
      "text/plain": [
       "0.9108303547585516"
      ]
     },
     "execution_count": 85,
     "metadata": {},
     "output_type": "execute_result"
    }
   ],
   "source": [
    "ridge_grid.score(X_test,y_test)\n",
    "# we love to see it, a ridge gridsearchcv with a high accuracy score..this is what we will be selecting"
   ]
  },
  {
   "cell_type": "code",
   "execution_count": 86,
   "id": "676268e3-671f-4eae-954f-97177214d4c5",
   "metadata": {},
   "outputs": [
    {
     "data": {
      "text/plain": [
       "0.9141447418732891"
      ]
     },
     "execution_count": 86,
     "metadata": {},
     "output_type": "execute_result"
    }
   ],
   "source": [
    "ridge_grid_scores = cross_val_score(ridge_grid, X_train, y_train, cv=5)\n",
    "ridge_grid_scores.mean()"
   ]
  },
  {
   "cell_type": "code",
   "execution_count": 87,
   "id": "5b1e7cda-135a-43f0-a25c-bd0e81ffdc06",
   "metadata": {},
   "outputs": [
    {
     "data": {
      "text/plain": [
       "0.8950168463568338"
      ]
     },
     "execution_count": 87,
     "metadata": {},
     "output_type": "execute_result"
    }
   ],
   "source": [
    "test_ridge_grid_scores = cross_val_score(ridge_grid, X_test, y_test, cv=5)\n",
    "test_ridge_grid_scores.mean()"
   ]
  },
  {
   "cell_type": "code",
   "execution_count": null,
   "id": "0819a70a-6f30-416d-8236-329886bba17c",
   "metadata": {},
   "outputs": [],
   "source": []
  }
 ],
 "metadata": {
  "kernelspec": {
   "display_name": "Python [conda env:dsi]",
   "language": "python",
   "name": "conda-env-dsi-py"
  },
  "language_info": {
   "codemirror_mode": {
    "name": "ipython",
    "version": 3
   },
   "file_extension": ".py",
   "mimetype": "text/x-python",
   "name": "python",
   "nbconvert_exporter": "python",
   "pygments_lexer": "ipython3",
   "version": "3.9.7"
  }
 },
 "nbformat": 4,
 "nbformat_minor": 5
}
